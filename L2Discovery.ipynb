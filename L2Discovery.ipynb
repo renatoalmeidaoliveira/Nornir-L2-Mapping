{
 "cells": [
  {
   "cell_type": "markdown",
   "metadata": {},
   "source": [
    "# Lab environment"
   ]
  },
  {
   "cell_type": "markdown",
   "metadata": {},
   "source": [
    "|LIBRARY|VERSION|\n",
    "|--|--|\n",
    "|nornir| 3.0.0|\n",
    "|nornir-napalm|0.1.1|\n",
    "|nornir-netmiko|0.1.1|\n",
    "|nornir-utils|0.1.1|\n",
    "|paramiko|2.7.2|\n",
    "|requests|2.24.0|\n",
    "|networkx|2.5|\n",
    "|genie|20.10|\n",
    "|pyats|20.10|\n",
    "|matplotlib|3.3.3|"
   ]
  },
  {
   "cell_type": "markdown",
   "metadata": {},
   "source": [
    "### Lab Scenario\n",
    "\n",
    "![LAB](diagram.png)"
   ]
  },
  {
   "cell_type": "markdown",
   "metadata": {},
   "source": [
    "# Gathering Data"
   ]
  },
  {
   "cell_type": "markdown",
   "metadata": {},
   "source": [
    "## Collecting the devices operational status without a parser"
   ]
  },
  {
   "cell_type": "code",
   "execution_count": 1,
   "metadata": {},
   "outputs": [],
   "source": [
    "from nornir import InitNornir\n",
    "from nornir_netmiko.tasks import netmiko_send_command\n",
    "from nornir_utils.plugins.functions import print_result"
   ]
  },
  {
   "cell_type": "code",
   "execution_count": 2,
   "metadata": {},
   "outputs": [],
   "source": [
    "nr = InitNornir()"
   ]
  },
  {
   "cell_type": "markdown",
   "metadata": {},
   "source": [
    "Listing the inventory's hosts"
   ]
  },
  {
   "cell_type": "code",
   "execution_count": 3,
   "metadata": {},
   "outputs": [
    {
     "data": {
      "text/plain": [
       "{'SW1': Host: SW1,\n",
       " 'SW2': Host: SW2,\n",
       " 'SW3': Host: SW3,\n",
       " 'SW4': Host: SW4,\n",
       " 'SW5': Host: SW5,\n",
       " 'SW6': Host: SW6,\n",
       " 'SW7': Host: SW7}"
      ]
     },
     "execution_count": 3,
     "metadata": {},
     "output_type": "execute_result"
    }
   ],
   "source": [
    "nr.inventory.hosts"
   ]
  },
  {
   "cell_type": "markdown",
   "metadata": {},
   "source": [
    "Collecting CDP and VLAN data"
   ]
  },
  {
   "cell_type": "code",
   "execution_count": 4,
   "metadata": {},
   "outputs": [],
   "source": [
    "getCDPNeighborsData = nr.run(\n",
    "    name=\"get CDP neighbors data\",\n",
    "    task= netmiko_send_command,\n",
    "    command_string = \"show cdp neighbors detail\"\n",
    ")\n",
    "getVLANData = nr.run(\n",
    "    name=\"get VLAN data\",\n",
    "    task= netmiko_send_command,\n",
    "    command_string = \"show vlan\"\n",
    ")"
   ]
  },
  {
   "cell_type": "markdown",
   "metadata": {},
   "source": [
    "Printing the results"
   ]
  },
  {
   "cell_type": "code",
   "execution_count": 5,
   "metadata": {},
   "outputs": [
    {
     "name": "stdout",
     "output_type": "stream",
     "text": [
      "\u001b[1m\u001b[36mget CDP neighbors data**********************************************************\u001b[0m\n",
      "\u001b[0m\u001b[1m\u001b[34m* SW1 ** changed : False *******************************************************\u001b[0m\n",
      "\u001b[0m\u001b[1m\u001b[32mvvvv get CDP neighbors data ** changed : False vvvvvvvvvvvvvvvvvvvvvvvvvvvvvvvvv INFO\u001b[0m\n",
      "\u001b[0m\n",
      "-------------------------\n",
      "Device ID: SW3.local\n",
      "Entry address(es): \n",
      "  IP address: 172.16.30.93\n",
      "Platform: Cisco ,  Capabilities: Router Switch IGMP \n",
      "Interface: GigabitEthernet0/1,  Port ID (outgoing port): GigabitEthernet0/2\n",
      "Holdtime : 134 sec\n",
      "\n",
      "Version :\n",
      "Cisco IOS Software, vios_l2 Software (vios_l2-ADVENTERPRISEK9-M), Version 15.2(CML_NIGHTLY_20180619)FLO_DSGS7, EARLY DEPLOYMENT DEVELOPMENT BUILD, synced to  V152_6_0_81_E\n",
      "Technical Support: http://www.cisco.com/techsupport\n",
      "Copyright (c) 1986-2018 by Cisco Systems, Inc.\n",
      "Compiled Tue 19-Jun-18 06:06 by mmen\n",
      "\n",
      "advertisement version: 2\n",
      "VTP Management Domain: ''\n",
      "Native VLAN: 1\n",
      "Duplex: full\n",
      "Management address(es): \n",
      "  IP address: 172.16.30.93\n",
      "\n",
      "\n",
      "Total cdp entries displayed : 1\u001b[0m\n",
      "\u001b[0m\u001b[1m\u001b[32m^^^^ END get CDP neighbors data ^^^^^^^^^^^^^^^^^^^^^^^^^^^^^^^^^^^^^^^^^^^^^^^^\u001b[0m\n",
      "\u001b[0m\u001b[1m\u001b[34m* SW2 ** changed : False *******************************************************\u001b[0m\n",
      "\u001b[0m\u001b[1m\u001b[32mvvvv get CDP neighbors data ** changed : False vvvvvvvvvvvvvvvvvvvvvvvvvvvvvvvvv INFO\u001b[0m\n",
      "\u001b[0m-------------------------\n",
      "Device ID: SW3.local\n",
      "Entry address(es): \n",
      "  IP address: 172.16.30.93\n",
      "Platform: Cisco ,  Capabilities: Router Switch IGMP \n",
      "Interface: GigabitEthernet0/1,  Port ID (outgoing port): GigabitEthernet0/1\n",
      "Holdtime : 156 sec\n",
      "\n",
      "Version :\n",
      "Cisco IOS Software, vios_l2 Software (vios_l2-ADVENTERPRISEK9-M), Version 15.2(CML_NIGHTLY_20180619)FLO_DSGS7, EARLY DEPLOYMENT DEVELOPMENT BUILD, synced to  V152_6_0_81_E\n",
      "Technical Support: http://www.cisco.com/techsupport\n",
      "Copyright (c) 1986-2018 by Cisco Systems, Inc.\n",
      "Compiled Tue 19-Jun-18 06:06 by mmen\n",
      "\n",
      "advertisement version: 2\n",
      "VTP Management Domain: ''\n",
      "Native VLAN: 1\n",
      "Duplex: full\n",
      "Management address(es): \n",
      "  IP address: 172.16.30.93\n",
      "\n",
      "\n",
      "Total cdp entries displayed : 1\u001b[0m\n",
      "\u001b[0m\u001b[1m\u001b[32m^^^^ END get CDP neighbors data ^^^^^^^^^^^^^^^^^^^^^^^^^^^^^^^^^^^^^^^^^^^^^^^^\u001b[0m\n",
      "\u001b[0m\u001b[1m\u001b[34m* SW3 ** changed : False *******************************************************\u001b[0m\n",
      "\u001b[0m\u001b[1m\u001b[32mvvvv get CDP neighbors data ** changed : False vvvvvvvvvvvvvvvvvvvvvvvvvvvvvvvvv INFO\u001b[0m\n",
      "\u001b[0m\n",
      "-------------------------\n",
      "Device ID: SW4.local\n",
      "Entry address(es): \n",
      "  IP address: 172.16.30.94\n",
      "Platform: Cisco ,  Capabilities: Router Switch IGMP \n",
      "Interface: GigabitEthernet0/3,  Port ID (outgoing port): GigabitEthernet0/1\n",
      "Holdtime : 143 sec\n",
      "\n",
      "Version :\n",
      "Cisco IOS Software, vios_l2 Software (vios_l2-ADVENTERPRISEK9-M), Version 15.2(CML_NIGHTLY_20180619)FLO_DSGS7, EARLY DEPLOYMENT DEVELOPMENT BUILD, synced to  V152_6_0_81_E\n",
      "Technical Support: http://www.cisco.com/techsupport\n",
      "Copyright (c) 1986-2018 by Cisco Systems, Inc.\n",
      "Compiled Tue 19-Jun-18 06:06 by mmen\n",
      "\n",
      "advertisement version: 2\n",
      "VTP Management Domain: ''\n",
      "Native VLAN: 1\n",
      "Duplex: full\n",
      "Management address(es): \n",
      "  IP address: 172.16.30.94\n",
      "\n",
      "-------------------------\n",
      "Device ID: SW2.local\n",
      "Entry address(es): \n",
      "  IP address: 172.16.30.92\n",
      "Platform: Cisco ,  Capabilities: Router Switch IGMP \n",
      "Interface: GigabitEthernet0/1,  Port ID (outgoing port): GigabitEthernet0/1\n",
      "Holdtime : 175 sec\n",
      "\n",
      "Version :\n",
      "Cisco IOS Software, vios_l2 Software (vios_l2-ADVENTERPRISEK9-M), Version 15.2(CML_NIGHTLY_20180619)FLO_DSGS7, EARLY DEPLOYMENT DEVELOPMENT BUILD, synced to  V152_6_0_81_E\n",
      "Technical Support: http://www.cisco.com/techsupport\n",
      "Copyright (c) 1986-2018 by Cisco Systems, Inc.\n",
      "Compiled Tue 19-Jun-18 06:06 by mmen\n",
      "\n",
      "advertisement version: 2\n",
      "VTP Management Domain: ''\n",
      "Native VLAN: 1\n",
      "Duplex: full\n",
      "Management address(es): \n",
      "  IP address: 172.16.30.92\n",
      "\n",
      "-------------------------\n",
      "Device ID: SW1.local\n",
      "Entry address(es): \n",
      "  IP address: 172.16.30.91\n",
      "Platform: Cisco ,  Capabilities: Router Switch IGMP \n",
      "Interface: GigabitEthernet0/2,  Port ID (outgoing port): GigabitEthernet0/1\n",
      "Holdtime : 170 sec\n",
      "\n",
      "Version :\n",
      "Cisco IOS Software, vios_l2 Software (vios_l2-ADVENTERPRISEK9-M), Version 15.2(CML_NIGHTLY_20180619)FLO_DSGS7, EARLY DEPLOYMENT DEVELOPMENT BUILD, synced to  V152_6_0_81_E\n",
      "Technical Support: http://www.cisco.com/techsupport\n",
      "Copyright (c) 1986-2018 by Cisco Systems, Inc.\n",
      "Compiled Tue 19-Jun-18 06:06 by mmen\n",
      "\n",
      "advertisement version: 2\n",
      "VTP Management Domain: ''\n",
      "Native VLAN: 1\n",
      "Duplex: full\n",
      "Management address(es): \n",
      "  IP address: 172.16.30.91\n",
      "\n",
      "\n",
      "Total cdp entries displayed : 3\u001b[0m\n",
      "\u001b[0m\u001b[1m\u001b[32m^^^^ END get CDP neighbors data ^^^^^^^^^^^^^^^^^^^^^^^^^^^^^^^^^^^^^^^^^^^^^^^^\u001b[0m\n",
      "\u001b[0m\u001b[1m\u001b[34m* SW4 ** changed : False *******************************************************\u001b[0m\n",
      "\u001b[0m\u001b[1m\u001b[32mvvvv get CDP neighbors data ** changed : False vvvvvvvvvvvvvvvvvvvvvvvvvvvvvvvvv INFO\u001b[0m\n",
      "\u001b[0m-------------------------\n",
      "Device ID: SW5.local\n",
      "Entry address(es): \n",
      "  IP address: 172.16.30.95\n",
      "Platform: Cisco ,  Capabilities: Router Switch IGMP \n",
      "Interface: GigabitEthernet0/2,  Port ID (outgoing port): GigabitEthernet0/1\n",
      "Holdtime : 129 sec\n",
      "\n",
      "Version :\n",
      "Cisco IOS Software, vios_l2 Software (vios_l2-ADVENTERPRISEK9-M), Version 15.2(CML_NIGHTLY_20180619)FLO_DSGS7, EARLY DEPLOYMENT DEVELOPMENT BUILD, synced to  V152_6_0_81_E\n",
      "Technical Support: http://www.cisco.com/techsupport\n",
      "Copyright (c) 1986-2018 by Cisco Systems, Inc.\n",
      "Compiled Tue 19-Jun-18 06:06 by mmen\n",
      "\n",
      "advertisement version: 2\n",
      "VTP Management Domain: ''\n",
      "Native VLAN: 1\n",
      "Duplex: full\n",
      "Management address(es): \n",
      "  IP address: 172.16.30.95\n",
      "\n",
      "-------------------------\n",
      "Device ID: SW3.local\n",
      "Entry address(es): \n",
      "  IP address: 172.16.30.93\n",
      "Platform: Cisco ,  Capabilities: Router Switch IGMP \n",
      "Interface: GigabitEthernet0/1,  Port ID (outgoing port): GigabitEthernet0/3\n",
      "Holdtime : 172 sec\n",
      "\n",
      "Version :\n",
      "Cisco IOS Software, vios_l2 Software (vios_l2-ADVENTERPRISEK9-M), Version 15.2(CML_NIGHTLY_20180619)FLO_DSGS7, EARLY DEPLOYMENT DEVELOPMENT BUILD, synced to  V152_6_0_81_E\n",
      "Technical Support: http://www.cisco.com/techsupport\n",
      "Copyright (c) 1986-2018 by Cisco Systems, Inc.\n",
      "Compiled Tue 19-Jun-18 06:06 by mmen\n",
      "\n",
      "advertisement version: 2\n",
      "VTP Management Domain: ''\n",
      "Native VLAN: 1\n",
      "Duplex: full\n",
      "Management address(es): \n",
      "  IP address: 172.16.30.93\n",
      "\n",
      "\n",
      "Total cdp entries displayed : 2\u001b[0m\n",
      "\u001b[0m\u001b[1m\u001b[32m^^^^ END get CDP neighbors data ^^^^^^^^^^^^^^^^^^^^^^^^^^^^^^^^^^^^^^^^^^^^^^^^\u001b[0m\n",
      "\u001b[0m\u001b[1m\u001b[34m* SW5 ** changed : False *******************************************************\u001b[0m\n",
      "\u001b[0m\u001b[1m\u001b[32mvvvv get CDP neighbors data ** changed : False vvvvvvvvvvvvvvvvvvvvvvvvvvvvvvvvv INFO\u001b[0m\n",
      "\u001b[0m-------------------------\n",
      "Device ID: SW7.local\n",
      "Entry address(es): \n",
      "  IP address: 172.16.30.97\n",
      "Platform: Cisco ,  Capabilities: Router Switch IGMP \n",
      "Interface: GigabitEthernet0/3,  Port ID (outgoing port): GigabitEthernet0/1\n",
      "Holdtime : 134 sec\n",
      "\n",
      "Version :\n",
      "Cisco IOS Software, vios_l2 Software (vios_l2-ADVENTERPRISEK9-M), Version 15.2(CML_NIGHTLY_20180619)FLO_DSGS7, EARLY DEPLOYMENT DEVELOPMENT BUILD, synced to  V152_6_0_81_E\n",
      "Technical Support: http://www.cisco.com/techsupport\n",
      "Copyright (c) 1986-2018 by Cisco Systems, Inc.\n",
      "Compiled Tue 19-Jun-18 06:06 by mmen\n",
      "\n",
      "advertisement version: 2\n",
      "VTP Management Domain: ''\n",
      "Native VLAN: 1\n",
      "Duplex: full\n",
      "Management address(es): \n",
      "  IP address: 172.16.30.97\n",
      "\n",
      "-------------------------\n",
      "Device ID: SW6.local\n",
      "Entry address(es): \n",
      "  IP address: 172.16.30.96\n",
      "Platform: Cisco ,  Capabilities: Router Switch IGMP \n",
      "Interface: GigabitEthernet0/2,  Port ID (outgoing port): GigabitEthernet0/1\n",
      "Holdtime : 132 sec\n",
      "\n",
      "Version :\n",
      "Cisco IOS Software, vios_l2 Software (vios_l2-ADVENTERPRISEK9-M), Version 15.2(CML_NIGHTLY_20180619)FLO_DSGS7, EARLY DEPLOYMENT DEVELOPMENT BUILD, synced to  V152_6_0_81_E\n",
      "Technical Support: http://www.cisco.com/techsupport\n",
      "Copyright (c) 1986-2018 by Cisco Systems, Inc.\n",
      "Compiled Tue 19-Jun-18 06:06 by mmen\n",
      "\n",
      "advertisement version: 2\n",
      "VTP Management Domain: ''\n",
      "Native VLAN: 1\n",
      "Duplex: full\n",
      "Management address(es): \n",
      "  IP address: 172.16.30.96\n",
      "\n",
      "-------------------------\n",
      "Device ID: SW4.local\n",
      "Entry address(es): \n",
      "  IP address: 172.16.30.94\n",
      "Platform: Cisco ,  Capabilities: Router Switch IGMP \n",
      "Interface: GigabitEthernet0/1,  Port ID (outgoing port): GigabitEthernet0/2\n",
      "Holdtime : 124 sec\n",
      "\n",
      "Version :\n",
      "Cisco IOS Software, vios_l2 Software (vios_l2-ADVENTERPRISEK9-M), Version 15.2(CML_NIGHTLY_20180619)FLO_DSGS7, EARLY DEPLOYMENT DEVELOPMENT BUILD, synced to  V152_6_0_81_E\n",
      "Technical Support: http://www.cisco.com/techsupport\n",
      "Copyright (c) 1986-2018 by Cisco Systems, Inc.\n",
      "Compiled Tue 19-Jun-18 06:06 by mmen\n",
      "\n",
      "advertisement version: 2\n",
      "VTP Management Domain: ''\n",
      "Native VLAN: 1\n",
      "Duplex: full\n",
      "Management address(es): \n",
      "  IP address: 172.16.30.94\n",
      "\n",
      "\n",
      "Total cdp entries displayed : 3\u001b[0m\n",
      "\u001b[0m\u001b[1m\u001b[32m^^^^ END get CDP neighbors data ^^^^^^^^^^^^^^^^^^^^^^^^^^^^^^^^^^^^^^^^^^^^^^^^\u001b[0m\n",
      "\u001b[0m\u001b[1m\u001b[34m* SW6 ** changed : False *******************************************************\u001b[0m\n",
      "\u001b[0m\u001b[1m\u001b[32mvvvv get CDP neighbors data ** changed : False vvvvvvvvvvvvvvvvvvvvvvvvvvvvvvvvv INFO\u001b[0m\n",
      "\u001b[0m\n",
      "-------------------------\n",
      "Device ID: SW5.local\n",
      "Entry address(es): \n",
      "  IP address: 172.16.30.95\n",
      "Platform: Cisco ,  Capabilities: Router Switch IGMP \n",
      "Interface: GigabitEthernet0/1,  Port ID (outgoing port): GigabitEthernet0/2\n",
      "Holdtime : 148 sec\n",
      "\n",
      "Version :\n",
      "Cisco IOS Software, vios_l2 Software (vios_l2-ADVENTERPRISEK9-M), Version 15.2(CML_NIGHTLY_20180619)FLO_DSGS7, EARLY DEPLOYMENT DEVELOPMENT BUILD, synced to  V152_6_0_81_E\n",
      "Technical Support: http://www.cisco.com/techsupport\n",
      "Copyright (c) 1986-2018 by Cisco Systems, Inc.\n",
      "Compiled Tue 19-Jun-18 06:06 by mmen\n",
      "\n",
      "advertisement version: 2\n",
      "VTP Management Domain: ''\n",
      "Native VLAN: 1\n",
      "Duplex: full\n",
      "Management address(es): \n",
      "  IP address: 172.16.30.95\n",
      "\n",
      "\n",
      "Total cdp entries displayed : 1\u001b[0m\n",
      "\u001b[0m\u001b[1m\u001b[32m^^^^ END get CDP neighbors data ^^^^^^^^^^^^^^^^^^^^^^^^^^^^^^^^^^^^^^^^^^^^^^^^\u001b[0m\n",
      "\u001b[0m\u001b[1m\u001b[34m* SW7 ** changed : False *******************************************************\u001b[0m\n",
      "\u001b[0m\u001b[1m\u001b[32mvvvv get CDP neighbors data ** changed : False vvvvvvvvvvvvvvvvvvvvvvvvvvvvvvvvv INFO\u001b[0m\n",
      "\u001b[0m\n",
      "-------------------------\n",
      "Device ID: SW5.local\n",
      "Entry address(es): \n",
      "  IP address: 172.16.30.95\n",
      "Platform: Cisco ,  Capabilities: Router Switch IGMP \n",
      "Interface: GigabitEthernet0/1,  Port ID (outgoing port): GigabitEthernet0/3\n",
      "Holdtime : 145 sec\n",
      "\n",
      "Version :\n",
      "Cisco IOS Software, vios_l2 Software (vios_l2-ADVENTERPRISEK9-M), Version 15.2(CML_NIGHTLY_20180619)FLO_DSGS7, EARLY DEPLOYMENT DEVELOPMENT BUILD, synced to  V152_6_0_81_E\n",
      "Technical Support: http://www.cisco.com/techsupport\n",
      "Copyright (c) 1986-2018 by Cisco Systems, Inc.\n",
      "Compiled Tue 19-Jun-18 06:06 by mmen\n",
      "\n",
      "advertisement version: 2\n",
      "VTP Management Domain: ''\n",
      "Native VLAN: 1\n",
      "Duplex: full\n",
      "Management address(es): \n",
      "  IP address: 172.16.30.95\n",
      "\n",
      "\n",
      "Total cdp entries displayed : 1\u001b[0m\n",
      "\u001b[0m\u001b[1m\u001b[32m^^^^ END get CDP neighbors data ^^^^^^^^^^^^^^^^^^^^^^^^^^^^^^^^^^^^^^^^^^^^^^^^\u001b[0m\n",
      "\u001b[0m"
     ]
    }
   ],
   "source": [
    "print_result(getCDPNeighborsData)"
   ]
  },
  {
   "cell_type": "code",
   "execution_count": 6,
   "metadata": {},
   "outputs": [
    {
     "name": "stdout",
     "output_type": "stream",
     "text": [
      "\u001b[1m\u001b[36mget VLAN data*******************************************************************\u001b[0m\n",
      "\u001b[0m\u001b[1m\u001b[34m* SW1 ** changed : False *******************************************************\u001b[0m\n",
      "\u001b[0m\u001b[1m\u001b[32mvvvv get VLAN data ** changed : False vvvvvvvvvvvvvvvvvvvvvvvvvvvvvvvvvvvvvvvvvv INFO\u001b[0m\n",
      "\u001b[0m\n",
      "\n",
      "VLAN Name                             Status    Ports\n",
      "---- -------------------------------- --------- -------------------------------\n",
      "1    default                          active    Gi0/1\n",
      "10   VLAN0010                         active    \n",
      "1002 fddi-default                     act/unsup \n",
      "1003 token-ring-default               act/unsup \n",
      "1004 fddinet-default                  act/unsup \n",
      "1005 trnet-default                    act/unsup \n",
      "\n",
      "VLAN Type  SAID       MTU   Parent RingNo BridgeNo Stp  BrdgMode Trans1 Trans2\n",
      "---- ----- ---------- ----- ------ ------ -------- ---- -------- ------ ------\n",
      "1    enet  100001     1500  -      -      -        -    -        0      0   \n",
      "10   enet  100010     1500  -      -      -        -    -        0      0   \n",
      "1002 fddi  101002     1500  -      -      -        -    -        0      0   \n",
      "1003 tr    101003     1500  -      -      -        -    -        0      0   \n",
      "1004 fdnet 101004     1500  -      -      -        ieee -        0      0   \n",
      "1005 trnet 101005     1500  -      -      -        ibm  -        0      0   \n",
      "\n",
      "Remote SPAN VLANs\n",
      "------------------------------------------------------------------------------\n",
      "\n",
      "\n",
      "Primary Secondary Type              Ports\n",
      "------- --------- ----------------- ------------------------------------------\n",
      "\u001b[0m\n",
      "\u001b[0m\u001b[1m\u001b[32m^^^^ END get VLAN data ^^^^^^^^^^^^^^^^^^^^^^^^^^^^^^^^^^^^^^^^^^^^^^^^^^^^^^^^^\u001b[0m\n",
      "\u001b[0m\u001b[1m\u001b[34m* SW2 ** changed : False *******************************************************\u001b[0m\n",
      "\u001b[0m\u001b[1m\u001b[32mvvvv get VLAN data ** changed : False vvvvvvvvvvvvvvvvvvvvvvvvvvvvvvvvvvvvvvvvvv INFO\u001b[0m\n",
      "\u001b[0m\n",
      "VLAN Name                             Status    Ports\n",
      "---- -------------------------------- --------- -------------------------------\n",
      "1    default                          active    Gi0/1\n",
      "10   VLAN0010                         active    \n",
      "1002 fddi-default                     act/unsup \n",
      "1003 token-ring-default               act/unsup \n",
      "1004 fddinet-default                  act/unsup \n",
      "1005 trnet-default                    act/unsup \n",
      "\n",
      "VLAN Type  SAID       MTU   Parent RingNo BridgeNo Stp  BrdgMode Trans1 Trans2\n",
      "---- ----- ---------- ----- ------ ------ -------- ---- -------- ------ ------\n",
      "1    enet  100001     1500  -      -      -        -    -        0      0   \n",
      "10   enet  100010     1500  -      -      -        -    -        0      0   \n",
      "1002 fddi  101002     1500  -      -      -        -    -        0      0   \n",
      "1003 tr    101003     1500  -      -      -        -    -        0      0   \n",
      "1004 fdnet 101004     1500  -      -      -        ieee -        0      0   \n",
      "1005 trnet 101005     1500  -      -      -        ibm  -        0      0   \n",
      "\n",
      "Remote SPAN VLANs\n",
      "------------------------------------------------------------------------------\n",
      "\n",
      "\n",
      "Primary Secondary Type              Ports\n",
      "------- --------- ----------------- ------------------------------------------\n",
      "\u001b[0m\n",
      "\u001b[0m\u001b[1m\u001b[32m^^^^ END get VLAN data ^^^^^^^^^^^^^^^^^^^^^^^^^^^^^^^^^^^^^^^^^^^^^^^^^^^^^^^^^\u001b[0m\n",
      "\u001b[0m\u001b[1m\u001b[34m* SW3 ** changed : False *******************************************************\u001b[0m\n",
      "\u001b[0m\u001b[1m\u001b[32mvvvv get VLAN data ** changed : False vvvvvvvvvvvvvvvvvvvvvvvvvvvvvvvvvvvvvvvvvv INFO\u001b[0m\n",
      "\u001b[0m\n",
      "\n",
      "VLAN Name                             Status    Ports\n",
      "---- -------------------------------- --------- -------------------------------\n",
      "1    default                          active    Gi0/1, Gi0/2, Gi0/3\n",
      "10   VLAN0010                         active    \n",
      "1002 fddi-default                     act/unsup \n",
      "1003 token-ring-default               act/unsup \n",
      "1004 fddinet-default                  act/unsup \n",
      "1005 trnet-default                    act/unsup \n",
      "\n",
      "VLAN Type  SAID       MTU   Parent RingNo BridgeNo Stp  BrdgMode Trans1 Trans2\n",
      "---- ----- ---------- ----- ------ ------ -------- ---- -------- ------ ------\n",
      "1    enet  100001     1500  -      -      -        -    -        0      0   \n",
      "10   enet  100010     1500  -      -      -        -    -        0      0   \n",
      "1002 fddi  101002     1500  -      -      -        -    -        0      0   \n",
      "1003 tr    101003     1500  -      -      -        -    -        0      0   \n",
      "1004 fdnet 101004     1500  -      -      -        ieee -        0      0   \n",
      "1005 trnet 101005     1500  -      -      -        ibm  -        0      0   \n",
      "\n",
      "Remote SPAN VLANs\n",
      "------------------------------------------------------------------------------\n",
      "\n",
      "\n",
      "Primary Secondary Type              Ports\n",
      "------- --------- ----------------- ------------------------------------------\n",
      "\u001b[0m\n",
      "\u001b[0m\u001b[1m\u001b[32m^^^^ END get VLAN data ^^^^^^^^^^^^^^^^^^^^^^^^^^^^^^^^^^^^^^^^^^^^^^^^^^^^^^^^^\u001b[0m\n",
      "\u001b[0m\u001b[1m\u001b[34m* SW4 ** changed : False *******************************************************\u001b[0m\n",
      "\u001b[0m\u001b[1m\u001b[32mvvvv get VLAN data ** changed : False vvvvvvvvvvvvvvvvvvvvvvvvvvvvvvvvvvvvvvvvvv INFO\u001b[0m\n",
      "\u001b[0m\n",
      "\n",
      "VLAN Name                             Status    Ports\n",
      "---- -------------------------------- --------- -------------------------------\n",
      "1    default                          active    Gi0/1, Gi0/2\n",
      "1002 fddi-default                     act/unsup \n",
      "1003 token-ring-default               act/unsup \n",
      "1004 fddinet-default                  act/unsup \n",
      "1005 trnet-default                    act/unsup \n",
      "\n",
      "VLAN Type  SAID       MTU   Parent RingNo BridgeNo Stp  BrdgMode Trans1 Trans2\n",
      "---- ----- ---------- ----- ------ ------ -------- ---- -------- ------ ------\n",
      "1    enet  100001     1500  -      -      -        -    -        0      0   \n",
      "1002 fddi  101002     1500  -      -      -        -    -        0      0   \n",
      "1003 tr    101003     1500  -      -      -        -    -        0      0   \n",
      "1004 fdnet 101004     1500  -      -      -        ieee -        0      0   \n",
      "1005 trnet 101005     1500  -      -      -        ibm  -        0      0   \n",
      "\n",
      "Remote SPAN VLANs\n",
      "------------------------------------------------------------------------------\n",
      "\n",
      "\n",
      "Primary Secondary Type              Ports\n",
      "------- --------- ----------------- ------------------------------------------\n",
      "\u001b[0m\n",
      "\u001b[0m\u001b[1m\u001b[32m^^^^ END get VLAN data ^^^^^^^^^^^^^^^^^^^^^^^^^^^^^^^^^^^^^^^^^^^^^^^^^^^^^^^^^\u001b[0m\n",
      "\u001b[0m\u001b[1m\u001b[34m* SW5 ** changed : False *******************************************************\u001b[0m\n",
      "\u001b[0m\u001b[1m\u001b[32mvvvv get VLAN data ** changed : False vvvvvvvvvvvvvvvvvvvvvvvvvvvvvvvvvvvvvvvvvv INFO\u001b[0m\n",
      "\u001b[0m\n",
      "VLAN Name                             Status    Ports\n",
      "---- -------------------------------- --------- -------------------------------\n",
      "1    default                          active    Gi0/1, Gi0/2, Gi0/3\n",
      "10   VLAN0010                         active    \n",
      "20   VLAN0020                         active    \n",
      "1002 fddi-default                     act/unsup \n",
      "1003 token-ring-default               act/unsup \n",
      "1004 fddinet-default                  act/unsup \n",
      "1005 trnet-default                    act/unsup \n",
      "\n",
      "VLAN Type  SAID       MTU   Parent RingNo BridgeNo Stp  BrdgMode Trans1 Trans2\n",
      "---- ----- ---------- ----- ------ ------ -------- ---- -------- ------ ------\n",
      "1    enet  100001     1500  -      -      -        -    -        0      0   \n",
      "10   enet  100010     1500  -      -      -        -    -        0      0   \n",
      "20   enet  100020     1500  -      -      -        -    -        0      0   \n",
      "1002 fddi  101002     1500  -      -      -        -    -        0      0   \n",
      "1003 tr    101003     1500  -      -      -        -    -        0      0   \n",
      "1004 fdnet 101004     1500  -      -      -        ieee -        0      0   \n",
      "1005 trnet 101005     1500  -      -      -        ibm  -        0      0   \n",
      "\n",
      "Remote SPAN VLANs\n",
      "------------------------------------------------------------------------------\n",
      "\n",
      "\n",
      "Primary Secondary Type              Ports\n",
      "------- --------- ----------------- ------------------------------------------\n",
      "\u001b[0m\n",
      "\u001b[0m\u001b[1m\u001b[32m^^^^ END get VLAN data ^^^^^^^^^^^^^^^^^^^^^^^^^^^^^^^^^^^^^^^^^^^^^^^^^^^^^^^^^\u001b[0m\n",
      "\u001b[0m\u001b[1m\u001b[34m* SW6 ** changed : False *******************************************************\u001b[0m\n",
      "\u001b[0m\u001b[1m\u001b[32mvvvv get VLAN data ** changed : False vvvvvvvvvvvvvvvvvvvvvvvvvvvvvvvvvvvvvvvvvv INFO\u001b[0m\n",
      "\u001b[0m\n",
      "\n",
      "VLAN Name                             Status    Ports\n",
      "---- -------------------------------- --------- -------------------------------\n",
      "1    default                          active    Gi0/1\n",
      "10   VLAN0010                         active    \n",
      "1002 fddi-default                     act/unsup \n",
      "1003 token-ring-default               act/unsup \n",
      "1004 fddinet-default                  act/unsup \n",
      "1005 trnet-default                    act/unsup \n",
      "\n",
      "VLAN Type  SAID       MTU   Parent RingNo BridgeNo Stp  BrdgMode Trans1 Trans2\n",
      "---- ----- ---------- ----- ------ ------ -------- ---- -------- ------ ------\n",
      "1    enet  100001     1500  -      -      -        -    -        0      0   \n",
      "10   enet  100010     1500  -      -      -        -    -        0      0   \n",
      "1002 fddi  101002     1500  -      -      -        -    -        0      0   \n",
      "1003 tr    101003     1500  -      -      -        -    -        0      0   \n",
      "1004 fdnet 101004     1500  -      -      -        ieee -        0      0   \n",
      "1005 trnet 101005     1500  -      -      -        ibm  -        0      0   \n",
      "\n",
      "Remote SPAN VLANs\n",
      "------------------------------------------------------------------------------\n",
      "\n",
      "\n",
      "Primary Secondary Type              Ports\n",
      "------- --------- ----------------- ------------------------------------------\n",
      "\u001b[0m\n",
      "\u001b[0m\u001b[1m\u001b[32m^^^^ END get VLAN data ^^^^^^^^^^^^^^^^^^^^^^^^^^^^^^^^^^^^^^^^^^^^^^^^^^^^^^^^^\u001b[0m\n",
      "\u001b[0m\u001b[1m\u001b[34m* SW7 ** changed : False *******************************************************\u001b[0m\n",
      "\u001b[0m\u001b[1m\u001b[32mvvvv get VLAN data ** changed : False vvvvvvvvvvvvvvvvvvvvvvvvvvvvvvvvvvvvvvvvvv INFO\u001b[0m\n",
      "\u001b[0m\n",
      "\n",
      "VLAN Name                             Status    Ports\n",
      "---- -------------------------------- --------- -------------------------------\n",
      "1    default                          active    Gi0/1\n",
      "20   VLAN0020                         active    \n",
      "1002 fddi-default                     act/unsup \n",
      "1003 token-ring-default               act/unsup \n",
      "1004 fddinet-default                  act/unsup \n",
      "1005 trnet-default                    act/unsup \n",
      "\n",
      "VLAN Type  SAID       MTU   Parent RingNo BridgeNo Stp  BrdgMode Trans1 Trans2\n",
      "---- ----- ---------- ----- ------ ------ -------- ---- -------- ------ ------\n",
      "1    enet  100001     1500  -      -      -        -    -        0      0   \n",
      "20   enet  100020     1500  -      -      -        -    -        0      0   \n",
      "1002 fddi  101002     1500  -      -      -        -    -        0      0   \n",
      "1003 tr    101003     1500  -      -      -        -    -        0      0   \n",
      "1004 fdnet 101004     1500  -      -      -        ieee -        0      0   \n",
      "1005 trnet 101005     1500  -      -      -        ibm  -        0      0   \n",
      "\n",
      "Remote SPAN VLANs\n",
      "------------------------------------------------------------------------------\n",
      "\n",
      "\n",
      "Primary Secondary Type              Ports\n",
      "------- --------- ----------------- ------------------------------------------\n",
      "\u001b[0m\n",
      "\u001b[0m\u001b[1m\u001b[32m^^^^ END get VLAN data ^^^^^^^^^^^^^^^^^^^^^^^^^^^^^^^^^^^^^^^^^^^^^^^^^^^^^^^^^\u001b[0m\n",
      "\u001b[0m"
     ]
    }
   ],
   "source": [
    "print_result(getVLANData)"
   ]
  },
  {
   "cell_type": "markdown",
   "metadata": {},
   "source": [
    "## Using Parsers"
   ]
  },
  {
   "cell_type": "markdown",
   "metadata": {},
   "source": [
    "### Only CISCO"
   ]
  },
  {
   "cell_type": "code",
   "execution_count": 7,
   "metadata": {},
   "outputs": [],
   "source": [
    "getCDPNeighbors_genie = nr.run(\n",
    "    name=\"get CDP neighbors data\",\n",
    "    task= netmiko_send_command,\n",
    "    command_string = \"show cdp neighbors detail\",\n",
    "    use_genie = True\n",
    ")"
   ]
  },
  {
   "cell_type": "code",
   "execution_count": 8,
   "metadata": {},
   "outputs": [
    {
     "name": "stdout",
     "output_type": "stream",
     "text": [
      "\u001b[1m\u001b[36mget CDP neighbors data**********************************************************\u001b[0m\n",
      "\u001b[0m\u001b[1m\u001b[34m* SW1 ** changed : False *******************************************************\u001b[0m\n",
      "\u001b[0m\u001b[1m\u001b[32mvvvv get CDP neighbors data ** changed : False vvvvvvvvvvvvvvvvvvvvvvvvvvvvvvvvv INFO\u001b[0m\n",
      "\u001b[0m{\u001b[0m \u001b[0m'index'\u001b[0m: \u001b[0m{\u001b[0m \u001b[0m1\u001b[0m: \u001b[0m{\u001b[0m \u001b[0m'advertisement_ver'\u001b[0m: \u001b[0m2\u001b[0m,\n",
      "                  \u001b[0m'capabilities'\u001b[0m: \u001b[0m'Router Switch IGMP'\u001b[0m,\n",
      "                  \u001b[0m'device_id'\u001b[0m: \u001b[0m'SW3.local'\u001b[0m,\n",
      "                  \u001b[0m'duplex_mode'\u001b[0m: \u001b[0m'full'\u001b[0m,\n",
      "                  \u001b[0m'entry_addresses'\u001b[0m: \u001b[0m{'172.16.30.93': {}}\u001b[0m,\n",
      "                  \u001b[0m'hold_time'\u001b[0m: \u001b[0m151\u001b[0m,\n",
      "                  \u001b[0m'local_interface'\u001b[0m: \u001b[0m'GigabitEthernet0/1'\u001b[0m,\n",
      "                  \u001b[0m'management_addresses'\u001b[0m: \u001b[0m{'172.16.30.93': {}}\u001b[0m,\n",
      "                  \u001b[0m'native_vlan'\u001b[0m: \u001b[0m'1'\u001b[0m,\n",
      "                  \u001b[0m'platform'\u001b[0m: \u001b[0m'Cisco '\u001b[0m,\n",
      "                  \u001b[0m'port_id'\u001b[0m: \u001b[0m'GigabitEthernet0/2'\u001b[0m,\n",
      "                  \u001b[0m'software_version'\u001b[0m: \u001b[0m'Cisco IOS Software, vios_l2 Software '\u001b[0m\n",
      "                                      \u001b[0m'(vios_l2-ADVENTERPRISEK9-M), Version '\u001b[0m\n",
      "                                      \u001b[0m'15.2(CML_NIGHTLY_20180619)FLO_DSGS7, '\u001b[0m\n",
      "                                      \u001b[0m'EARLY DEPLOYMENT DEVELOPMENT BUILD, '\u001b[0m\n",
      "                                      \u001b[0m'synced to  V152_6_0_81_E\\n'\u001b[0m\n",
      "                                      \u001b[0m'Technical Support: '\u001b[0m\n",
      "                                      \u001b[0m'http://www.cisco.com/techsupport\\n'\u001b[0m\n",
      "                                      \u001b[0m'Copyright (c) 1986-2018 by Cisco '\u001b[0m\n",
      "                                      \u001b[0m'Systems, Inc.\\n'\u001b[0m\n",
      "                                      \u001b[0m'Compiled Tue 19-Jun-18 06:06 by mmen'\u001b[0m,\n",
      "                  \u001b[0m'vtp_management_domain'\u001b[0m: \u001b[0m' '\u001b[0m}\u001b[0m}\u001b[0m,\n",
      "  \u001b[0m'total_entries_displayed'\u001b[0m: \u001b[0m1\u001b[0m}\u001b[0m\n",
      "\u001b[0m\u001b[1m\u001b[32m^^^^ END get CDP neighbors data ^^^^^^^^^^^^^^^^^^^^^^^^^^^^^^^^^^^^^^^^^^^^^^^^\u001b[0m\n",
      "\u001b[0m\u001b[1m\u001b[34m* SW2 ** changed : False *******************************************************\u001b[0m\n",
      "\u001b[0m\u001b[1m\u001b[32mvvvv get CDP neighbors data ** changed : False vvvvvvvvvvvvvvvvvvvvvvvvvvvvvvvvv INFO\u001b[0m\n",
      "\u001b[0m{\u001b[0m \u001b[0m'index'\u001b[0m: \u001b[0m{\u001b[0m \u001b[0m1\u001b[0m: \u001b[0m{\u001b[0m \u001b[0m'advertisement_ver'\u001b[0m: \u001b[0m2\u001b[0m,\n",
      "                  \u001b[0m'capabilities'\u001b[0m: \u001b[0m'Router Switch IGMP'\u001b[0m,\n",
      "                  \u001b[0m'device_id'\u001b[0m: \u001b[0m'SW3.local'\u001b[0m,\n",
      "                  \u001b[0m'duplex_mode'\u001b[0m: \u001b[0m'full'\u001b[0m,\n",
      "                  \u001b[0m'entry_addresses'\u001b[0m: \u001b[0m{'172.16.30.93': {}}\u001b[0m,\n",
      "                  \u001b[0m'hold_time'\u001b[0m: \u001b[0m178\u001b[0m,\n",
      "                  \u001b[0m'local_interface'\u001b[0m: \u001b[0m'GigabitEthernet0/1'\u001b[0m,\n",
      "                  \u001b[0m'management_addresses'\u001b[0m: \u001b[0m{'172.16.30.93': {}}\u001b[0m,\n",
      "                  \u001b[0m'native_vlan'\u001b[0m: \u001b[0m'1'\u001b[0m,\n",
      "                  \u001b[0m'platform'\u001b[0m: \u001b[0m'Cisco '\u001b[0m,\n",
      "                  \u001b[0m'port_id'\u001b[0m: \u001b[0m'GigabitEthernet0/1'\u001b[0m,\n",
      "                  \u001b[0m'software_version'\u001b[0m: \u001b[0m'Cisco IOS Software, vios_l2 Software '\u001b[0m\n",
      "                                      \u001b[0m'(vios_l2-ADVENTERPRISEK9-M), Version '\u001b[0m\n",
      "                                      \u001b[0m'15.2(CML_NIGHTLY_20180619)FLO_DSGS7, '\u001b[0m\n",
      "                                      \u001b[0m'EARLY DEPLOYMENT DEVELOPMENT BUILD, '\u001b[0m\n",
      "                                      \u001b[0m'synced to  V152_6_0_81_E\\n'\u001b[0m\n",
      "                                      \u001b[0m'Technical Support: '\u001b[0m\n",
      "                                      \u001b[0m'http://www.cisco.com/techsupport\\n'\u001b[0m\n",
      "                                      \u001b[0m'Copyright (c) 1986-2018 by Cisco '\u001b[0m\n",
      "                                      \u001b[0m'Systems, Inc.\\n'\u001b[0m\n",
      "                                      \u001b[0m'Compiled Tue 19-Jun-18 06:06 by mmen'\u001b[0m,\n",
      "                  \u001b[0m'vtp_management_domain'\u001b[0m: \u001b[0m' '\u001b[0m}\u001b[0m}\u001b[0m,\n",
      "  \u001b[0m'total_entries_displayed'\u001b[0m: \u001b[0m1\u001b[0m}\u001b[0m\n",
      "\u001b[0m\u001b[1m\u001b[32m^^^^ END get CDP neighbors data ^^^^^^^^^^^^^^^^^^^^^^^^^^^^^^^^^^^^^^^^^^^^^^^^\u001b[0m\n",
      "\u001b[0m\u001b[1m\u001b[34m* SW3 ** changed : False *******************************************************\u001b[0m\n",
      "\u001b[0m\u001b[1m\u001b[32mvvvv get CDP neighbors data ** changed : False vvvvvvvvvvvvvvvvvvvvvvvvvvvvvvvvv INFO\u001b[0m\n",
      "\u001b[0m{\u001b[0m \u001b[0m'index'\u001b[0m: \u001b[0m{\u001b[0m \u001b[0m1\u001b[0m: \u001b[0m{\u001b[0m \u001b[0m'advertisement_ver'\u001b[0m: \u001b[0m2\u001b[0m,\n",
      "                  \u001b[0m'capabilities'\u001b[0m: \u001b[0m'Router Switch IGMP'\u001b[0m,\n",
      "                  \u001b[0m'device_id'\u001b[0m: \u001b[0m'SW4.local'\u001b[0m,\n",
      "                  \u001b[0m'duplex_mode'\u001b[0m: \u001b[0m'full'\u001b[0m,\n",
      "                  \u001b[0m'entry_addresses'\u001b[0m: \u001b[0m{'172.16.30.94': {}}\u001b[0m,\n",
      "                  \u001b[0m'hold_time'\u001b[0m: \u001b[0m167\u001b[0m,\n",
      "                  \u001b[0m'local_interface'\u001b[0m: \u001b[0m'GigabitEthernet0/3'\u001b[0m,\n",
      "                  \u001b[0m'management_addresses'\u001b[0m: \u001b[0m{'172.16.30.94': {}}\u001b[0m,\n",
      "                  \u001b[0m'native_vlan'\u001b[0m: \u001b[0m'1'\u001b[0m,\n",
      "                  \u001b[0m'platform'\u001b[0m: \u001b[0m'Cisco '\u001b[0m,\n",
      "                  \u001b[0m'port_id'\u001b[0m: \u001b[0m'GigabitEthernet0/1'\u001b[0m,\n",
      "                  \u001b[0m'software_version'\u001b[0m: \u001b[0m'Cisco IOS Software, vios_l2 Software '\u001b[0m\n",
      "                                      \u001b[0m'(vios_l2-ADVENTERPRISEK9-M), Version '\u001b[0m\n",
      "                                      \u001b[0m'15.2(CML_NIGHTLY_20180619)FLO_DSGS7, '\u001b[0m\n",
      "                                      \u001b[0m'EARLY DEPLOYMENT DEVELOPMENT BUILD, '\u001b[0m\n",
      "                                      \u001b[0m'synced to  V152_6_0_81_E\\n'\u001b[0m\n",
      "                                      \u001b[0m'Technical Support: '\u001b[0m\n",
      "                                      \u001b[0m'http://www.cisco.com/techsupport\\n'\u001b[0m\n",
      "                                      \u001b[0m'Copyright (c) 1986-2018 by Cisco '\u001b[0m\n",
      "                                      \u001b[0m'Systems, Inc.\\n'\u001b[0m\n",
      "                                      \u001b[0m'Compiled Tue 19-Jun-18 06:06 by mmen'\u001b[0m,\n",
      "                  \u001b[0m'vtp_management_domain'\u001b[0m: \u001b[0m' '\u001b[0m}\u001b[0m,\n",
      "             \u001b[0m2\u001b[0m: \u001b[0m{\u001b[0m \u001b[0m'advertisement_ver'\u001b[0m: \u001b[0m2\u001b[0m,\n",
      "                  \u001b[0m'capabilities'\u001b[0m: \u001b[0m'Router Switch IGMP'\u001b[0m,\n",
      "                  \u001b[0m'device_id'\u001b[0m: \u001b[0m'SW2.local'\u001b[0m,\n",
      "                  \u001b[0m'duplex_mode'\u001b[0m: \u001b[0m'full'\u001b[0m,\n",
      "                  \u001b[0m'entry_addresses'\u001b[0m: \u001b[0m{'172.16.30.92': {}}\u001b[0m,\n",
      "                  \u001b[0m'hold_time'\u001b[0m: \u001b[0m135\u001b[0m,\n",
      "                  \u001b[0m'local_interface'\u001b[0m: \u001b[0m'GigabitEthernet0/1'\u001b[0m,\n",
      "                  \u001b[0m'management_addresses'\u001b[0m: \u001b[0m{'172.16.30.92': {}}\u001b[0m,\n",
      "                  \u001b[0m'native_vlan'\u001b[0m: \u001b[0m'1'\u001b[0m,\n",
      "                  \u001b[0m'platform'\u001b[0m: \u001b[0m'Cisco '\u001b[0m,\n",
      "                  \u001b[0m'port_id'\u001b[0m: \u001b[0m'GigabitEthernet0/1'\u001b[0m,\n",
      "                  \u001b[0m'software_version'\u001b[0m: \u001b[0m'Cisco IOS Software, vios_l2 Software '\u001b[0m\n",
      "                                      \u001b[0m'(vios_l2-ADVENTERPRISEK9-M), Version '\u001b[0m\n",
      "                                      \u001b[0m'15.2(CML_NIGHTLY_20180619)FLO_DSGS7, '\u001b[0m\n",
      "                                      \u001b[0m'EARLY DEPLOYMENT DEVELOPMENT BUILD, '\u001b[0m\n",
      "                                      \u001b[0m'synced to  V152_6_0_81_E\\n'\u001b[0m\n",
      "                                      \u001b[0m'Technical Support: '\u001b[0m\n",
      "                                      \u001b[0m'http://www.cisco.com/techsupport\\n'\u001b[0m\n",
      "                                      \u001b[0m'Copyright (c) 1986-2018 by Cisco '\u001b[0m\n",
      "                                      \u001b[0m'Systems, Inc.\\n'\u001b[0m\n",
      "                                      \u001b[0m'Compiled Tue 19-Jun-18 06:06 by mmen'\u001b[0m,\n",
      "                  \u001b[0m'vtp_management_domain'\u001b[0m: \u001b[0m' '\u001b[0m}\u001b[0m,\n",
      "             \u001b[0m3\u001b[0m: \u001b[0m{\u001b[0m \u001b[0m'advertisement_ver'\u001b[0m: \u001b[0m2\u001b[0m,\n",
      "                  \u001b[0m'capabilities'\u001b[0m: \u001b[0m'Router Switch IGMP'\u001b[0m,\n",
      "                  \u001b[0m'device_id'\u001b[0m: \u001b[0m'SW1.local'\u001b[0m,\n",
      "                  \u001b[0m'duplex_mode'\u001b[0m: \u001b[0m'full'\u001b[0m,\n",
      "                  \u001b[0m'entry_addresses'\u001b[0m: \u001b[0m{'172.16.30.91': {}}\u001b[0m,\n",
      "                  \u001b[0m'hold_time'\u001b[0m: \u001b[0m138\u001b[0m,\n",
      "                  \u001b[0m'local_interface'\u001b[0m: \u001b[0m'GigabitEthernet0/2'\u001b[0m,\n",
      "                  \u001b[0m'management_addresses'\u001b[0m: \u001b[0m{'172.16.30.91': {}}\u001b[0m,\n",
      "                  \u001b[0m'native_vlan'\u001b[0m: \u001b[0m'1'\u001b[0m,\n",
      "                  \u001b[0m'platform'\u001b[0m: \u001b[0m'Cisco '\u001b[0m,\n",
      "                  \u001b[0m'port_id'\u001b[0m: \u001b[0m'GigabitEthernet0/1'\u001b[0m,\n",
      "                  \u001b[0m'software_version'\u001b[0m: \u001b[0m'Cisco IOS Software, vios_l2 Software '\u001b[0m\n",
      "                                      \u001b[0m'(vios_l2-ADVENTERPRISEK9-M), Version '\u001b[0m\n",
      "                                      \u001b[0m'15.2(CML_NIGHTLY_20180619)FLO_DSGS7, '\u001b[0m\n",
      "                                      \u001b[0m'EARLY DEPLOYMENT DEVELOPMENT BUILD, '\u001b[0m\n",
      "                                      \u001b[0m'synced to  V152_6_0_81_E\\n'\u001b[0m\n",
      "                                      \u001b[0m'Technical Support: '\u001b[0m\n",
      "                                      \u001b[0m'http://www.cisco.com/techsupport\\n'\u001b[0m\n",
      "                                      \u001b[0m'Copyright (c) 1986-2018 by Cisco '\u001b[0m\n",
      "                                      \u001b[0m'Systems, Inc.\\n'\u001b[0m\n",
      "                                      \u001b[0m'Compiled Tue 19-Jun-18 06:06 by mmen'\u001b[0m,\n",
      "                  \u001b[0m'vtp_management_domain'\u001b[0m: \u001b[0m' '\u001b[0m}\u001b[0m}\u001b[0m,\n",
      "  \u001b[0m'total_entries_displayed'\u001b[0m: \u001b[0m3\u001b[0m}\u001b[0m\n",
      "\u001b[0m\u001b[1m\u001b[32m^^^^ END get CDP neighbors data ^^^^^^^^^^^^^^^^^^^^^^^^^^^^^^^^^^^^^^^^^^^^^^^^\u001b[0m\n",
      "\u001b[0m\u001b[1m\u001b[34m* SW4 ** changed : False *******************************************************\u001b[0m\n",
      "\u001b[0m\u001b[1m\u001b[32mvvvv get CDP neighbors data ** changed : False vvvvvvvvvvvvvvvvvvvvvvvvvvvvvvvvv INFO\u001b[0m\n",
      "\u001b[0m{\u001b[0m \u001b[0m'index'\u001b[0m: \u001b[0m{\u001b[0m \u001b[0m1\u001b[0m: \u001b[0m{\u001b[0m \u001b[0m'advertisement_ver'\u001b[0m: \u001b[0m2\u001b[0m,\n",
      "                  \u001b[0m'capabilities'\u001b[0m: \u001b[0m'Router Switch IGMP'\u001b[0m,\n",
      "                  \u001b[0m'device_id'\u001b[0m: \u001b[0m'SW5.local'\u001b[0m,\n",
      "                  \u001b[0m'duplex_mode'\u001b[0m: \u001b[0m'full'\u001b[0m,\n",
      "                  \u001b[0m'entry_addresses'\u001b[0m: \u001b[0m{'172.16.30.95': {}}\u001b[0m,\n",
      "                  \u001b[0m'hold_time'\u001b[0m: \u001b[0m150\u001b[0m,\n",
      "                  \u001b[0m'local_interface'\u001b[0m: \u001b[0m'GigabitEthernet0/2'\u001b[0m,\n",
      "                  \u001b[0m'management_addresses'\u001b[0m: \u001b[0m{'172.16.30.95': {}}\u001b[0m,\n",
      "                  \u001b[0m'native_vlan'\u001b[0m: \u001b[0m'1'\u001b[0m,\n",
      "                  \u001b[0m'platform'\u001b[0m: \u001b[0m'Cisco '\u001b[0m,\n",
      "                  \u001b[0m'port_id'\u001b[0m: \u001b[0m'GigabitEthernet0/1'\u001b[0m,\n",
      "                  \u001b[0m'software_version'\u001b[0m: \u001b[0m'Cisco IOS Software, vios_l2 Software '\u001b[0m\n",
      "                                      \u001b[0m'(vios_l2-ADVENTERPRISEK9-M), Version '\u001b[0m\n",
      "                                      \u001b[0m'15.2(CML_NIGHTLY_20180619)FLO_DSGS7, '\u001b[0m\n",
      "                                      \u001b[0m'EARLY DEPLOYMENT DEVELOPMENT BUILD, '\u001b[0m\n",
      "                                      \u001b[0m'synced to  V152_6_0_81_E\\n'\u001b[0m\n",
      "                                      \u001b[0m'Technical Support: '\u001b[0m\n",
      "                                      \u001b[0m'http://www.cisco.com/techsupport\\n'\u001b[0m\n",
      "                                      \u001b[0m'Copyright (c) 1986-2018 by Cisco '\u001b[0m\n",
      "                                      \u001b[0m'Systems, Inc.\\n'\u001b[0m\n",
      "                                      \u001b[0m'Compiled Tue 19-Jun-18 06:06 by mmen'\u001b[0m,\n",
      "                  \u001b[0m'vtp_management_domain'\u001b[0m: \u001b[0m' '\u001b[0m}\u001b[0m,\n",
      "             \u001b[0m2\u001b[0m: \u001b[0m{\u001b[0m \u001b[0m'advertisement_ver'\u001b[0m: \u001b[0m2\u001b[0m,\n",
      "                  \u001b[0m'capabilities'\u001b[0m: \u001b[0m'Router Switch IGMP'\u001b[0m,\n",
      "                  \u001b[0m'device_id'\u001b[0m: \u001b[0m'SW3.local'\u001b[0m,\n",
      "                  \u001b[0m'duplex_mode'\u001b[0m: \u001b[0m'full'\u001b[0m,\n",
      "                  \u001b[0m'entry_addresses'\u001b[0m: \u001b[0m{'172.16.30.93': {}}\u001b[0m,\n",
      "                  \u001b[0m'hold_time'\u001b[0m: \u001b[0m135\u001b[0m,\n",
      "                  \u001b[0m'local_interface'\u001b[0m: \u001b[0m'GigabitEthernet0/1'\u001b[0m,\n",
      "                  \u001b[0m'management_addresses'\u001b[0m: \u001b[0m{'172.16.30.93': {}}\u001b[0m,\n",
      "                  \u001b[0m'native_vlan'\u001b[0m: \u001b[0m'1'\u001b[0m,\n",
      "                  \u001b[0m'platform'\u001b[0m: \u001b[0m'Cisco '\u001b[0m,\n",
      "                  \u001b[0m'port_id'\u001b[0m: \u001b[0m'GigabitEthernet0/3'\u001b[0m,\n",
      "                  \u001b[0m'software_version'\u001b[0m: \u001b[0m'Cisco IOS Software, vios_l2 Software '\u001b[0m\n",
      "                                      \u001b[0m'(vios_l2-ADVENTERPRISEK9-M), Version '\u001b[0m\n",
      "                                      \u001b[0m'15.2(CML_NIGHTLY_20180619)FLO_DSGS7, '\u001b[0m\n",
      "                                      \u001b[0m'EARLY DEPLOYMENT DEVELOPMENT BUILD, '\u001b[0m\n",
      "                                      \u001b[0m'synced to  V152_6_0_81_E\\n'\u001b[0m\n",
      "                                      \u001b[0m'Technical Support: '\u001b[0m\n",
      "                                      \u001b[0m'http://www.cisco.com/techsupport\\n'\u001b[0m\n",
      "                                      \u001b[0m'Copyright (c) 1986-2018 by Cisco '\u001b[0m\n",
      "                                      \u001b[0m'Systems, Inc.\\n'\u001b[0m\n",
      "                                      \u001b[0m'Compiled Tue 19-Jun-18 06:06 by mmen'\u001b[0m,\n",
      "                  \u001b[0m'vtp_management_domain'\u001b[0m: \u001b[0m' '\u001b[0m}\u001b[0m}\u001b[0m,\n",
      "  \u001b[0m'total_entries_displayed'\u001b[0m: \u001b[0m2\u001b[0m}\u001b[0m\n",
      "\u001b[0m\u001b[1m\u001b[32m^^^^ END get CDP neighbors data ^^^^^^^^^^^^^^^^^^^^^^^^^^^^^^^^^^^^^^^^^^^^^^^^\u001b[0m\n",
      "\u001b[0m\u001b[1m\u001b[34m* SW5 ** changed : False *******************************************************\u001b[0m\n",
      "\u001b[0m\u001b[1m\u001b[32mvvvv get CDP neighbors data ** changed : False vvvvvvvvvvvvvvvvvvvvvvvvvvvvvvvvv INFO\u001b[0m\n",
      "\u001b[0m{\u001b[0m \u001b[0m'index'\u001b[0m: \u001b[0m{\u001b[0m \u001b[0m1\u001b[0m: \u001b[0m{\u001b[0m \u001b[0m'advertisement_ver'\u001b[0m: \u001b[0m2\u001b[0m,\n",
      "                  \u001b[0m'capabilities'\u001b[0m: \u001b[0m'Router Switch IGMP'\u001b[0m,\n",
      "                  \u001b[0m'device_id'\u001b[0m: \u001b[0m'SW7.local'\u001b[0m,\n",
      "                  \u001b[0m'duplex_mode'\u001b[0m: \u001b[0m'full'\u001b[0m,\n",
      "                  \u001b[0m'entry_addresses'\u001b[0m: \u001b[0m{'172.16.30.97': {}}\u001b[0m,\n",
      "                  \u001b[0m'hold_time'\u001b[0m: \u001b[0m153\u001b[0m,\n",
      "                  \u001b[0m'local_interface'\u001b[0m: \u001b[0m'GigabitEthernet0/3'\u001b[0m,\n",
      "                  \u001b[0m'management_addresses'\u001b[0m: \u001b[0m{'172.16.30.97': {}}\u001b[0m,\n",
      "                  \u001b[0m'native_vlan'\u001b[0m: \u001b[0m'1'\u001b[0m,\n",
      "                  \u001b[0m'platform'\u001b[0m: \u001b[0m'Cisco '\u001b[0m,\n",
      "                  \u001b[0m'port_id'\u001b[0m: \u001b[0m'GigabitEthernet0/1'\u001b[0m,\n",
      "                  \u001b[0m'software_version'\u001b[0m: \u001b[0m'Cisco IOS Software, vios_l2 Software '\u001b[0m\n",
      "                                      \u001b[0m'(vios_l2-ADVENTERPRISEK9-M), Version '\u001b[0m\n",
      "                                      \u001b[0m'15.2(CML_NIGHTLY_20180619)FLO_DSGS7, '\u001b[0m\n",
      "                                      \u001b[0m'EARLY DEPLOYMENT DEVELOPMENT BUILD, '\u001b[0m\n",
      "                                      \u001b[0m'synced to  V152_6_0_81_E\\n'\u001b[0m\n",
      "                                      \u001b[0m'Technical Support: '\u001b[0m\n",
      "                                      \u001b[0m'http://www.cisco.com/techsupport\\n'\u001b[0m\n",
      "                                      \u001b[0m'Copyright (c) 1986-2018 by Cisco '\u001b[0m\n",
      "                                      \u001b[0m'Systems, Inc.\\n'\u001b[0m\n",
      "                                      \u001b[0m'Compiled Tue 19-Jun-18 06:06 by mmen'\u001b[0m,\n",
      "                  \u001b[0m'vtp_management_domain'\u001b[0m: \u001b[0m' '\u001b[0m}\u001b[0m,\n",
      "             \u001b[0m2\u001b[0m: \u001b[0m{\u001b[0m \u001b[0m'advertisement_ver'\u001b[0m: \u001b[0m2\u001b[0m,\n",
      "                  \u001b[0m'capabilities'\u001b[0m: \u001b[0m'Router Switch IGMP'\u001b[0m,\n",
      "                  \u001b[0m'device_id'\u001b[0m: \u001b[0m'SW6.local'\u001b[0m,\n",
      "                  \u001b[0m'duplex_mode'\u001b[0m: \u001b[0m'full'\u001b[0m,\n",
      "                  \u001b[0m'entry_addresses'\u001b[0m: \u001b[0m{'172.16.30.96': {}}\u001b[0m,\n",
      "                  \u001b[0m'hold_time'\u001b[0m: \u001b[0m148\u001b[0m,\n",
      "                  \u001b[0m'local_interface'\u001b[0m: \u001b[0m'GigabitEthernet0/2'\u001b[0m,\n",
      "                  \u001b[0m'management_addresses'\u001b[0m: \u001b[0m{'172.16.30.96': {}}\u001b[0m,\n",
      "                  \u001b[0m'native_vlan'\u001b[0m: \u001b[0m'1'\u001b[0m,\n",
      "                  \u001b[0m'platform'\u001b[0m: \u001b[0m'Cisco '\u001b[0m,\n",
      "                  \u001b[0m'port_id'\u001b[0m: \u001b[0m'GigabitEthernet0/1'\u001b[0m,\n",
      "                  \u001b[0m'software_version'\u001b[0m: \u001b[0m'Cisco IOS Software, vios_l2 Software '\u001b[0m\n",
      "                                      \u001b[0m'(vios_l2-ADVENTERPRISEK9-M), Version '\u001b[0m\n",
      "                                      \u001b[0m'15.2(CML_NIGHTLY_20180619)FLO_DSGS7, '\u001b[0m\n",
      "                                      \u001b[0m'EARLY DEPLOYMENT DEVELOPMENT BUILD, '\u001b[0m\n",
      "                                      \u001b[0m'synced to  V152_6_0_81_E\\n'\u001b[0m\n",
      "                                      \u001b[0m'Technical Support: '\u001b[0m\n",
      "                                      \u001b[0m'http://www.cisco.com/techsupport\\n'\u001b[0m\n",
      "                                      \u001b[0m'Copyright (c) 1986-2018 by Cisco '\u001b[0m\n",
      "                                      \u001b[0m'Systems, Inc.\\n'\u001b[0m\n",
      "                                      \u001b[0m'Compiled Tue 19-Jun-18 06:06 by mmen'\u001b[0m,\n",
      "                  \u001b[0m'vtp_management_domain'\u001b[0m: \u001b[0m' '\u001b[0m}\u001b[0m,\n",
      "             \u001b[0m3\u001b[0m: \u001b[0m{\u001b[0m \u001b[0m'advertisement_ver'\u001b[0m: \u001b[0m2\u001b[0m,\n",
      "                  \u001b[0m'capabilities'\u001b[0m: \u001b[0m'Router Switch IGMP'\u001b[0m,\n",
      "                  \u001b[0m'device_id'\u001b[0m: \u001b[0m'SW4.local'\u001b[0m,\n",
      "                  \u001b[0m'duplex_mode'\u001b[0m: \u001b[0m'full'\u001b[0m,\n",
      "                  \u001b[0m'entry_addresses'\u001b[0m: \u001b[0m{'172.16.30.94': {}}\u001b[0m,\n",
      "                  \u001b[0m'hold_time'\u001b[0m: \u001b[0m140\u001b[0m,\n",
      "                  \u001b[0m'local_interface'\u001b[0m: \u001b[0m'GigabitEthernet0/1'\u001b[0m,\n",
      "                  \u001b[0m'management_addresses'\u001b[0m: \u001b[0m{'172.16.30.94': {}}\u001b[0m,\n",
      "                  \u001b[0m'native_vlan'\u001b[0m: \u001b[0m'1'\u001b[0m,\n",
      "                  \u001b[0m'platform'\u001b[0m: \u001b[0m'Cisco '\u001b[0m,\n",
      "                  \u001b[0m'port_id'\u001b[0m: \u001b[0m'GigabitEthernet0/2'\u001b[0m,\n",
      "                  \u001b[0m'software_version'\u001b[0m: \u001b[0m'Cisco IOS Software, vios_l2 Software '\u001b[0m\n",
      "                                      \u001b[0m'(vios_l2-ADVENTERPRISEK9-M), Version '\u001b[0m\n",
      "                                      \u001b[0m'15.2(CML_NIGHTLY_20180619)FLO_DSGS7, '\u001b[0m\n",
      "                                      \u001b[0m'EARLY DEPLOYMENT DEVELOPMENT BUILD, '\u001b[0m\n",
      "                                      \u001b[0m'synced to  V152_6_0_81_E\\n'\u001b[0m\n",
      "                                      \u001b[0m'Technical Support: '\u001b[0m\n",
      "                                      \u001b[0m'http://www.cisco.com/techsupport\\n'\u001b[0m\n",
      "                                      \u001b[0m'Copyright (c) 1986-2018 by Cisco '\u001b[0m\n",
      "                                      \u001b[0m'Systems, Inc.\\n'\u001b[0m\n",
      "                                      \u001b[0m'Compiled Tue 19-Jun-18 06:06 by mmen'\u001b[0m,\n",
      "                  \u001b[0m'vtp_management_domain'\u001b[0m: \u001b[0m' '\u001b[0m}\u001b[0m}\u001b[0m,\n",
      "  \u001b[0m'total_entries_displayed'\u001b[0m: \u001b[0m3\u001b[0m}\u001b[0m\n",
      "\u001b[0m\u001b[1m\u001b[32m^^^^ END get CDP neighbors data ^^^^^^^^^^^^^^^^^^^^^^^^^^^^^^^^^^^^^^^^^^^^^^^^\u001b[0m\n",
      "\u001b[0m\u001b[1m\u001b[34m* SW6 ** changed : False *******************************************************\u001b[0m\n",
      "\u001b[0m\u001b[1m\u001b[32mvvvv get CDP neighbors data ** changed : False vvvvvvvvvvvvvvvvvvvvvvvvvvvvvvvvv INFO\u001b[0m\n",
      "\u001b[0m{\u001b[0m \u001b[0m'index'\u001b[0m: \u001b[0m{\u001b[0m \u001b[0m1\u001b[0m: \u001b[0m{\u001b[0m \u001b[0m'advertisement_ver'\u001b[0m: \u001b[0m2\u001b[0m,\n",
      "                  \u001b[0m'capabilities'\u001b[0m: \u001b[0m'Router Switch IGMP'\u001b[0m,\n",
      "                  \u001b[0m'device_id'\u001b[0m: \u001b[0m'SW5.local'\u001b[0m,\n",
      "                  \u001b[0m'duplex_mode'\u001b[0m: \u001b[0m'full'\u001b[0m,\n",
      "                  \u001b[0m'entry_addresses'\u001b[0m: \u001b[0m{'172.16.30.95': {}}\u001b[0m,\n",
      "                  \u001b[0m'hold_time'\u001b[0m: \u001b[0m172\u001b[0m,\n",
      "                  \u001b[0m'local_interface'\u001b[0m: \u001b[0m'GigabitEthernet0/1'\u001b[0m,\n",
      "                  \u001b[0m'management_addresses'\u001b[0m: \u001b[0m{'172.16.30.95': {}}\u001b[0m,\n",
      "                  \u001b[0m'native_vlan'\u001b[0m: \u001b[0m'1'\u001b[0m,\n",
      "                  \u001b[0m'platform'\u001b[0m: \u001b[0m'Cisco '\u001b[0m,\n",
      "                  \u001b[0m'port_id'\u001b[0m: \u001b[0m'GigabitEthernet0/2'\u001b[0m,\n",
      "                  \u001b[0m'software_version'\u001b[0m: \u001b[0m'Cisco IOS Software, vios_l2 Software '\u001b[0m\n",
      "                                      \u001b[0m'(vios_l2-ADVENTERPRISEK9-M), Version '\u001b[0m\n",
      "                                      \u001b[0m'15.2(CML_NIGHTLY_20180619)FLO_DSGS7, '\u001b[0m\n",
      "                                      \u001b[0m'EARLY DEPLOYMENT DEVELOPMENT BUILD, '\u001b[0m\n",
      "                                      \u001b[0m'synced to  V152_6_0_81_E\\n'\u001b[0m\n",
      "                                      \u001b[0m'Technical Support: '\u001b[0m\n",
      "                                      \u001b[0m'http://www.cisco.com/techsupport\\n'\u001b[0m\n",
      "                                      \u001b[0m'Copyright (c) 1986-2018 by Cisco '\u001b[0m\n",
      "                                      \u001b[0m'Systems, Inc.\\n'\u001b[0m\n",
      "                                      \u001b[0m'Compiled Tue 19-Jun-18 06:06 by mmen'\u001b[0m,\n",
      "                  \u001b[0m'vtp_management_domain'\u001b[0m: \u001b[0m' '\u001b[0m}\u001b[0m}\u001b[0m,\n",
      "  \u001b[0m'total_entries_displayed'\u001b[0m: \u001b[0m1\u001b[0m}\u001b[0m\n",
      "\u001b[0m\u001b[1m\u001b[32m^^^^ END get CDP neighbors data ^^^^^^^^^^^^^^^^^^^^^^^^^^^^^^^^^^^^^^^^^^^^^^^^\u001b[0m\n",
      "\u001b[0m\u001b[1m\u001b[34m* SW7 ** changed : False *******************************************************\u001b[0m\n",
      "\u001b[0m\u001b[1m\u001b[32mvvvv get CDP neighbors data ** changed : False vvvvvvvvvvvvvvvvvvvvvvvvvvvvvvvvv INFO\u001b[0m\n",
      "\u001b[0m{\u001b[0m \u001b[0m'index'\u001b[0m: \u001b[0m{\u001b[0m \u001b[0m1\u001b[0m: \u001b[0m{\u001b[0m \u001b[0m'advertisement_ver'\u001b[0m: \u001b[0m2\u001b[0m,\n",
      "                  \u001b[0m'capabilities'\u001b[0m: \u001b[0m'Router Switch IGMP'\u001b[0m,\n",
      "                  \u001b[0m'device_id'\u001b[0m: \u001b[0m'SW5.local'\u001b[0m,\n",
      "                  \u001b[0m'duplex_mode'\u001b[0m: \u001b[0m'full'\u001b[0m,\n",
      "                  \u001b[0m'entry_addresses'\u001b[0m: \u001b[0m{'172.16.30.95': {}}\u001b[0m,\n",
      "                  \u001b[0m'hold_time'\u001b[0m: \u001b[0m156\u001b[0m,\n",
      "                  \u001b[0m'local_interface'\u001b[0m: \u001b[0m'GigabitEthernet0/1'\u001b[0m,\n",
      "                  \u001b[0m'management_addresses'\u001b[0m: \u001b[0m{'172.16.30.95': {}}\u001b[0m,\n",
      "                  \u001b[0m'native_vlan'\u001b[0m: \u001b[0m'1'\u001b[0m,\n",
      "                  \u001b[0m'platform'\u001b[0m: \u001b[0m'Cisco '\u001b[0m,\n",
      "                  \u001b[0m'port_id'\u001b[0m: \u001b[0m'GigabitEthernet0/3'\u001b[0m,\n",
      "                  \u001b[0m'software_version'\u001b[0m: \u001b[0m'Cisco IOS Software, vios_l2 Software '\u001b[0m\n",
      "                                      \u001b[0m'(vios_l2-ADVENTERPRISEK9-M), Version '\u001b[0m\n",
      "                                      \u001b[0m'15.2(CML_NIGHTLY_20180619)FLO_DSGS7, '\u001b[0m\n",
      "                                      \u001b[0m'EARLY DEPLOYMENT DEVELOPMENT BUILD, '\u001b[0m\n",
      "                                      \u001b[0m'synced to  V152_6_0_81_E\\n'\u001b[0m\n",
      "                                      \u001b[0m'Technical Support: '\u001b[0m\n",
      "                                      \u001b[0m'http://www.cisco.com/techsupport\\n'\u001b[0m\n",
      "                                      \u001b[0m'Copyright (c) 1986-2018 by Cisco '\u001b[0m\n",
      "                                      \u001b[0m'Systems, Inc.\\n'\u001b[0m\n",
      "                                      \u001b[0m'Compiled Tue 19-Jun-18 06:06 by mmen'\u001b[0m,\n",
      "                  \u001b[0m'vtp_management_domain'\u001b[0m: \u001b[0m' '\u001b[0m}\u001b[0m}\u001b[0m,\n",
      "  \u001b[0m'total_entries_displayed'\u001b[0m: \u001b[0m1\u001b[0m}\u001b[0m\n",
      "\u001b[0m\u001b[1m\u001b[32m^^^^ END get CDP neighbors data ^^^^^^^^^^^^^^^^^^^^^^^^^^^^^^^^^^^^^^^^^^^^^^^^\u001b[0m\n",
      "\u001b[0m"
     ]
    }
   ],
   "source": [
    "print_result(getCDPNeighbors_genie)"
   ]
  },
  {
   "cell_type": "markdown",
   "metadata": {},
   "source": [
    "### Creating custom Nornir Tasks"
   ]
  },
  {
   "cell_type": "code",
   "execution_count": 9,
   "metadata": {},
   "outputs": [],
   "source": [
    "from nornir.core.task import Task, Result"
   ]
  },
  {
   "cell_type": "code",
   "execution_count": 11,
   "metadata": {},
   "outputs": [],
   "source": [
    "def CustomTask(task: Task , variable) -> Result:\n",
    "    return Result(\n",
    "        host= task.host,\n",
    "        result = f\"Hostname : {task.host}\\nPlatform: {task.host.platform}\\nCustom variable: {variable}\"\n",
    "    )"
   ]
  },
  {
   "cell_type": "code",
   "execution_count": 12,
   "metadata": {},
   "outputs": [
    {
     "name": "stdout",
     "output_type": "stream",
     "text": [
      "\u001b[1m\u001b[36mCustom Task*********************************************************************\u001b[0m\n",
      "\u001b[0m\u001b[1m\u001b[34m* SW1 ** changed : False *******************************************************\u001b[0m\n",
      "\u001b[0m\u001b[1m\u001b[32mvvvv Custom Task ** changed : False vvvvvvvvvvvvvvvvvvvvvvvvvvvvvvvvvvvvvvvvvvvv INFO\u001b[0m\n",
      "\u001b[0mHostname : SW1\n",
      "Platform: ios\n",
      "Custom variable: This is a Custom Var\u001b[0m\n",
      "\u001b[0m\u001b[1m\u001b[32m^^^^ END Custom Task ^^^^^^^^^^^^^^^^^^^^^^^^^^^^^^^^^^^^^^^^^^^^^^^^^^^^^^^^^^^\u001b[0m\n",
      "\u001b[0m\u001b[1m\u001b[34m* SW2 ** changed : False *******************************************************\u001b[0m\n",
      "\u001b[0m\u001b[1m\u001b[32mvvvv Custom Task ** changed : False vvvvvvvvvvvvvvvvvvvvvvvvvvvvvvvvvvvvvvvvvvvv INFO\u001b[0m\n",
      "\u001b[0mHostname : SW2\n",
      "Platform: ios\n",
      "Custom variable: This is a Custom Var\u001b[0m\n",
      "\u001b[0m\u001b[1m\u001b[32m^^^^ END Custom Task ^^^^^^^^^^^^^^^^^^^^^^^^^^^^^^^^^^^^^^^^^^^^^^^^^^^^^^^^^^^\u001b[0m\n",
      "\u001b[0m\u001b[1m\u001b[34m* SW3 ** changed : False *******************************************************\u001b[0m\n",
      "\u001b[0m\u001b[1m\u001b[32mvvvv Custom Task ** changed : False vvvvvvvvvvvvvvvvvvvvvvvvvvvvvvvvvvvvvvvvvvvv INFO\u001b[0m\n",
      "\u001b[0mHostname : SW3\n",
      "Platform: ios\n",
      "Custom variable: This is a Custom Var\u001b[0m\n",
      "\u001b[0m\u001b[1m\u001b[32m^^^^ END Custom Task ^^^^^^^^^^^^^^^^^^^^^^^^^^^^^^^^^^^^^^^^^^^^^^^^^^^^^^^^^^^\u001b[0m\n",
      "\u001b[0m\u001b[1m\u001b[34m* SW4 ** changed : False *******************************************************\u001b[0m\n",
      "\u001b[0m\u001b[1m\u001b[32mvvvv Custom Task ** changed : False vvvvvvvvvvvvvvvvvvvvvvvvvvvvvvvvvvvvvvvvvvvv INFO\u001b[0m\n",
      "\u001b[0mHostname : SW4\n",
      "Platform: ios\n",
      "Custom variable: This is a Custom Var\u001b[0m\n",
      "\u001b[0m\u001b[1m\u001b[32m^^^^ END Custom Task ^^^^^^^^^^^^^^^^^^^^^^^^^^^^^^^^^^^^^^^^^^^^^^^^^^^^^^^^^^^\u001b[0m\n",
      "\u001b[0m\u001b[1m\u001b[34m* SW5 ** changed : False *******************************************************\u001b[0m\n",
      "\u001b[0m\u001b[1m\u001b[32mvvvv Custom Task ** changed : False vvvvvvvvvvvvvvvvvvvvvvvvvvvvvvvvvvvvvvvvvvvv INFO\u001b[0m\n",
      "\u001b[0mHostname : SW5\n",
      "Platform: ios\n",
      "Custom variable: This is a Custom Var\u001b[0m\n",
      "\u001b[0m\u001b[1m\u001b[32m^^^^ END Custom Task ^^^^^^^^^^^^^^^^^^^^^^^^^^^^^^^^^^^^^^^^^^^^^^^^^^^^^^^^^^^\u001b[0m\n",
      "\u001b[0m\u001b[1m\u001b[34m* SW6 ** changed : False *******************************************************\u001b[0m\n",
      "\u001b[0m\u001b[1m\u001b[32mvvvv Custom Task ** changed : False vvvvvvvvvvvvvvvvvvvvvvvvvvvvvvvvvvvvvvvvvvvv INFO\u001b[0m\n",
      "\u001b[0mHostname : SW6\n",
      "Platform: ios\n",
      "Custom variable: This is a Custom Var\u001b[0m\n",
      "\u001b[0m\u001b[1m\u001b[32m^^^^ END Custom Task ^^^^^^^^^^^^^^^^^^^^^^^^^^^^^^^^^^^^^^^^^^^^^^^^^^^^^^^^^^^\u001b[0m\n",
      "\u001b[0m\u001b[1m\u001b[34m* SW7 ** changed : False *******************************************************\u001b[0m\n",
      "\u001b[0m\u001b[1m\u001b[32mvvvv Custom Task ** changed : False vvvvvvvvvvvvvvvvvvvvvvvvvvvvvvvvvvvvvvvvvvvv INFO\u001b[0m\n",
      "\u001b[0mHostname : SW7\n",
      "Platform: ios\n",
      "Custom variable: This is a Custom Var\u001b[0m\n",
      "\u001b[0m\u001b[1m\u001b[32m^^^^ END Custom Task ^^^^^^^^^^^^^^^^^^^^^^^^^^^^^^^^^^^^^^^^^^^^^^^^^^^^^^^^^^^\u001b[0m\n",
      "\u001b[0m"
     ]
    }
   ],
   "source": [
    "customTaskResult = nr.run(\n",
    "    name=\"Custom Task\",\n",
    "    task= CustomTask,\n",
    "    variable = \"This is a Custom Var\"\n",
    ")\n",
    "print_result(customTaskResult)"
   ]
  },
  {
   "cell_type": "markdown",
   "metadata": {},
   "source": [
    "### Using Genie Parsers"
   ]
  },
  {
   "cell_type": "markdown",
   "metadata": {},
   "source": [
    "Adding additional libraries:\n",
    "\n",
    "[ShowVlan](https://github.com/CiscoTestAutomation/genieparser/blob/master/src/genie/libs/parser/iosxe/show_vlan.py)\n",
    "\n",
    "[ShowCdpNeighborsDetail](https://github.com/CiscoTestAutomation/genieparser/blob/master/src/genie/libs/parser/iosxe/show_cdp.py)\n"
   ]
  },
  {
   "cell_type": "code",
   "execution_count": 13,
   "metadata": {},
   "outputs": [],
   "source": [
    "from nornir_netmiko.connections import CONNECTION_NAME\n",
    "from genie.libs.parser.iosxe.show_cdp import ShowCdpNeighborsDetail\n",
    "from genie.libs.parser.iosxe.show_vlan import ShowVlan\n",
    "from unittest.mock import Mock"
   ]
  },
  {
   "cell_type": "code",
   "execution_count": 14,
   "metadata": {},
   "outputs": [],
   "source": [
    "def customCDPParser(task: Task) -> Result :\n",
    "    if(task.host.platform == 'ios'):\n",
    "        net_connect = task.host.get_connection(CONNECTION_NAME, task.nornir.config)\n",
    "        result = net_connect.send_command(\"show cdp neighbors detail\")\n",
    "        parser = ShowCdpNeighborsDetail(Mock())\n",
    "        result = parser.cli(result)\n",
    "    return Result(\n",
    "        host= task.host,\n",
    "        result= result\n",
    "    )\n",
    "\n",
    "def customVlanParser(task: Task) -> Result :\n",
    "    if(task.host.platform == 'ios'):\n",
    "        net_connect = task.host.get_connection(CONNECTION_NAME, task.nornir.config)\n",
    "        result = net_connect.send_command(\"show vlan\")\n",
    "        parser = ShowVlan(Mock())\n",
    "        result = parser.cli(result)\n",
    "    return Result(\n",
    "        host= task.host,\n",
    "        result= result\n",
    "    )"
   ]
  },
  {
   "cell_type": "code",
   "execution_count": 15,
   "metadata": {},
   "outputs": [],
   "source": [
    "customCDPResult = nr.run(\n",
    "    name=\"Get CDP Neighbors\",\n",
    "    task= customCDPParser\n",
    ")\n",
    "customVlanResult = nr.run(\n",
    "    name=\"Get Vlans\",\n",
    "    task= customVlanParser\n",
    ")"
   ]
  },
  {
   "cell_type": "code",
   "execution_count": 16,
   "metadata": {},
   "outputs": [
    {
     "name": "stdout",
     "output_type": "stream",
     "text": [
      "\u001b[1m\u001b[36mGet CDP Neighbors***************************************************************\u001b[0m\n",
      "\u001b[0m\u001b[1m\u001b[34m* SW1 ** changed : False *******************************************************\u001b[0m\n",
      "\u001b[0m\u001b[1m\u001b[32mvvvv Get CDP Neighbors ** changed : False vvvvvvvvvvvvvvvvvvvvvvvvvvvvvvvvvvvvvv INFO\u001b[0m\n",
      "\u001b[0m{\u001b[0m \u001b[0m'index'\u001b[0m: \u001b[0m{\u001b[0m \u001b[0m1\u001b[0m: \u001b[0m{\u001b[0m \u001b[0m'advertisement_ver'\u001b[0m: \u001b[0m2\u001b[0m,\n",
      "                  \u001b[0m'capabilities'\u001b[0m: \u001b[0m'Router Switch IGMP'\u001b[0m,\n",
      "                  \u001b[0m'device_id'\u001b[0m: \u001b[0m'SW3.local'\u001b[0m,\n",
      "                  \u001b[0m'duplex_mode'\u001b[0m: \u001b[0m'full'\u001b[0m,\n",
      "                  \u001b[0m'entry_addresses'\u001b[0m: \u001b[0m{'172.16.30.93': {}}\u001b[0m,\n",
      "                  \u001b[0m'hold_time'\u001b[0m: \u001b[0m151\u001b[0m,\n",
      "                  \u001b[0m'local_interface'\u001b[0m: \u001b[0m'GigabitEthernet0/1'\u001b[0m,\n",
      "                  \u001b[0m'management_addresses'\u001b[0m: \u001b[0m{'172.16.30.93': {}}\u001b[0m,\n",
      "                  \u001b[0m'native_vlan'\u001b[0m: \u001b[0m'1'\u001b[0m,\n",
      "                  \u001b[0m'platform'\u001b[0m: \u001b[0m'Cisco '\u001b[0m,\n",
      "                  \u001b[0m'port_id'\u001b[0m: \u001b[0m'GigabitEthernet0/2'\u001b[0m,\n",
      "                  \u001b[0m'software_version'\u001b[0m: \u001b[0m'Cisco IOS Software, vios_l2 Software '\u001b[0m\n",
      "                                      \u001b[0m'(vios_l2-ADVENTERPRISEK9-M), Version '\u001b[0m\n",
      "                                      \u001b[0m'15.2(CML_NIGHTLY_20180619)FLO_DSGS7, '\u001b[0m\n",
      "                                      \u001b[0m'EARLY DEPLOYMENT DEVELOPMENT BUILD, '\u001b[0m\n",
      "                                      \u001b[0m'synced to  V152_6_0_81_E\\n'\u001b[0m\n",
      "                                      \u001b[0m'Technical Support: '\u001b[0m\n",
      "                                      \u001b[0m'http://www.cisco.com/techsupport\\n'\u001b[0m\n",
      "                                      \u001b[0m'Copyright (c) 1986-2018 by Cisco '\u001b[0m\n",
      "                                      \u001b[0m'Systems, Inc.\\n'\u001b[0m\n",
      "                                      \u001b[0m'Compiled Tue 19-Jun-18 06:06 by mmen'\u001b[0m,\n",
      "                  \u001b[0m'vtp_management_domain'\u001b[0m: \u001b[0m' '\u001b[0m}\u001b[0m}\u001b[0m,\n",
      "  \u001b[0m'total_entries_displayed'\u001b[0m: \u001b[0m1\u001b[0m}\u001b[0m\n",
      "\u001b[0m\u001b[1m\u001b[32m^^^^ END Get CDP Neighbors ^^^^^^^^^^^^^^^^^^^^^^^^^^^^^^^^^^^^^^^^^^^^^^^^^^^^^\u001b[0m\n",
      "\u001b[0m\u001b[1m\u001b[34m* SW2 ** changed : False *******************************************************\u001b[0m\n",
      "\u001b[0m\u001b[1m\u001b[32mvvvv Get CDP Neighbors ** changed : False vvvvvvvvvvvvvvvvvvvvvvvvvvvvvvvvvvvvvv INFO\u001b[0m\n",
      "\u001b[0m{\u001b[0m \u001b[0m'index'\u001b[0m: \u001b[0m{\u001b[0m \u001b[0m1\u001b[0m: \u001b[0m{\u001b[0m \u001b[0m'advertisement_ver'\u001b[0m: \u001b[0m2\u001b[0m,\n",
      "                  \u001b[0m'capabilities'\u001b[0m: \u001b[0m'Router Switch IGMP'\u001b[0m,\n",
      "                  \u001b[0m'device_id'\u001b[0m: \u001b[0m'SW3.local'\u001b[0m,\n",
      "                  \u001b[0m'duplex_mode'\u001b[0m: \u001b[0m'full'\u001b[0m,\n",
      "                  \u001b[0m'entry_addresses'\u001b[0m: \u001b[0m{'172.16.30.93': {}}\u001b[0m,\n",
      "                  \u001b[0m'hold_time'\u001b[0m: \u001b[0m170\u001b[0m,\n",
      "                  \u001b[0m'local_interface'\u001b[0m: \u001b[0m'GigabitEthernet0/1'\u001b[0m,\n",
      "                  \u001b[0m'management_addresses'\u001b[0m: \u001b[0m{'172.16.30.93': {}}\u001b[0m,\n",
      "                  \u001b[0m'native_vlan'\u001b[0m: \u001b[0m'1'\u001b[0m,\n",
      "                  \u001b[0m'platform'\u001b[0m: \u001b[0m'Cisco '\u001b[0m,\n",
      "                  \u001b[0m'port_id'\u001b[0m: \u001b[0m'GigabitEthernet0/1'\u001b[0m,\n",
      "                  \u001b[0m'software_version'\u001b[0m: \u001b[0m'Cisco IOS Software, vios_l2 Software '\u001b[0m\n",
      "                                      \u001b[0m'(vios_l2-ADVENTERPRISEK9-M), Version '\u001b[0m\n",
      "                                      \u001b[0m'15.2(CML_NIGHTLY_20180619)FLO_DSGS7, '\u001b[0m\n",
      "                                      \u001b[0m'EARLY DEPLOYMENT DEVELOPMENT BUILD, '\u001b[0m\n",
      "                                      \u001b[0m'synced to  V152_6_0_81_E\\n'\u001b[0m\n",
      "                                      \u001b[0m'Technical Support: '\u001b[0m\n",
      "                                      \u001b[0m'http://www.cisco.com/techsupport\\n'\u001b[0m\n",
      "                                      \u001b[0m'Copyright (c) 1986-2018 by Cisco '\u001b[0m\n",
      "                                      \u001b[0m'Systems, Inc.\\n'\u001b[0m\n",
      "                                      \u001b[0m'Compiled Tue 19-Jun-18 06:06 by mmen'\u001b[0m,\n",
      "                  \u001b[0m'vtp_management_domain'\u001b[0m: \u001b[0m' '\u001b[0m}\u001b[0m}\u001b[0m,\n",
      "  \u001b[0m'total_entries_displayed'\u001b[0m: \u001b[0m1\u001b[0m}\u001b[0m\n",
      "\u001b[0m\u001b[1m\u001b[32m^^^^ END Get CDP Neighbors ^^^^^^^^^^^^^^^^^^^^^^^^^^^^^^^^^^^^^^^^^^^^^^^^^^^^^\u001b[0m\n",
      "\u001b[0m\u001b[1m\u001b[34m* SW3 ** changed : False *******************************************************\u001b[0m\n",
      "\u001b[0m\u001b[1m\u001b[32mvvvv Get CDP Neighbors ** changed : False vvvvvvvvvvvvvvvvvvvvvvvvvvvvvvvvvvvvvv INFO\u001b[0m\n",
      "\u001b[0m{\u001b[0m \u001b[0m'index'\u001b[0m: \u001b[0m{\u001b[0m \u001b[0m1\u001b[0m: \u001b[0m{\u001b[0m \u001b[0m'advertisement_ver'\u001b[0m: \u001b[0m2\u001b[0m,\n",
      "                  \u001b[0m'capabilities'\u001b[0m: \u001b[0m'Router Switch IGMP'\u001b[0m,\n",
      "                  \u001b[0m'device_id'\u001b[0m: \u001b[0m'SW4.local'\u001b[0m,\n",
      "                  \u001b[0m'duplex_mode'\u001b[0m: \u001b[0m'full'\u001b[0m,\n",
      "                  \u001b[0m'entry_addresses'\u001b[0m: \u001b[0m{'172.16.30.94': {}}\u001b[0m,\n",
      "                  \u001b[0m'hold_time'\u001b[0m: \u001b[0m172\u001b[0m,\n",
      "                  \u001b[0m'local_interface'\u001b[0m: \u001b[0m'GigabitEthernet0/3'\u001b[0m,\n",
      "                  \u001b[0m'management_addresses'\u001b[0m: \u001b[0m{'172.16.30.94': {}}\u001b[0m,\n",
      "                  \u001b[0m'native_vlan'\u001b[0m: \u001b[0m'1'\u001b[0m,\n",
      "                  \u001b[0m'platform'\u001b[0m: \u001b[0m'Cisco '\u001b[0m,\n",
      "                  \u001b[0m'port_id'\u001b[0m: \u001b[0m'GigabitEthernet0/1'\u001b[0m,\n",
      "                  \u001b[0m'software_version'\u001b[0m: \u001b[0m'Cisco IOS Software, vios_l2 Software '\u001b[0m\n",
      "                                      \u001b[0m'(vios_l2-ADVENTERPRISEK9-M), Version '\u001b[0m\n",
      "                                      \u001b[0m'15.2(CML_NIGHTLY_20180619)FLO_DSGS7, '\u001b[0m\n",
      "                                      \u001b[0m'EARLY DEPLOYMENT DEVELOPMENT BUILD, '\u001b[0m\n",
      "                                      \u001b[0m'synced to  V152_6_0_81_E\\n'\u001b[0m\n",
      "                                      \u001b[0m'Technical Support: '\u001b[0m\n",
      "                                      \u001b[0m'http://www.cisco.com/techsupport\\n'\u001b[0m\n",
      "                                      \u001b[0m'Copyright (c) 1986-2018 by Cisco '\u001b[0m\n",
      "                                      \u001b[0m'Systems, Inc.\\n'\u001b[0m\n",
      "                                      \u001b[0m'Compiled Tue 19-Jun-18 06:06 by mmen'\u001b[0m,\n",
      "                  \u001b[0m'vtp_management_domain'\u001b[0m: \u001b[0m' '\u001b[0m}\u001b[0m,\n",
      "             \u001b[0m2\u001b[0m: \u001b[0m{\u001b[0m \u001b[0m'advertisement_ver'\u001b[0m: \u001b[0m2\u001b[0m,\n",
      "                  \u001b[0m'capabilities'\u001b[0m: \u001b[0m'Router Switch IGMP'\u001b[0m,\n",
      "                  \u001b[0m'device_id'\u001b[0m: \u001b[0m'SW2.local'\u001b[0m,\n",
      "                  \u001b[0m'duplex_mode'\u001b[0m: \u001b[0m'full'\u001b[0m,\n",
      "                  \u001b[0m'entry_addresses'\u001b[0m: \u001b[0m{'172.16.30.92': {}}\u001b[0m,\n",
      "                  \u001b[0m'hold_time'\u001b[0m: \u001b[0m122\u001b[0m,\n",
      "                  \u001b[0m'local_interface'\u001b[0m: \u001b[0m'GigabitEthernet0/1'\u001b[0m,\n",
      "                  \u001b[0m'management_addresses'\u001b[0m: \u001b[0m{'172.16.30.92': {}}\u001b[0m,\n",
      "                  \u001b[0m'native_vlan'\u001b[0m: \u001b[0m'1'\u001b[0m,\n",
      "                  \u001b[0m'platform'\u001b[0m: \u001b[0m'Cisco '\u001b[0m,\n",
      "                  \u001b[0m'port_id'\u001b[0m: \u001b[0m'GigabitEthernet0/1'\u001b[0m,\n",
      "                  \u001b[0m'software_version'\u001b[0m: \u001b[0m'Cisco IOS Software, vios_l2 Software '\u001b[0m\n",
      "                                      \u001b[0m'(vios_l2-ADVENTERPRISEK9-M), Version '\u001b[0m\n",
      "                                      \u001b[0m'15.2(CML_NIGHTLY_20180619)FLO_DSGS7, '\u001b[0m\n",
      "                                      \u001b[0m'EARLY DEPLOYMENT DEVELOPMENT BUILD, '\u001b[0m\n",
      "                                      \u001b[0m'synced to  V152_6_0_81_E\\n'\u001b[0m\n",
      "                                      \u001b[0m'Technical Support: '\u001b[0m\n",
      "                                      \u001b[0m'http://www.cisco.com/techsupport\\n'\u001b[0m\n",
      "                                      \u001b[0m'Copyright (c) 1986-2018 by Cisco '\u001b[0m\n",
      "                                      \u001b[0m'Systems, Inc.\\n'\u001b[0m\n",
      "                                      \u001b[0m'Compiled Tue 19-Jun-18 06:06 by mmen'\u001b[0m,\n",
      "                  \u001b[0m'vtp_management_domain'\u001b[0m: \u001b[0m' '\u001b[0m}\u001b[0m,\n",
      "             \u001b[0m3\u001b[0m: \u001b[0m{\u001b[0m \u001b[0m'advertisement_ver'\u001b[0m: \u001b[0m2\u001b[0m,\n",
      "                  \u001b[0m'capabilities'\u001b[0m: \u001b[0m'Router Switch IGMP'\u001b[0m,\n",
      "                  \u001b[0m'device_id'\u001b[0m: \u001b[0m'SW1.local'\u001b[0m,\n",
      "                  \u001b[0m'duplex_mode'\u001b[0m: \u001b[0m'full'\u001b[0m,\n",
      "                  \u001b[0m'entry_addresses'\u001b[0m: \u001b[0m{'172.16.30.91': {}}\u001b[0m,\n",
      "                  \u001b[0m'hold_time'\u001b[0m: \u001b[0m170\u001b[0m,\n",
      "                  \u001b[0m'local_interface'\u001b[0m: \u001b[0m'GigabitEthernet0/2'\u001b[0m,\n",
      "                  \u001b[0m'management_addresses'\u001b[0m: \u001b[0m{'172.16.30.91': {}}\u001b[0m,\n",
      "                  \u001b[0m'native_vlan'\u001b[0m: \u001b[0m'1'\u001b[0m,\n",
      "                  \u001b[0m'platform'\u001b[0m: \u001b[0m'Cisco '\u001b[0m,\n",
      "                  \u001b[0m'port_id'\u001b[0m: \u001b[0m'GigabitEthernet0/1'\u001b[0m,\n",
      "                  \u001b[0m'software_version'\u001b[0m: \u001b[0m'Cisco IOS Software, vios_l2 Software '\u001b[0m\n",
      "                                      \u001b[0m'(vios_l2-ADVENTERPRISEK9-M), Version '\u001b[0m\n",
      "                                      \u001b[0m'15.2(CML_NIGHTLY_20180619)FLO_DSGS7, '\u001b[0m\n",
      "                                      \u001b[0m'EARLY DEPLOYMENT DEVELOPMENT BUILD, '\u001b[0m\n",
      "                                      \u001b[0m'synced to  V152_6_0_81_E\\n'\u001b[0m\n",
      "                                      \u001b[0m'Technical Support: '\u001b[0m\n",
      "                                      \u001b[0m'http://www.cisco.com/techsupport\\n'\u001b[0m\n",
      "                                      \u001b[0m'Copyright (c) 1986-2018 by Cisco '\u001b[0m\n",
      "                                      \u001b[0m'Systems, Inc.\\n'\u001b[0m\n",
      "                                      \u001b[0m'Compiled Tue 19-Jun-18 06:06 by mmen'\u001b[0m,\n",
      "                  \u001b[0m'vtp_management_domain'\u001b[0m: \u001b[0m' '\u001b[0m}\u001b[0m}\u001b[0m,\n",
      "  \u001b[0m'total_entries_displayed'\u001b[0m: \u001b[0m3\u001b[0m}\u001b[0m\n",
      "\u001b[0m\u001b[1m\u001b[32m^^^^ END Get CDP Neighbors ^^^^^^^^^^^^^^^^^^^^^^^^^^^^^^^^^^^^^^^^^^^^^^^^^^^^^\u001b[0m\n",
      "\u001b[0m\u001b[1m\u001b[34m* SW4 ** changed : False *******************************************************\u001b[0m\n",
      "\u001b[0m\u001b[1m\u001b[32mvvvv Get CDP Neighbors ** changed : False vvvvvvvvvvvvvvvvvvvvvvvvvvvvvvvvvvvvvv INFO\u001b[0m\n",
      "\u001b[0m{\u001b[0m \u001b[0m'index'\u001b[0m: \u001b[0m{\u001b[0m \u001b[0m1\u001b[0m: \u001b[0m{\u001b[0m \u001b[0m'advertisement_ver'\u001b[0m: \u001b[0m2\u001b[0m,\n",
      "                  \u001b[0m'capabilities'\u001b[0m: \u001b[0m'Router Switch IGMP'\u001b[0m,\n",
      "                  \u001b[0m'device_id'\u001b[0m: \u001b[0m'SW5.local'\u001b[0m,\n",
      "                  \u001b[0m'duplex_mode'\u001b[0m: \u001b[0m'full'\u001b[0m,\n",
      "                  \u001b[0m'entry_addresses'\u001b[0m: \u001b[0m{'172.16.30.95': {}}\u001b[0m,\n",
      "                  \u001b[0m'hold_time'\u001b[0m: \u001b[0m134\u001b[0m,\n",
      "                  \u001b[0m'local_interface'\u001b[0m: \u001b[0m'GigabitEthernet0/2'\u001b[0m,\n",
      "                  \u001b[0m'management_addresses'\u001b[0m: \u001b[0m{'172.16.30.95': {}}\u001b[0m,\n",
      "                  \u001b[0m'native_vlan'\u001b[0m: \u001b[0m'1'\u001b[0m,\n",
      "                  \u001b[0m'platform'\u001b[0m: \u001b[0m'Cisco '\u001b[0m,\n",
      "                  \u001b[0m'port_id'\u001b[0m: \u001b[0m'GigabitEthernet0/1'\u001b[0m,\n",
      "                  \u001b[0m'software_version'\u001b[0m: \u001b[0m'Cisco IOS Software, vios_l2 Software '\u001b[0m\n",
      "                                      \u001b[0m'(vios_l2-ADVENTERPRISEK9-M), Version '\u001b[0m\n",
      "                                      \u001b[0m'15.2(CML_NIGHTLY_20180619)FLO_DSGS7, '\u001b[0m\n",
      "                                      \u001b[0m'EARLY DEPLOYMENT DEVELOPMENT BUILD, '\u001b[0m\n",
      "                                      \u001b[0m'synced to  V152_6_0_81_E\\n'\u001b[0m\n",
      "                                      \u001b[0m'Technical Support: '\u001b[0m\n",
      "                                      \u001b[0m'http://www.cisco.com/techsupport\\n'\u001b[0m\n",
      "                                      \u001b[0m'Copyright (c) 1986-2018 by Cisco '\u001b[0m\n",
      "                                      \u001b[0m'Systems, Inc.\\n'\u001b[0m\n",
      "                                      \u001b[0m'Compiled Tue 19-Jun-18 06:06 by mmen'\u001b[0m,\n",
      "                  \u001b[0m'vtp_management_domain'\u001b[0m: \u001b[0m' '\u001b[0m}\u001b[0m,\n",
      "             \u001b[0m2\u001b[0m: \u001b[0m{\u001b[0m \u001b[0m'advertisement_ver'\u001b[0m: \u001b[0m2\u001b[0m,\n",
      "                  \u001b[0m'capabilities'\u001b[0m: \u001b[0m'Router Switch IGMP'\u001b[0m,\n",
      "                  \u001b[0m'device_id'\u001b[0m: \u001b[0m'SW3.local'\u001b[0m,\n",
      "                  \u001b[0m'duplex_mode'\u001b[0m: \u001b[0m'full'\u001b[0m,\n",
      "                  \u001b[0m'entry_addresses'\u001b[0m: \u001b[0m{'172.16.30.93': {}}\u001b[0m,\n",
      "                  \u001b[0m'hold_time'\u001b[0m: \u001b[0m131\u001b[0m,\n",
      "                  \u001b[0m'local_interface'\u001b[0m: \u001b[0m'GigabitEthernet0/1'\u001b[0m,\n",
      "                  \u001b[0m'management_addresses'\u001b[0m: \u001b[0m{'172.16.30.93': {}}\u001b[0m,\n",
      "                  \u001b[0m'native_vlan'\u001b[0m: \u001b[0m'1'\u001b[0m,\n",
      "                  \u001b[0m'platform'\u001b[0m: \u001b[0m'Cisco '\u001b[0m,\n",
      "                  \u001b[0m'port_id'\u001b[0m: \u001b[0m'GigabitEthernet0/3'\u001b[0m,\n",
      "                  \u001b[0m'software_version'\u001b[0m: \u001b[0m'Cisco IOS Software, vios_l2 Software '\u001b[0m\n",
      "                                      \u001b[0m'(vios_l2-ADVENTERPRISEK9-M), Version '\u001b[0m\n",
      "                                      \u001b[0m'15.2(CML_NIGHTLY_20180619)FLO_DSGS7, '\u001b[0m\n",
      "                                      \u001b[0m'EARLY DEPLOYMENT DEVELOPMENT BUILD, '\u001b[0m\n",
      "                                      \u001b[0m'synced to  V152_6_0_81_E\\n'\u001b[0m\n",
      "                                      \u001b[0m'Technical Support: '\u001b[0m\n",
      "                                      \u001b[0m'http://www.cisco.com/techsupport\\n'\u001b[0m\n",
      "                                      \u001b[0m'Copyright (c) 1986-2018 by Cisco '\u001b[0m\n",
      "                                      \u001b[0m'Systems, Inc.\\n'\u001b[0m\n",
      "                                      \u001b[0m'Compiled Tue 19-Jun-18 06:06 by mmen'\u001b[0m,\n",
      "                  \u001b[0m'vtp_management_domain'\u001b[0m: \u001b[0m' '\u001b[0m}\u001b[0m}\u001b[0m,\n",
      "  \u001b[0m'total_entries_displayed'\u001b[0m: \u001b[0m2\u001b[0m}\u001b[0m\n",
      "\u001b[0m\u001b[1m\u001b[32m^^^^ END Get CDP Neighbors ^^^^^^^^^^^^^^^^^^^^^^^^^^^^^^^^^^^^^^^^^^^^^^^^^^^^^\u001b[0m\n",
      "\u001b[0m\u001b[1m\u001b[34m* SW5 ** changed : False *******************************************************\u001b[0m\n",
      "\u001b[0m\u001b[1m\u001b[32mvvvv Get CDP Neighbors ** changed : False vvvvvvvvvvvvvvvvvvvvvvvvvvvvvvvvvvvvvv INFO\u001b[0m\n",
      "\u001b[0m{\u001b[0m \u001b[0m'index'\u001b[0m: \u001b[0m{\u001b[0m \u001b[0m1\u001b[0m: \u001b[0m{\u001b[0m \u001b[0m'advertisement_ver'\u001b[0m: \u001b[0m2\u001b[0m,\n",
      "                  \u001b[0m'capabilities'\u001b[0m: \u001b[0m'Router Switch IGMP'\u001b[0m,\n",
      "                  \u001b[0m'device_id'\u001b[0m: \u001b[0m'SW7.local'\u001b[0m,\n",
      "                  \u001b[0m'duplex_mode'\u001b[0m: \u001b[0m'full'\u001b[0m,\n",
      "                  \u001b[0m'entry_addresses'\u001b[0m: \u001b[0m{'172.16.30.97': {}}\u001b[0m,\n",
      "                  \u001b[0m'hold_time'\u001b[0m: \u001b[0m147\u001b[0m,\n",
      "                  \u001b[0m'local_interface'\u001b[0m: \u001b[0m'GigabitEthernet0/3'\u001b[0m,\n",
      "                  \u001b[0m'management_addresses'\u001b[0m: \u001b[0m{'172.16.30.97': {}}\u001b[0m,\n",
      "                  \u001b[0m'native_vlan'\u001b[0m: \u001b[0m'1'\u001b[0m,\n",
      "                  \u001b[0m'platform'\u001b[0m: \u001b[0m'Cisco '\u001b[0m,\n",
      "                  \u001b[0m'port_id'\u001b[0m: \u001b[0m'GigabitEthernet0/1'\u001b[0m,\n",
      "                  \u001b[0m'software_version'\u001b[0m: \u001b[0m'Cisco IOS Software, vios_l2 Software '\u001b[0m\n",
      "                                      \u001b[0m'(vios_l2-ADVENTERPRISEK9-M), Version '\u001b[0m\n",
      "                                      \u001b[0m'15.2(CML_NIGHTLY_20180619)FLO_DSGS7, '\u001b[0m\n",
      "                                      \u001b[0m'EARLY DEPLOYMENT DEVELOPMENT BUILD, '\u001b[0m\n",
      "                                      \u001b[0m'synced to  V152_6_0_81_E\\n'\u001b[0m\n",
      "                                      \u001b[0m'Technical Support: '\u001b[0m\n",
      "                                      \u001b[0m'http://www.cisco.com/techsupport\\n'\u001b[0m\n",
      "                                      \u001b[0m'Copyright (c) 1986-2018 by Cisco '\u001b[0m\n",
      "                                      \u001b[0m'Systems, Inc.\\n'\u001b[0m\n",
      "                                      \u001b[0m'Compiled Tue 19-Jun-18 06:06 by mmen'\u001b[0m,\n",
      "                  \u001b[0m'vtp_management_domain'\u001b[0m: \u001b[0m' '\u001b[0m}\u001b[0m,\n",
      "             \u001b[0m2\u001b[0m: \u001b[0m{\u001b[0m \u001b[0m'advertisement_ver'\u001b[0m: \u001b[0m2\u001b[0m,\n",
      "                  \u001b[0m'capabilities'\u001b[0m: \u001b[0m'Router Switch IGMP'\u001b[0m,\n",
      "                  \u001b[0m'device_id'\u001b[0m: \u001b[0m'SW6.local'\u001b[0m,\n",
      "                  \u001b[0m'duplex_mode'\u001b[0m: \u001b[0m'full'\u001b[0m,\n",
      "                  \u001b[0m'entry_addresses'\u001b[0m: \u001b[0m{'172.16.30.96': {}}\u001b[0m,\n",
      "                  \u001b[0m'hold_time'\u001b[0m: \u001b[0m152\u001b[0m,\n",
      "                  \u001b[0m'local_interface'\u001b[0m: \u001b[0m'GigabitEthernet0/2'\u001b[0m,\n",
      "                  \u001b[0m'management_addresses'\u001b[0m: \u001b[0m{'172.16.30.96': {}}\u001b[0m,\n",
      "                  \u001b[0m'native_vlan'\u001b[0m: \u001b[0m'1'\u001b[0m,\n",
      "                  \u001b[0m'platform'\u001b[0m: \u001b[0m'Cisco '\u001b[0m,\n",
      "                  \u001b[0m'port_id'\u001b[0m: \u001b[0m'GigabitEthernet0/1'\u001b[0m,\n",
      "                  \u001b[0m'software_version'\u001b[0m: \u001b[0m'Cisco IOS Software, vios_l2 Software '\u001b[0m\n",
      "                                      \u001b[0m'(vios_l2-ADVENTERPRISEK9-M), Version '\u001b[0m\n",
      "                                      \u001b[0m'15.2(CML_NIGHTLY_20180619)FLO_DSGS7, '\u001b[0m\n",
      "                                      \u001b[0m'EARLY DEPLOYMENT DEVELOPMENT BUILD, '\u001b[0m\n",
      "                                      \u001b[0m'synced to  V152_6_0_81_E\\n'\u001b[0m\n",
      "                                      \u001b[0m'Technical Support: '\u001b[0m\n",
      "                                      \u001b[0m'http://www.cisco.com/techsupport\\n'\u001b[0m\n",
      "                                      \u001b[0m'Copyright (c) 1986-2018 by Cisco '\u001b[0m\n",
      "                                      \u001b[0m'Systems, Inc.\\n'\u001b[0m\n",
      "                                      \u001b[0m'Compiled Tue 19-Jun-18 06:06 by mmen'\u001b[0m,\n",
      "                  \u001b[0m'vtp_management_domain'\u001b[0m: \u001b[0m' '\u001b[0m}\u001b[0m,\n",
      "             \u001b[0m3\u001b[0m: \u001b[0m{\u001b[0m \u001b[0m'advertisement_ver'\u001b[0m: \u001b[0m2\u001b[0m,\n",
      "                  \u001b[0m'capabilities'\u001b[0m: \u001b[0m'Router Switch IGMP'\u001b[0m,\n",
      "                  \u001b[0m'device_id'\u001b[0m: \u001b[0m'SW4.local'\u001b[0m,\n",
      "                  \u001b[0m'duplex_mode'\u001b[0m: \u001b[0m'full'\u001b[0m,\n",
      "                  \u001b[0m'entry_addresses'\u001b[0m: \u001b[0m{'172.16.30.94': {}}\u001b[0m,\n",
      "                  \u001b[0m'hold_time'\u001b[0m: \u001b[0m130\u001b[0m,\n",
      "                  \u001b[0m'local_interface'\u001b[0m: \u001b[0m'GigabitEthernet0/1'\u001b[0m,\n",
      "                  \u001b[0m'management_addresses'\u001b[0m: \u001b[0m{'172.16.30.94': {}}\u001b[0m,\n",
      "                  \u001b[0m'native_vlan'\u001b[0m: \u001b[0m'1'\u001b[0m,\n",
      "                  \u001b[0m'platform'\u001b[0m: \u001b[0m'Cisco '\u001b[0m,\n",
      "                  \u001b[0m'port_id'\u001b[0m: \u001b[0m'GigabitEthernet0/2'\u001b[0m,\n",
      "                  \u001b[0m'software_version'\u001b[0m: \u001b[0m'Cisco IOS Software, vios_l2 Software '\u001b[0m\n",
      "                                      \u001b[0m'(vios_l2-ADVENTERPRISEK9-M), Version '\u001b[0m\n",
      "                                      \u001b[0m'15.2(CML_NIGHTLY_20180619)FLO_DSGS7, '\u001b[0m\n",
      "                                      \u001b[0m'EARLY DEPLOYMENT DEVELOPMENT BUILD, '\u001b[0m\n",
      "                                      \u001b[0m'synced to  V152_6_0_81_E\\n'\u001b[0m\n",
      "                                      \u001b[0m'Technical Support: '\u001b[0m\n",
      "                                      \u001b[0m'http://www.cisco.com/techsupport\\n'\u001b[0m\n",
      "                                      \u001b[0m'Copyright (c) 1986-2018 by Cisco '\u001b[0m\n",
      "                                      \u001b[0m'Systems, Inc.\\n'\u001b[0m\n",
      "                                      \u001b[0m'Compiled Tue 19-Jun-18 06:06 by mmen'\u001b[0m,\n",
      "                  \u001b[0m'vtp_management_domain'\u001b[0m: \u001b[0m' '\u001b[0m}\u001b[0m}\u001b[0m,\n",
      "  \u001b[0m'total_entries_displayed'\u001b[0m: \u001b[0m3\u001b[0m}\u001b[0m\n",
      "\u001b[0m\u001b[1m\u001b[32m^^^^ END Get CDP Neighbors ^^^^^^^^^^^^^^^^^^^^^^^^^^^^^^^^^^^^^^^^^^^^^^^^^^^^^\u001b[0m\n",
      "\u001b[0m\u001b[1m\u001b[34m* SW6 ** changed : False *******************************************************\u001b[0m\n",
      "\u001b[0m\u001b[1m\u001b[32mvvvv Get CDP Neighbors ** changed : False vvvvvvvvvvvvvvvvvvvvvvvvvvvvvvvvvvvvvv INFO\u001b[0m\n",
      "\u001b[0m{\u001b[0m \u001b[0m'index'\u001b[0m: \u001b[0m{\u001b[0m \u001b[0m1\u001b[0m: \u001b[0m{\u001b[0m \u001b[0m'advertisement_ver'\u001b[0m: \u001b[0m2\u001b[0m,\n",
      "                  \u001b[0m'capabilities'\u001b[0m: \u001b[0m'Router Switch IGMP'\u001b[0m,\n",
      "                  \u001b[0m'device_id'\u001b[0m: \u001b[0m'SW5.local'\u001b[0m,\n",
      "                  \u001b[0m'duplex_mode'\u001b[0m: \u001b[0m'full'\u001b[0m,\n",
      "                  \u001b[0m'entry_addresses'\u001b[0m: \u001b[0m{'172.16.30.95': {}}\u001b[0m,\n",
      "                  \u001b[0m'hold_time'\u001b[0m: \u001b[0m162\u001b[0m,\n",
      "                  \u001b[0m'local_interface'\u001b[0m: \u001b[0m'GigabitEthernet0/1'\u001b[0m,\n",
      "                  \u001b[0m'management_addresses'\u001b[0m: \u001b[0m{'172.16.30.95': {}}\u001b[0m,\n",
      "                  \u001b[0m'native_vlan'\u001b[0m: \u001b[0m'1'\u001b[0m,\n",
      "                  \u001b[0m'platform'\u001b[0m: \u001b[0m'Cisco '\u001b[0m,\n",
      "                  \u001b[0m'port_id'\u001b[0m: \u001b[0m'GigabitEthernet0/2'\u001b[0m,\n",
      "                  \u001b[0m'software_version'\u001b[0m: \u001b[0m'Cisco IOS Software, vios_l2 Software '\u001b[0m\n",
      "                                      \u001b[0m'(vios_l2-ADVENTERPRISEK9-M), Version '\u001b[0m\n",
      "                                      \u001b[0m'15.2(CML_NIGHTLY_20180619)FLO_DSGS7, '\u001b[0m\n",
      "                                      \u001b[0m'EARLY DEPLOYMENT DEVELOPMENT BUILD, '\u001b[0m\n",
      "                                      \u001b[0m'synced to  V152_6_0_81_E\\n'\u001b[0m\n",
      "                                      \u001b[0m'Technical Support: '\u001b[0m\n",
      "                                      \u001b[0m'http://www.cisco.com/techsupport\\n'\u001b[0m\n",
      "                                      \u001b[0m'Copyright (c) 1986-2018 by Cisco '\u001b[0m\n",
      "                                      \u001b[0m'Systems, Inc.\\n'\u001b[0m\n",
      "                                      \u001b[0m'Compiled Tue 19-Jun-18 06:06 by mmen'\u001b[0m,\n",
      "                  \u001b[0m'vtp_management_domain'\u001b[0m: \u001b[0m' '\u001b[0m}\u001b[0m}\u001b[0m,\n",
      "  \u001b[0m'total_entries_displayed'\u001b[0m: \u001b[0m1\u001b[0m}\u001b[0m\n",
      "\u001b[0m\u001b[1m\u001b[32m^^^^ END Get CDP Neighbors ^^^^^^^^^^^^^^^^^^^^^^^^^^^^^^^^^^^^^^^^^^^^^^^^^^^^^\u001b[0m\n",
      "\u001b[0m\u001b[1m\u001b[34m* SW7 ** changed : False *******************************************************\u001b[0m\n",
      "\u001b[0m\u001b[1m\u001b[32mvvvv Get CDP Neighbors ** changed : False vvvvvvvvvvvvvvvvvvvvvvvvvvvvvvvvvvvvvv INFO\u001b[0m\n",
      "\u001b[0m{\u001b[0m \u001b[0m'index'\u001b[0m: \u001b[0m{\u001b[0m \u001b[0m1\u001b[0m: \u001b[0m{\u001b[0m \u001b[0m'advertisement_ver'\u001b[0m: \u001b[0m2\u001b[0m,\n",
      "                  \u001b[0m'capabilities'\u001b[0m: \u001b[0m'Router Switch IGMP'\u001b[0m,\n",
      "                  \u001b[0m'device_id'\u001b[0m: \u001b[0m'SW5.local'\u001b[0m,\n",
      "                  \u001b[0m'duplex_mode'\u001b[0m: \u001b[0m'full'\u001b[0m,\n",
      "                  \u001b[0m'entry_addresses'\u001b[0m: \u001b[0m{'172.16.30.95': {}}\u001b[0m,\n",
      "                  \u001b[0m'hold_time'\u001b[0m: \u001b[0m152\u001b[0m,\n",
      "                  \u001b[0m'local_interface'\u001b[0m: \u001b[0m'GigabitEthernet0/1'\u001b[0m,\n",
      "                  \u001b[0m'management_addresses'\u001b[0m: \u001b[0m{'172.16.30.95': {}}\u001b[0m,\n",
      "                  \u001b[0m'native_vlan'\u001b[0m: \u001b[0m'1'\u001b[0m,\n",
      "                  \u001b[0m'platform'\u001b[0m: \u001b[0m'Cisco '\u001b[0m,\n",
      "                  \u001b[0m'port_id'\u001b[0m: \u001b[0m'GigabitEthernet0/3'\u001b[0m,\n",
      "                  \u001b[0m'software_version'\u001b[0m: \u001b[0m'Cisco IOS Software, vios_l2 Software '\u001b[0m\n",
      "                                      \u001b[0m'(vios_l2-ADVENTERPRISEK9-M), Version '\u001b[0m\n",
      "                                      \u001b[0m'15.2(CML_NIGHTLY_20180619)FLO_DSGS7, '\u001b[0m\n",
      "                                      \u001b[0m'EARLY DEPLOYMENT DEVELOPMENT BUILD, '\u001b[0m\n",
      "                                      \u001b[0m'synced to  V152_6_0_81_E\\n'\u001b[0m\n",
      "                                      \u001b[0m'Technical Support: '\u001b[0m\n",
      "                                      \u001b[0m'http://www.cisco.com/techsupport\\n'\u001b[0m\n",
      "                                      \u001b[0m'Copyright (c) 1986-2018 by Cisco '\u001b[0m\n",
      "                                      \u001b[0m'Systems, Inc.\\n'\u001b[0m\n",
      "                                      \u001b[0m'Compiled Tue 19-Jun-18 06:06 by mmen'\u001b[0m,\n",
      "                  \u001b[0m'vtp_management_domain'\u001b[0m: \u001b[0m' '\u001b[0m}\u001b[0m}\u001b[0m,\n",
      "  \u001b[0m'total_entries_displayed'\u001b[0m: \u001b[0m1\u001b[0m}\u001b[0m\n",
      "\u001b[0m\u001b[1m\u001b[32m^^^^ END Get CDP Neighbors ^^^^^^^^^^^^^^^^^^^^^^^^^^^^^^^^^^^^^^^^^^^^^^^^^^^^^\u001b[0m\n",
      "\u001b[0m"
     ]
    }
   ],
   "source": [
    "print_result(customCDPResult)"
   ]
  },
  {
   "cell_type": "code",
   "execution_count": 17,
   "metadata": {},
   "outputs": [
    {
     "name": "stdout",
     "output_type": "stream",
     "text": [
      "\u001b[1m\u001b[36mGet Vlans***********************************************************************\u001b[0m\n",
      "\u001b[0m\u001b[1m\u001b[34m* SW1 ** changed : False *******************************************************\u001b[0m\n",
      "\u001b[0m\u001b[1m\u001b[32mvvvv Get Vlans ** changed : False vvvvvvvvvvvvvvvvvvvvvvvvvvvvvvvvvvvvvvvvvvvvvv INFO\u001b[0m\n",
      "\u001b[0m{\u001b[0m \u001b[0m'vlans'\u001b[0m: \u001b[0m{\u001b[0m \u001b[0m'1'\u001b[0m: \u001b[0m{\u001b[0m \u001b[0m'interfaces'\u001b[0m: \u001b[0m['GigabitEthernet0/1']\u001b[0m,\n",
      "                    \u001b[0m'mtu'\u001b[0m: \u001b[0m1500\u001b[0m,\n",
      "                    \u001b[0m'name'\u001b[0m: \u001b[0m'default'\u001b[0m,\n",
      "                    \u001b[0m'said'\u001b[0m: \u001b[0m100001\u001b[0m,\n",
      "                    \u001b[0m'shutdown'\u001b[0m: \u001b[0mFalse\u001b[0m,\n",
      "                    \u001b[0m'state'\u001b[0m: \u001b[0m'active'\u001b[0m,\n",
      "                    \u001b[0m'trans1'\u001b[0m: \u001b[0m0\u001b[0m,\n",
      "                    \u001b[0m'trans2'\u001b[0m: \u001b[0m0\u001b[0m,\n",
      "                    \u001b[0m'type'\u001b[0m: \u001b[0m'enet'\u001b[0m,\n",
      "                    \u001b[0m'vlan_id'\u001b[0m: \u001b[0m'1'\u001b[0m}\u001b[0m,\n",
      "             \u001b[0m'10'\u001b[0m: \u001b[0m{\u001b[0m \u001b[0m'mtu'\u001b[0m: \u001b[0m1500\u001b[0m,\n",
      "                     \u001b[0m'name'\u001b[0m: \u001b[0m'VLAN0010'\u001b[0m,\n",
      "                     \u001b[0m'said'\u001b[0m: \u001b[0m100010\u001b[0m,\n",
      "                     \u001b[0m'shutdown'\u001b[0m: \u001b[0mFalse\u001b[0m,\n",
      "                     \u001b[0m'state'\u001b[0m: \u001b[0m'active'\u001b[0m,\n",
      "                     \u001b[0m'trans1'\u001b[0m: \u001b[0m0\u001b[0m,\n",
      "                     \u001b[0m'trans2'\u001b[0m: \u001b[0m0\u001b[0m,\n",
      "                     \u001b[0m'type'\u001b[0m: \u001b[0m'enet'\u001b[0m,\n",
      "                     \u001b[0m'vlan_id'\u001b[0m: \u001b[0m'10'\u001b[0m}\u001b[0m,\n",
      "             \u001b[0m'1002'\u001b[0m: \u001b[0m{\u001b[0m \u001b[0m'mtu'\u001b[0m: \u001b[0m1500\u001b[0m,\n",
      "                       \u001b[0m'name'\u001b[0m: \u001b[0m'fddi-default'\u001b[0m,\n",
      "                       \u001b[0m'said'\u001b[0m: \u001b[0m101002\u001b[0m,\n",
      "                       \u001b[0m'shutdown'\u001b[0m: \u001b[0mFalse\u001b[0m,\n",
      "                       \u001b[0m'state'\u001b[0m: \u001b[0m'unsupport'\u001b[0m,\n",
      "                       \u001b[0m'trans1'\u001b[0m: \u001b[0m0\u001b[0m,\n",
      "                       \u001b[0m'trans2'\u001b[0m: \u001b[0m0\u001b[0m,\n",
      "                       \u001b[0m'type'\u001b[0m: \u001b[0m'fddi'\u001b[0m,\n",
      "                       \u001b[0m'vlan_id'\u001b[0m: \u001b[0m'1002'\u001b[0m}\u001b[0m,\n",
      "             \u001b[0m'1003'\u001b[0m: \u001b[0m{\u001b[0m \u001b[0m'mtu'\u001b[0m: \u001b[0m1500\u001b[0m,\n",
      "                       \u001b[0m'name'\u001b[0m: \u001b[0m'token-ring-default'\u001b[0m,\n",
      "                       \u001b[0m'said'\u001b[0m: \u001b[0m101003\u001b[0m,\n",
      "                       \u001b[0m'shutdown'\u001b[0m: \u001b[0mFalse\u001b[0m,\n",
      "                       \u001b[0m'state'\u001b[0m: \u001b[0m'unsupport'\u001b[0m,\n",
      "                       \u001b[0m'trans1'\u001b[0m: \u001b[0m0\u001b[0m,\n",
      "                       \u001b[0m'trans2'\u001b[0m: \u001b[0m0\u001b[0m,\n",
      "                       \u001b[0m'type'\u001b[0m: \u001b[0m'tr'\u001b[0m,\n",
      "                       \u001b[0m'vlan_id'\u001b[0m: \u001b[0m'1003'\u001b[0m}\u001b[0m,\n",
      "             \u001b[0m'1004'\u001b[0m: \u001b[0m{\u001b[0m \u001b[0m'mtu'\u001b[0m: \u001b[0m1500\u001b[0m,\n",
      "                       \u001b[0m'name'\u001b[0m: \u001b[0m'fddinet-default'\u001b[0m,\n",
      "                       \u001b[0m'said'\u001b[0m: \u001b[0m101004\u001b[0m,\n",
      "                       \u001b[0m'shutdown'\u001b[0m: \u001b[0mFalse\u001b[0m,\n",
      "                       \u001b[0m'state'\u001b[0m: \u001b[0m'unsupport'\u001b[0m,\n",
      "                       \u001b[0m'stp'\u001b[0m: \u001b[0m'ieee'\u001b[0m,\n",
      "                       \u001b[0m'trans1'\u001b[0m: \u001b[0m0\u001b[0m,\n",
      "                       \u001b[0m'trans2'\u001b[0m: \u001b[0m0\u001b[0m,\n",
      "                       \u001b[0m'type'\u001b[0m: \u001b[0m'fdnet'\u001b[0m,\n",
      "                       \u001b[0m'vlan_id'\u001b[0m: \u001b[0m'1004'\u001b[0m}\u001b[0m,\n",
      "             \u001b[0m'1005'\u001b[0m: \u001b[0m{\u001b[0m \u001b[0m'mtu'\u001b[0m: \u001b[0m1500\u001b[0m,\n",
      "                       \u001b[0m'name'\u001b[0m: \u001b[0m'trnet-default'\u001b[0m,\n",
      "                       \u001b[0m'said'\u001b[0m: \u001b[0m101005\u001b[0m,\n",
      "                       \u001b[0m'shutdown'\u001b[0m: \u001b[0mFalse\u001b[0m,\n",
      "                       \u001b[0m'state'\u001b[0m: \u001b[0m'unsupport'\u001b[0m,\n",
      "                       \u001b[0m'stp'\u001b[0m: \u001b[0m'ibm'\u001b[0m,\n",
      "                       \u001b[0m'trans1'\u001b[0m: \u001b[0m0\u001b[0m,\n",
      "                       \u001b[0m'trans2'\u001b[0m: \u001b[0m0\u001b[0m,\n",
      "                       \u001b[0m'type'\u001b[0m: \u001b[0m'trnet'\u001b[0m,\n",
      "                       \u001b[0m'vlan_id'\u001b[0m: \u001b[0m'1005'\u001b[0m}\u001b[0m}\u001b[0m}\u001b[0m\n",
      "\u001b[0m\u001b[1m\u001b[32m^^^^ END Get Vlans ^^^^^^^^^^^^^^^^^^^^^^^^^^^^^^^^^^^^^^^^^^^^^^^^^^^^^^^^^^^^^\u001b[0m\n",
      "\u001b[0m\u001b[1m\u001b[34m* SW2 ** changed : False *******************************************************\u001b[0m\n",
      "\u001b[0m\u001b[1m\u001b[32mvvvv Get Vlans ** changed : False vvvvvvvvvvvvvvvvvvvvvvvvvvvvvvvvvvvvvvvvvvvvvv INFO\u001b[0m\n",
      "\u001b[0m{\u001b[0m \u001b[0m'vlans'\u001b[0m: \u001b[0m{\u001b[0m \u001b[0m'1'\u001b[0m: \u001b[0m{\u001b[0m \u001b[0m'interfaces'\u001b[0m: \u001b[0m['GigabitEthernet0/1']\u001b[0m,\n",
      "                    \u001b[0m'mtu'\u001b[0m: \u001b[0m1500\u001b[0m,\n",
      "                    \u001b[0m'name'\u001b[0m: \u001b[0m'default'\u001b[0m,\n",
      "                    \u001b[0m'said'\u001b[0m: \u001b[0m100001\u001b[0m,\n",
      "                    \u001b[0m'shutdown'\u001b[0m: \u001b[0mFalse\u001b[0m,\n",
      "                    \u001b[0m'state'\u001b[0m: \u001b[0m'active'\u001b[0m,\n",
      "                    \u001b[0m'trans1'\u001b[0m: \u001b[0m0\u001b[0m,\n",
      "                    \u001b[0m'trans2'\u001b[0m: \u001b[0m0\u001b[0m,\n",
      "                    \u001b[0m'type'\u001b[0m: \u001b[0m'enet'\u001b[0m,\n",
      "                    \u001b[0m'vlan_id'\u001b[0m: \u001b[0m'1'\u001b[0m}\u001b[0m,\n",
      "             \u001b[0m'10'\u001b[0m: \u001b[0m{\u001b[0m \u001b[0m'mtu'\u001b[0m: \u001b[0m1500\u001b[0m,\n",
      "                     \u001b[0m'name'\u001b[0m: \u001b[0m'VLAN0010'\u001b[0m,\n",
      "                     \u001b[0m'said'\u001b[0m: \u001b[0m100010\u001b[0m,\n",
      "                     \u001b[0m'shutdown'\u001b[0m: \u001b[0mFalse\u001b[0m,\n",
      "                     \u001b[0m'state'\u001b[0m: \u001b[0m'active'\u001b[0m,\n",
      "                     \u001b[0m'trans1'\u001b[0m: \u001b[0m0\u001b[0m,\n",
      "                     \u001b[0m'trans2'\u001b[0m: \u001b[0m0\u001b[0m,\n",
      "                     \u001b[0m'type'\u001b[0m: \u001b[0m'enet'\u001b[0m,\n",
      "                     \u001b[0m'vlan_id'\u001b[0m: \u001b[0m'10'\u001b[0m}\u001b[0m,\n",
      "             \u001b[0m'1002'\u001b[0m: \u001b[0m{\u001b[0m \u001b[0m'mtu'\u001b[0m: \u001b[0m1500\u001b[0m,\n",
      "                       \u001b[0m'name'\u001b[0m: \u001b[0m'fddi-default'\u001b[0m,\n",
      "                       \u001b[0m'said'\u001b[0m: \u001b[0m101002\u001b[0m,\n",
      "                       \u001b[0m'shutdown'\u001b[0m: \u001b[0mFalse\u001b[0m,\n",
      "                       \u001b[0m'state'\u001b[0m: \u001b[0m'unsupport'\u001b[0m,\n",
      "                       \u001b[0m'trans1'\u001b[0m: \u001b[0m0\u001b[0m,\n",
      "                       \u001b[0m'trans2'\u001b[0m: \u001b[0m0\u001b[0m,\n",
      "                       \u001b[0m'type'\u001b[0m: \u001b[0m'fddi'\u001b[0m,\n",
      "                       \u001b[0m'vlan_id'\u001b[0m: \u001b[0m'1002'\u001b[0m}\u001b[0m,\n",
      "             \u001b[0m'1003'\u001b[0m: \u001b[0m{\u001b[0m \u001b[0m'mtu'\u001b[0m: \u001b[0m1500\u001b[0m,\n",
      "                       \u001b[0m'name'\u001b[0m: \u001b[0m'token-ring-default'\u001b[0m,\n",
      "                       \u001b[0m'said'\u001b[0m: \u001b[0m101003\u001b[0m,\n",
      "                       \u001b[0m'shutdown'\u001b[0m: \u001b[0mFalse\u001b[0m,\n",
      "                       \u001b[0m'state'\u001b[0m: \u001b[0m'unsupport'\u001b[0m,\n",
      "                       \u001b[0m'trans1'\u001b[0m: \u001b[0m0\u001b[0m,\n",
      "                       \u001b[0m'trans2'\u001b[0m: \u001b[0m0\u001b[0m,\n",
      "                       \u001b[0m'type'\u001b[0m: \u001b[0m'tr'\u001b[0m,\n",
      "                       \u001b[0m'vlan_id'\u001b[0m: \u001b[0m'1003'\u001b[0m}\u001b[0m,\n",
      "             \u001b[0m'1004'\u001b[0m: \u001b[0m{\u001b[0m \u001b[0m'mtu'\u001b[0m: \u001b[0m1500\u001b[0m,\n",
      "                       \u001b[0m'name'\u001b[0m: \u001b[0m'fddinet-default'\u001b[0m,\n",
      "                       \u001b[0m'said'\u001b[0m: \u001b[0m101004\u001b[0m,\n",
      "                       \u001b[0m'shutdown'\u001b[0m: \u001b[0mFalse\u001b[0m,\n",
      "                       \u001b[0m'state'\u001b[0m: \u001b[0m'unsupport'\u001b[0m,\n",
      "                       \u001b[0m'stp'\u001b[0m: \u001b[0m'ieee'\u001b[0m,\n",
      "                       \u001b[0m'trans1'\u001b[0m: \u001b[0m0\u001b[0m,\n",
      "                       \u001b[0m'trans2'\u001b[0m: \u001b[0m0\u001b[0m,\n",
      "                       \u001b[0m'type'\u001b[0m: \u001b[0m'fdnet'\u001b[0m,\n",
      "                       \u001b[0m'vlan_id'\u001b[0m: \u001b[0m'1004'\u001b[0m}\u001b[0m,\n",
      "             \u001b[0m'1005'\u001b[0m: \u001b[0m{\u001b[0m \u001b[0m'mtu'\u001b[0m: \u001b[0m1500\u001b[0m,\n",
      "                       \u001b[0m'name'\u001b[0m: \u001b[0m'trnet-default'\u001b[0m,\n",
      "                       \u001b[0m'said'\u001b[0m: \u001b[0m101005\u001b[0m,\n",
      "                       \u001b[0m'shutdown'\u001b[0m: \u001b[0mFalse\u001b[0m,\n",
      "                       \u001b[0m'state'\u001b[0m: \u001b[0m'unsupport'\u001b[0m,\n",
      "                       \u001b[0m'stp'\u001b[0m: \u001b[0m'ibm'\u001b[0m,\n",
      "                       \u001b[0m'trans1'\u001b[0m: \u001b[0m0\u001b[0m,\n",
      "                       \u001b[0m'trans2'\u001b[0m: \u001b[0m0\u001b[0m,\n",
      "                       \u001b[0m'type'\u001b[0m: \u001b[0m'trnet'\u001b[0m,\n",
      "                       \u001b[0m'vlan_id'\u001b[0m: \u001b[0m'1005'\u001b[0m}\u001b[0m}\u001b[0m}\u001b[0m\n",
      "\u001b[0m\u001b[1m\u001b[32m^^^^ END Get Vlans ^^^^^^^^^^^^^^^^^^^^^^^^^^^^^^^^^^^^^^^^^^^^^^^^^^^^^^^^^^^^^\u001b[0m\n",
      "\u001b[0m\u001b[1m\u001b[34m* SW3 ** changed : False *******************************************************\u001b[0m\n",
      "\u001b[0m\u001b[1m\u001b[32mvvvv Get Vlans ** changed : False vvvvvvvvvvvvvvvvvvvvvvvvvvvvvvvvvvvvvvvvvvvvvv INFO\u001b[0m\n",
      "\u001b[0m{\u001b[0m \u001b[0m'vlans'\u001b[0m: \u001b[0m{\u001b[0m \u001b[0m'1'\u001b[0m: \u001b[0m{\u001b[0m \u001b[0m'interfaces'\u001b[0m: \u001b[0m[\u001b[0m \u001b[0m\u001b[0m'GigabitEthernet0/1'\u001b[0m,\n",
      "                                    \u001b[0m'GigabitEthernet0/2'\u001b[0m,\n",
      "                                    \u001b[0m'GigabitEthernet0/3'\u001b[0m]\u001b[0m,\n",
      "                    \u001b[0m'mtu'\u001b[0m: \u001b[0m1500\u001b[0m,\n",
      "                    \u001b[0m'name'\u001b[0m: \u001b[0m'default'\u001b[0m,\n",
      "                    \u001b[0m'said'\u001b[0m: \u001b[0m100001\u001b[0m,\n",
      "                    \u001b[0m'shutdown'\u001b[0m: \u001b[0mFalse\u001b[0m,\n",
      "                    \u001b[0m'state'\u001b[0m: \u001b[0m'active'\u001b[0m,\n",
      "                    \u001b[0m'trans1'\u001b[0m: \u001b[0m0\u001b[0m,\n",
      "                    \u001b[0m'trans2'\u001b[0m: \u001b[0m0\u001b[0m,\n",
      "                    \u001b[0m'type'\u001b[0m: \u001b[0m'enet'\u001b[0m,\n",
      "                    \u001b[0m'vlan_id'\u001b[0m: \u001b[0m'1'\u001b[0m}\u001b[0m,\n",
      "             \u001b[0m'10'\u001b[0m: \u001b[0m{\u001b[0m \u001b[0m'mtu'\u001b[0m: \u001b[0m1500\u001b[0m,\n",
      "                     \u001b[0m'name'\u001b[0m: \u001b[0m'VLAN0010'\u001b[0m,\n",
      "                     \u001b[0m'said'\u001b[0m: \u001b[0m100010\u001b[0m,\n",
      "                     \u001b[0m'shutdown'\u001b[0m: \u001b[0mFalse\u001b[0m,\n",
      "                     \u001b[0m'state'\u001b[0m: \u001b[0m'active'\u001b[0m,\n",
      "                     \u001b[0m'trans1'\u001b[0m: \u001b[0m0\u001b[0m,\n",
      "                     \u001b[0m'trans2'\u001b[0m: \u001b[0m0\u001b[0m,\n",
      "                     \u001b[0m'type'\u001b[0m: \u001b[0m'enet'\u001b[0m,\n",
      "                     \u001b[0m'vlan_id'\u001b[0m: \u001b[0m'10'\u001b[0m}\u001b[0m,\n",
      "             \u001b[0m'1002'\u001b[0m: \u001b[0m{\u001b[0m \u001b[0m'mtu'\u001b[0m: \u001b[0m1500\u001b[0m,\n",
      "                       \u001b[0m'name'\u001b[0m: \u001b[0m'fddi-default'\u001b[0m,\n",
      "                       \u001b[0m'said'\u001b[0m: \u001b[0m101002\u001b[0m,\n",
      "                       \u001b[0m'shutdown'\u001b[0m: \u001b[0mFalse\u001b[0m,\n",
      "                       \u001b[0m'state'\u001b[0m: \u001b[0m'unsupport'\u001b[0m,\n",
      "                       \u001b[0m'trans1'\u001b[0m: \u001b[0m0\u001b[0m,\n",
      "                       \u001b[0m'trans2'\u001b[0m: \u001b[0m0\u001b[0m,\n",
      "                       \u001b[0m'type'\u001b[0m: \u001b[0m'fddi'\u001b[0m,\n",
      "                       \u001b[0m'vlan_id'\u001b[0m: \u001b[0m'1002'\u001b[0m}\u001b[0m,\n",
      "             \u001b[0m'1003'\u001b[0m: \u001b[0m{\u001b[0m \u001b[0m'mtu'\u001b[0m: \u001b[0m1500\u001b[0m,\n",
      "                       \u001b[0m'name'\u001b[0m: \u001b[0m'token-ring-default'\u001b[0m,\n",
      "                       \u001b[0m'said'\u001b[0m: \u001b[0m101003\u001b[0m,\n",
      "                       \u001b[0m'shutdown'\u001b[0m: \u001b[0mFalse\u001b[0m,\n",
      "                       \u001b[0m'state'\u001b[0m: \u001b[0m'unsupport'\u001b[0m,\n",
      "                       \u001b[0m'trans1'\u001b[0m: \u001b[0m0\u001b[0m,\n",
      "                       \u001b[0m'trans2'\u001b[0m: \u001b[0m0\u001b[0m,\n",
      "                       \u001b[0m'type'\u001b[0m: \u001b[0m'tr'\u001b[0m,\n",
      "                       \u001b[0m'vlan_id'\u001b[0m: \u001b[0m'1003'\u001b[0m}\u001b[0m,\n",
      "             \u001b[0m'1004'\u001b[0m: \u001b[0m{\u001b[0m \u001b[0m'mtu'\u001b[0m: \u001b[0m1500\u001b[0m,\n",
      "                       \u001b[0m'name'\u001b[0m: \u001b[0m'fddinet-default'\u001b[0m,\n",
      "                       \u001b[0m'said'\u001b[0m: \u001b[0m101004\u001b[0m,\n",
      "                       \u001b[0m'shutdown'\u001b[0m: \u001b[0mFalse\u001b[0m,\n",
      "                       \u001b[0m'state'\u001b[0m: \u001b[0m'unsupport'\u001b[0m,\n",
      "                       \u001b[0m'stp'\u001b[0m: \u001b[0m'ieee'\u001b[0m,\n",
      "                       \u001b[0m'trans1'\u001b[0m: \u001b[0m0\u001b[0m,\n",
      "                       \u001b[0m'trans2'\u001b[0m: \u001b[0m0\u001b[0m,\n",
      "                       \u001b[0m'type'\u001b[0m: \u001b[0m'fdnet'\u001b[0m,\n",
      "                       \u001b[0m'vlan_id'\u001b[0m: \u001b[0m'1004'\u001b[0m}\u001b[0m,\n",
      "             \u001b[0m'1005'\u001b[0m: \u001b[0m{\u001b[0m \u001b[0m'mtu'\u001b[0m: \u001b[0m1500\u001b[0m,\n",
      "                       \u001b[0m'name'\u001b[0m: \u001b[0m'trnet-default'\u001b[0m,\n",
      "                       \u001b[0m'said'\u001b[0m: \u001b[0m101005\u001b[0m,\n",
      "                       \u001b[0m'shutdown'\u001b[0m: \u001b[0mFalse\u001b[0m,\n",
      "                       \u001b[0m'state'\u001b[0m: \u001b[0m'unsupport'\u001b[0m,\n",
      "                       \u001b[0m'stp'\u001b[0m: \u001b[0m'ibm'\u001b[0m,\n",
      "                       \u001b[0m'trans1'\u001b[0m: \u001b[0m0\u001b[0m,\n",
      "                       \u001b[0m'trans2'\u001b[0m: \u001b[0m0\u001b[0m,\n",
      "                       \u001b[0m'type'\u001b[0m: \u001b[0m'trnet'\u001b[0m,\n",
      "                       \u001b[0m'vlan_id'\u001b[0m: \u001b[0m'1005'\u001b[0m}\u001b[0m}\u001b[0m}\u001b[0m\n",
      "\u001b[0m\u001b[1m\u001b[32m^^^^ END Get Vlans ^^^^^^^^^^^^^^^^^^^^^^^^^^^^^^^^^^^^^^^^^^^^^^^^^^^^^^^^^^^^^\u001b[0m\n",
      "\u001b[0m\u001b[1m\u001b[34m* SW4 ** changed : False *******************************************************\u001b[0m\n",
      "\u001b[0m\u001b[1m\u001b[32mvvvv Get Vlans ** changed : False vvvvvvvvvvvvvvvvvvvvvvvvvvvvvvvvvvvvvvvvvvvvvv INFO\u001b[0m\n",
      "\u001b[0m{\u001b[0m \u001b[0m'vlans'\u001b[0m: \u001b[0m{\u001b[0m \u001b[0m'1'\u001b[0m: \u001b[0m{\u001b[0m \u001b[0m'interfaces'\u001b[0m: \u001b[0m['GigabitEthernet0/1', 'GigabitEthernet0/2']\u001b[0m,\n",
      "                    \u001b[0m'mtu'\u001b[0m: \u001b[0m1500\u001b[0m,\n",
      "                    \u001b[0m'name'\u001b[0m: \u001b[0m'default'\u001b[0m,\n",
      "                    \u001b[0m'said'\u001b[0m: \u001b[0m100001\u001b[0m,\n",
      "                    \u001b[0m'shutdown'\u001b[0m: \u001b[0mFalse\u001b[0m,\n",
      "                    \u001b[0m'state'\u001b[0m: \u001b[0m'active'\u001b[0m,\n",
      "                    \u001b[0m'trans1'\u001b[0m: \u001b[0m0\u001b[0m,\n",
      "                    \u001b[0m'trans2'\u001b[0m: \u001b[0m0\u001b[0m,\n",
      "                    \u001b[0m'type'\u001b[0m: \u001b[0m'enet'\u001b[0m,\n",
      "                    \u001b[0m'vlan_id'\u001b[0m: \u001b[0m'1'\u001b[0m}\u001b[0m,\n",
      "             \u001b[0m'1002'\u001b[0m: \u001b[0m{\u001b[0m \u001b[0m'mtu'\u001b[0m: \u001b[0m1500\u001b[0m,\n",
      "                       \u001b[0m'name'\u001b[0m: \u001b[0m'fddi-default'\u001b[0m,\n",
      "                       \u001b[0m'said'\u001b[0m: \u001b[0m101002\u001b[0m,\n",
      "                       \u001b[0m'shutdown'\u001b[0m: \u001b[0mFalse\u001b[0m,\n",
      "                       \u001b[0m'state'\u001b[0m: \u001b[0m'unsupport'\u001b[0m,\n",
      "                       \u001b[0m'trans1'\u001b[0m: \u001b[0m0\u001b[0m,\n",
      "                       \u001b[0m'trans2'\u001b[0m: \u001b[0m0\u001b[0m,\n",
      "                       \u001b[0m'type'\u001b[0m: \u001b[0m'fddi'\u001b[0m,\n",
      "                       \u001b[0m'vlan_id'\u001b[0m: \u001b[0m'1002'\u001b[0m}\u001b[0m,\n",
      "             \u001b[0m'1003'\u001b[0m: \u001b[0m{\u001b[0m \u001b[0m'mtu'\u001b[0m: \u001b[0m1500\u001b[0m,\n",
      "                       \u001b[0m'name'\u001b[0m: \u001b[0m'token-ring-default'\u001b[0m,\n",
      "                       \u001b[0m'said'\u001b[0m: \u001b[0m101003\u001b[0m,\n",
      "                       \u001b[0m'shutdown'\u001b[0m: \u001b[0mFalse\u001b[0m,\n",
      "                       \u001b[0m'state'\u001b[0m: \u001b[0m'unsupport'\u001b[0m,\n",
      "                       \u001b[0m'trans1'\u001b[0m: \u001b[0m0\u001b[0m,\n",
      "                       \u001b[0m'trans2'\u001b[0m: \u001b[0m0\u001b[0m,\n",
      "                       \u001b[0m'type'\u001b[0m: \u001b[0m'tr'\u001b[0m,\n",
      "                       \u001b[0m'vlan_id'\u001b[0m: \u001b[0m'1003'\u001b[0m}\u001b[0m,\n",
      "             \u001b[0m'1004'\u001b[0m: \u001b[0m{\u001b[0m \u001b[0m'mtu'\u001b[0m: \u001b[0m1500\u001b[0m,\n",
      "                       \u001b[0m'name'\u001b[0m: \u001b[0m'fddinet-default'\u001b[0m,\n",
      "                       \u001b[0m'said'\u001b[0m: \u001b[0m101004\u001b[0m,\n",
      "                       \u001b[0m'shutdown'\u001b[0m: \u001b[0mFalse\u001b[0m,\n",
      "                       \u001b[0m'state'\u001b[0m: \u001b[0m'unsupport'\u001b[0m,\n",
      "                       \u001b[0m'stp'\u001b[0m: \u001b[0m'ieee'\u001b[0m,\n",
      "                       \u001b[0m'trans1'\u001b[0m: \u001b[0m0\u001b[0m,\n",
      "                       \u001b[0m'trans2'\u001b[0m: \u001b[0m0\u001b[0m,\n",
      "                       \u001b[0m'type'\u001b[0m: \u001b[0m'fdnet'\u001b[0m,\n",
      "                       \u001b[0m'vlan_id'\u001b[0m: \u001b[0m'1004'\u001b[0m}\u001b[0m,\n",
      "             \u001b[0m'1005'\u001b[0m: \u001b[0m{\u001b[0m \u001b[0m'mtu'\u001b[0m: \u001b[0m1500\u001b[0m,\n",
      "                       \u001b[0m'name'\u001b[0m: \u001b[0m'trnet-default'\u001b[0m,\n",
      "                       \u001b[0m'said'\u001b[0m: \u001b[0m101005\u001b[0m,\n",
      "                       \u001b[0m'shutdown'\u001b[0m: \u001b[0mFalse\u001b[0m,\n",
      "                       \u001b[0m'state'\u001b[0m: \u001b[0m'unsupport'\u001b[0m,\n",
      "                       \u001b[0m'stp'\u001b[0m: \u001b[0m'ibm'\u001b[0m,\n",
      "                       \u001b[0m'trans1'\u001b[0m: \u001b[0m0\u001b[0m,\n",
      "                       \u001b[0m'trans2'\u001b[0m: \u001b[0m0\u001b[0m,\n",
      "                       \u001b[0m'type'\u001b[0m: \u001b[0m'trnet'\u001b[0m,\n",
      "                       \u001b[0m'vlan_id'\u001b[0m: \u001b[0m'1005'\u001b[0m}\u001b[0m}\u001b[0m}\u001b[0m\n",
      "\u001b[0m\u001b[1m\u001b[32m^^^^ END Get Vlans ^^^^^^^^^^^^^^^^^^^^^^^^^^^^^^^^^^^^^^^^^^^^^^^^^^^^^^^^^^^^^\u001b[0m\n",
      "\u001b[0m\u001b[1m\u001b[34m* SW5 ** changed : False *******************************************************\u001b[0m\n",
      "\u001b[0m\u001b[1m\u001b[32mvvvv Get Vlans ** changed : False vvvvvvvvvvvvvvvvvvvvvvvvvvvvvvvvvvvvvvvvvvvvvv INFO\u001b[0m\n",
      "\u001b[0m{\u001b[0m \u001b[0m'vlans'\u001b[0m: \u001b[0m{\u001b[0m \u001b[0m'1'\u001b[0m: \u001b[0m{\u001b[0m \u001b[0m'interfaces'\u001b[0m: \u001b[0m[\u001b[0m \u001b[0m\u001b[0m'GigabitEthernet0/1'\u001b[0m,\n",
      "                                    \u001b[0m'GigabitEthernet0/2'\u001b[0m,\n",
      "                                    \u001b[0m'GigabitEthernet0/3'\u001b[0m]\u001b[0m,\n",
      "                    \u001b[0m'mtu'\u001b[0m: \u001b[0m1500\u001b[0m,\n",
      "                    \u001b[0m'name'\u001b[0m: \u001b[0m'default'\u001b[0m,\n",
      "                    \u001b[0m'said'\u001b[0m: \u001b[0m100001\u001b[0m,\n",
      "                    \u001b[0m'shutdown'\u001b[0m: \u001b[0mFalse\u001b[0m,\n",
      "                    \u001b[0m'state'\u001b[0m: \u001b[0m'active'\u001b[0m,\n",
      "                    \u001b[0m'trans1'\u001b[0m: \u001b[0m0\u001b[0m,\n",
      "                    \u001b[0m'trans2'\u001b[0m: \u001b[0m0\u001b[0m,\n",
      "                    \u001b[0m'type'\u001b[0m: \u001b[0m'enet'\u001b[0m,\n",
      "                    \u001b[0m'vlan_id'\u001b[0m: \u001b[0m'1'\u001b[0m}\u001b[0m,\n",
      "             \u001b[0m'10'\u001b[0m: \u001b[0m{\u001b[0m \u001b[0m'mtu'\u001b[0m: \u001b[0m1500\u001b[0m,\n",
      "                     \u001b[0m'name'\u001b[0m: \u001b[0m'VLAN0010'\u001b[0m,\n",
      "                     \u001b[0m'said'\u001b[0m: \u001b[0m100010\u001b[0m,\n",
      "                     \u001b[0m'shutdown'\u001b[0m: \u001b[0mFalse\u001b[0m,\n",
      "                     \u001b[0m'state'\u001b[0m: \u001b[0m'active'\u001b[0m,\n",
      "                     \u001b[0m'trans1'\u001b[0m: \u001b[0m0\u001b[0m,\n",
      "                     \u001b[0m'trans2'\u001b[0m: \u001b[0m0\u001b[0m,\n",
      "                     \u001b[0m'type'\u001b[0m: \u001b[0m'enet'\u001b[0m,\n",
      "                     \u001b[0m'vlan_id'\u001b[0m: \u001b[0m'10'\u001b[0m}\u001b[0m,\n",
      "             \u001b[0m'1002'\u001b[0m: \u001b[0m{\u001b[0m \u001b[0m'mtu'\u001b[0m: \u001b[0m1500\u001b[0m,\n",
      "                       \u001b[0m'name'\u001b[0m: \u001b[0m'fddi-default'\u001b[0m,\n",
      "                       \u001b[0m'said'\u001b[0m: \u001b[0m101002\u001b[0m,\n",
      "                       \u001b[0m'shutdown'\u001b[0m: \u001b[0mFalse\u001b[0m,\n",
      "                       \u001b[0m'state'\u001b[0m: \u001b[0m'unsupport'\u001b[0m,\n",
      "                       \u001b[0m'trans1'\u001b[0m: \u001b[0m0\u001b[0m,\n",
      "                       \u001b[0m'trans2'\u001b[0m: \u001b[0m0\u001b[0m,\n",
      "                       \u001b[0m'type'\u001b[0m: \u001b[0m'fddi'\u001b[0m,\n",
      "                       \u001b[0m'vlan_id'\u001b[0m: \u001b[0m'1002'\u001b[0m}\u001b[0m,\n",
      "             \u001b[0m'1003'\u001b[0m: \u001b[0m{\u001b[0m \u001b[0m'mtu'\u001b[0m: \u001b[0m1500\u001b[0m,\n",
      "                       \u001b[0m'name'\u001b[0m: \u001b[0m'token-ring-default'\u001b[0m,\n",
      "                       \u001b[0m'said'\u001b[0m: \u001b[0m101003\u001b[0m,\n",
      "                       \u001b[0m'shutdown'\u001b[0m: \u001b[0mFalse\u001b[0m,\n",
      "                       \u001b[0m'state'\u001b[0m: \u001b[0m'unsupport'\u001b[0m,\n",
      "                       \u001b[0m'trans1'\u001b[0m: \u001b[0m0\u001b[0m,\n",
      "                       \u001b[0m'trans2'\u001b[0m: \u001b[0m0\u001b[0m,\n",
      "                       \u001b[0m'type'\u001b[0m: \u001b[0m'tr'\u001b[0m,\n",
      "                       \u001b[0m'vlan_id'\u001b[0m: \u001b[0m'1003'\u001b[0m}\u001b[0m,\n",
      "             \u001b[0m'1004'\u001b[0m: \u001b[0m{\u001b[0m \u001b[0m'mtu'\u001b[0m: \u001b[0m1500\u001b[0m,\n",
      "                       \u001b[0m'name'\u001b[0m: \u001b[0m'fddinet-default'\u001b[0m,\n",
      "                       \u001b[0m'said'\u001b[0m: \u001b[0m101004\u001b[0m,\n",
      "                       \u001b[0m'shutdown'\u001b[0m: \u001b[0mFalse\u001b[0m,\n",
      "                       \u001b[0m'state'\u001b[0m: \u001b[0m'unsupport'\u001b[0m,\n",
      "                       \u001b[0m'stp'\u001b[0m: \u001b[0m'ieee'\u001b[0m,\n",
      "                       \u001b[0m'trans1'\u001b[0m: \u001b[0m0\u001b[0m,\n",
      "                       \u001b[0m'trans2'\u001b[0m: \u001b[0m0\u001b[0m,\n",
      "                       \u001b[0m'type'\u001b[0m: \u001b[0m'fdnet'\u001b[0m,\n",
      "                       \u001b[0m'vlan_id'\u001b[0m: \u001b[0m'1004'\u001b[0m}\u001b[0m,\n",
      "             \u001b[0m'1005'\u001b[0m: \u001b[0m{\u001b[0m \u001b[0m'mtu'\u001b[0m: \u001b[0m1500\u001b[0m,\n",
      "                       \u001b[0m'name'\u001b[0m: \u001b[0m'trnet-default'\u001b[0m,\n",
      "                       \u001b[0m'said'\u001b[0m: \u001b[0m101005\u001b[0m,\n",
      "                       \u001b[0m'shutdown'\u001b[0m: \u001b[0mFalse\u001b[0m,\n",
      "                       \u001b[0m'state'\u001b[0m: \u001b[0m'unsupport'\u001b[0m,\n",
      "                       \u001b[0m'stp'\u001b[0m: \u001b[0m'ibm'\u001b[0m,\n",
      "                       \u001b[0m'trans1'\u001b[0m: \u001b[0m0\u001b[0m,\n",
      "                       \u001b[0m'trans2'\u001b[0m: \u001b[0m0\u001b[0m,\n",
      "                       \u001b[0m'type'\u001b[0m: \u001b[0m'trnet'\u001b[0m,\n",
      "                       \u001b[0m'vlan_id'\u001b[0m: \u001b[0m'1005'\u001b[0m}\u001b[0m,\n",
      "             \u001b[0m'20'\u001b[0m: \u001b[0m{\u001b[0m \u001b[0m'mtu'\u001b[0m: \u001b[0m1500\u001b[0m,\n",
      "                     \u001b[0m'name'\u001b[0m: \u001b[0m'VLAN0020'\u001b[0m,\n",
      "                     \u001b[0m'said'\u001b[0m: \u001b[0m100020\u001b[0m,\n",
      "                     \u001b[0m'shutdown'\u001b[0m: \u001b[0mFalse\u001b[0m,\n",
      "                     \u001b[0m'state'\u001b[0m: \u001b[0m'active'\u001b[0m,\n",
      "                     \u001b[0m'trans1'\u001b[0m: \u001b[0m0\u001b[0m,\n",
      "                     \u001b[0m'trans2'\u001b[0m: \u001b[0m0\u001b[0m,\n",
      "                     \u001b[0m'type'\u001b[0m: \u001b[0m'enet'\u001b[0m,\n",
      "                     \u001b[0m'vlan_id'\u001b[0m: \u001b[0m'20'\u001b[0m}\u001b[0m}\u001b[0m}\u001b[0m\n",
      "\u001b[0m\u001b[1m\u001b[32m^^^^ END Get Vlans ^^^^^^^^^^^^^^^^^^^^^^^^^^^^^^^^^^^^^^^^^^^^^^^^^^^^^^^^^^^^^\u001b[0m\n",
      "\u001b[0m\u001b[1m\u001b[34m* SW6 ** changed : False *******************************************************\u001b[0m\n",
      "\u001b[0m\u001b[1m\u001b[32mvvvv Get Vlans ** changed : False vvvvvvvvvvvvvvvvvvvvvvvvvvvvvvvvvvvvvvvvvvvvvv INFO\u001b[0m\n",
      "\u001b[0m{\u001b[0m \u001b[0m'vlans'\u001b[0m: \u001b[0m{\u001b[0m \u001b[0m'1'\u001b[0m: \u001b[0m{\u001b[0m \u001b[0m'interfaces'\u001b[0m: \u001b[0m['GigabitEthernet0/1']\u001b[0m,\n",
      "                    \u001b[0m'mtu'\u001b[0m: \u001b[0m1500\u001b[0m,\n",
      "                    \u001b[0m'name'\u001b[0m: \u001b[0m'default'\u001b[0m,\n",
      "                    \u001b[0m'said'\u001b[0m: \u001b[0m100001\u001b[0m,\n",
      "                    \u001b[0m'shutdown'\u001b[0m: \u001b[0mFalse\u001b[0m,\n",
      "                    \u001b[0m'state'\u001b[0m: \u001b[0m'active'\u001b[0m,\n",
      "                    \u001b[0m'trans1'\u001b[0m: \u001b[0m0\u001b[0m,\n",
      "                    \u001b[0m'trans2'\u001b[0m: \u001b[0m0\u001b[0m,\n",
      "                    \u001b[0m'type'\u001b[0m: \u001b[0m'enet'\u001b[0m,\n",
      "                    \u001b[0m'vlan_id'\u001b[0m: \u001b[0m'1'\u001b[0m}\u001b[0m,\n",
      "             \u001b[0m'10'\u001b[0m: \u001b[0m{\u001b[0m \u001b[0m'mtu'\u001b[0m: \u001b[0m1500\u001b[0m,\n",
      "                     \u001b[0m'name'\u001b[0m: \u001b[0m'VLAN0010'\u001b[0m,\n",
      "                     \u001b[0m'said'\u001b[0m: \u001b[0m100010\u001b[0m,\n",
      "                     \u001b[0m'shutdown'\u001b[0m: \u001b[0mFalse\u001b[0m,\n",
      "                     \u001b[0m'state'\u001b[0m: \u001b[0m'active'\u001b[0m,\n",
      "                     \u001b[0m'trans1'\u001b[0m: \u001b[0m0\u001b[0m,\n",
      "                     \u001b[0m'trans2'\u001b[0m: \u001b[0m0\u001b[0m,\n",
      "                     \u001b[0m'type'\u001b[0m: \u001b[0m'enet'\u001b[0m,\n",
      "                     \u001b[0m'vlan_id'\u001b[0m: \u001b[0m'10'\u001b[0m}\u001b[0m,\n",
      "             \u001b[0m'1002'\u001b[0m: \u001b[0m{\u001b[0m \u001b[0m'mtu'\u001b[0m: \u001b[0m1500\u001b[0m,\n",
      "                       \u001b[0m'name'\u001b[0m: \u001b[0m'fddi-default'\u001b[0m,\n",
      "                       \u001b[0m'said'\u001b[0m: \u001b[0m101002\u001b[0m,\n",
      "                       \u001b[0m'shutdown'\u001b[0m: \u001b[0mFalse\u001b[0m,\n",
      "                       \u001b[0m'state'\u001b[0m: \u001b[0m'unsupport'\u001b[0m,\n",
      "                       \u001b[0m'trans1'\u001b[0m: \u001b[0m0\u001b[0m,\n",
      "                       \u001b[0m'trans2'\u001b[0m: \u001b[0m0\u001b[0m,\n",
      "                       \u001b[0m'type'\u001b[0m: \u001b[0m'fddi'\u001b[0m,\n",
      "                       \u001b[0m'vlan_id'\u001b[0m: \u001b[0m'1002'\u001b[0m}\u001b[0m,\n",
      "             \u001b[0m'1003'\u001b[0m: \u001b[0m{\u001b[0m \u001b[0m'mtu'\u001b[0m: \u001b[0m1500\u001b[0m,\n",
      "                       \u001b[0m'name'\u001b[0m: \u001b[0m'token-ring-default'\u001b[0m,\n",
      "                       \u001b[0m'said'\u001b[0m: \u001b[0m101003\u001b[0m,\n",
      "                       \u001b[0m'shutdown'\u001b[0m: \u001b[0mFalse\u001b[0m,\n",
      "                       \u001b[0m'state'\u001b[0m: \u001b[0m'unsupport'\u001b[0m,\n",
      "                       \u001b[0m'trans1'\u001b[0m: \u001b[0m0\u001b[0m,\n",
      "                       \u001b[0m'trans2'\u001b[0m: \u001b[0m0\u001b[0m,\n",
      "                       \u001b[0m'type'\u001b[0m: \u001b[0m'tr'\u001b[0m,\n",
      "                       \u001b[0m'vlan_id'\u001b[0m: \u001b[0m'1003'\u001b[0m}\u001b[0m,\n",
      "             \u001b[0m'1004'\u001b[0m: \u001b[0m{\u001b[0m \u001b[0m'mtu'\u001b[0m: \u001b[0m1500\u001b[0m,\n",
      "                       \u001b[0m'name'\u001b[0m: \u001b[0m'fddinet-default'\u001b[0m,\n",
      "                       \u001b[0m'said'\u001b[0m: \u001b[0m101004\u001b[0m,\n",
      "                       \u001b[0m'shutdown'\u001b[0m: \u001b[0mFalse\u001b[0m,\n",
      "                       \u001b[0m'state'\u001b[0m: \u001b[0m'unsupport'\u001b[0m,\n",
      "                       \u001b[0m'stp'\u001b[0m: \u001b[0m'ieee'\u001b[0m,\n",
      "                       \u001b[0m'trans1'\u001b[0m: \u001b[0m0\u001b[0m,\n",
      "                       \u001b[0m'trans2'\u001b[0m: \u001b[0m0\u001b[0m,\n",
      "                       \u001b[0m'type'\u001b[0m: \u001b[0m'fdnet'\u001b[0m,\n",
      "                       \u001b[0m'vlan_id'\u001b[0m: \u001b[0m'1004'\u001b[0m}\u001b[0m,\n",
      "             \u001b[0m'1005'\u001b[0m: \u001b[0m{\u001b[0m \u001b[0m'mtu'\u001b[0m: \u001b[0m1500\u001b[0m,\n",
      "                       \u001b[0m'name'\u001b[0m: \u001b[0m'trnet-default'\u001b[0m,\n",
      "                       \u001b[0m'said'\u001b[0m: \u001b[0m101005\u001b[0m,\n",
      "                       \u001b[0m'shutdown'\u001b[0m: \u001b[0mFalse\u001b[0m,\n",
      "                       \u001b[0m'state'\u001b[0m: \u001b[0m'unsupport'\u001b[0m,\n",
      "                       \u001b[0m'stp'\u001b[0m: \u001b[0m'ibm'\u001b[0m,\n",
      "                       \u001b[0m'trans1'\u001b[0m: \u001b[0m0\u001b[0m,\n",
      "                       \u001b[0m'trans2'\u001b[0m: \u001b[0m0\u001b[0m,\n",
      "                       \u001b[0m'type'\u001b[0m: \u001b[0m'trnet'\u001b[0m,\n",
      "                       \u001b[0m'vlan_id'\u001b[0m: \u001b[0m'1005'\u001b[0m}\u001b[0m}\u001b[0m}\u001b[0m\n",
      "\u001b[0m\u001b[1m\u001b[32m^^^^ END Get Vlans ^^^^^^^^^^^^^^^^^^^^^^^^^^^^^^^^^^^^^^^^^^^^^^^^^^^^^^^^^^^^^\u001b[0m\n",
      "\u001b[0m\u001b[1m\u001b[34m* SW7 ** changed : False *******************************************************\u001b[0m\n",
      "\u001b[0m\u001b[1m\u001b[32mvvvv Get Vlans ** changed : False vvvvvvvvvvvvvvvvvvvvvvvvvvvvvvvvvvvvvvvvvvvvvv INFO\u001b[0m\n",
      "\u001b[0m{\u001b[0m \u001b[0m'vlans'\u001b[0m: \u001b[0m{\u001b[0m \u001b[0m'1'\u001b[0m: \u001b[0m{\u001b[0m \u001b[0m'interfaces'\u001b[0m: \u001b[0m['GigabitEthernet0/1']\u001b[0m,\n",
      "                    \u001b[0m'mtu'\u001b[0m: \u001b[0m1500\u001b[0m,\n",
      "                    \u001b[0m'name'\u001b[0m: \u001b[0m'default'\u001b[0m,\n",
      "                    \u001b[0m'said'\u001b[0m: \u001b[0m100001\u001b[0m,\n",
      "                    \u001b[0m'shutdown'\u001b[0m: \u001b[0mFalse\u001b[0m,\n",
      "                    \u001b[0m'state'\u001b[0m: \u001b[0m'active'\u001b[0m,\n",
      "                    \u001b[0m'trans1'\u001b[0m: \u001b[0m0\u001b[0m,\n",
      "                    \u001b[0m'trans2'\u001b[0m: \u001b[0m0\u001b[0m,\n",
      "                    \u001b[0m'type'\u001b[0m: \u001b[0m'enet'\u001b[0m,\n",
      "                    \u001b[0m'vlan_id'\u001b[0m: \u001b[0m'1'\u001b[0m}\u001b[0m,\n",
      "             \u001b[0m'1002'\u001b[0m: \u001b[0m{\u001b[0m \u001b[0m'mtu'\u001b[0m: \u001b[0m1500\u001b[0m,\n",
      "                       \u001b[0m'name'\u001b[0m: \u001b[0m'fddi-default'\u001b[0m,\n",
      "                       \u001b[0m'said'\u001b[0m: \u001b[0m101002\u001b[0m,\n",
      "                       \u001b[0m'shutdown'\u001b[0m: \u001b[0mFalse\u001b[0m,\n",
      "                       \u001b[0m'state'\u001b[0m: \u001b[0m'unsupport'\u001b[0m,\n",
      "                       \u001b[0m'trans1'\u001b[0m: \u001b[0m0\u001b[0m,\n",
      "                       \u001b[0m'trans2'\u001b[0m: \u001b[0m0\u001b[0m,\n",
      "                       \u001b[0m'type'\u001b[0m: \u001b[0m'fddi'\u001b[0m,\n",
      "                       \u001b[0m'vlan_id'\u001b[0m: \u001b[0m'1002'\u001b[0m}\u001b[0m,\n",
      "             \u001b[0m'1003'\u001b[0m: \u001b[0m{\u001b[0m \u001b[0m'mtu'\u001b[0m: \u001b[0m1500\u001b[0m,\n",
      "                       \u001b[0m'name'\u001b[0m: \u001b[0m'token-ring-default'\u001b[0m,\n",
      "                       \u001b[0m'said'\u001b[0m: \u001b[0m101003\u001b[0m,\n",
      "                       \u001b[0m'shutdown'\u001b[0m: \u001b[0mFalse\u001b[0m,\n",
      "                       \u001b[0m'state'\u001b[0m: \u001b[0m'unsupport'\u001b[0m,\n",
      "                       \u001b[0m'trans1'\u001b[0m: \u001b[0m0\u001b[0m,\n",
      "                       \u001b[0m'trans2'\u001b[0m: \u001b[0m0\u001b[0m,\n",
      "                       \u001b[0m'type'\u001b[0m: \u001b[0m'tr'\u001b[0m,\n",
      "                       \u001b[0m'vlan_id'\u001b[0m: \u001b[0m'1003'\u001b[0m}\u001b[0m,\n",
      "             \u001b[0m'1004'\u001b[0m: \u001b[0m{\u001b[0m \u001b[0m'mtu'\u001b[0m: \u001b[0m1500\u001b[0m,\n",
      "                       \u001b[0m'name'\u001b[0m: \u001b[0m'fddinet-default'\u001b[0m,\n",
      "                       \u001b[0m'said'\u001b[0m: \u001b[0m101004\u001b[0m,\n",
      "                       \u001b[0m'shutdown'\u001b[0m: \u001b[0mFalse\u001b[0m,\n",
      "                       \u001b[0m'state'\u001b[0m: \u001b[0m'unsupport'\u001b[0m,\n",
      "                       \u001b[0m'stp'\u001b[0m: \u001b[0m'ieee'\u001b[0m,\n",
      "                       \u001b[0m'trans1'\u001b[0m: \u001b[0m0\u001b[0m,\n",
      "                       \u001b[0m'trans2'\u001b[0m: \u001b[0m0\u001b[0m,\n",
      "                       \u001b[0m'type'\u001b[0m: \u001b[0m'fdnet'\u001b[0m,\n",
      "                       \u001b[0m'vlan_id'\u001b[0m: \u001b[0m'1004'\u001b[0m}\u001b[0m,\n",
      "             \u001b[0m'1005'\u001b[0m: \u001b[0m{\u001b[0m \u001b[0m'mtu'\u001b[0m: \u001b[0m1500\u001b[0m,\n",
      "                       \u001b[0m'name'\u001b[0m: \u001b[0m'trnet-default'\u001b[0m,\n",
      "                       \u001b[0m'said'\u001b[0m: \u001b[0m101005\u001b[0m,\n",
      "                       \u001b[0m'shutdown'\u001b[0m: \u001b[0mFalse\u001b[0m,\n",
      "                       \u001b[0m'state'\u001b[0m: \u001b[0m'unsupport'\u001b[0m,\n",
      "                       \u001b[0m'stp'\u001b[0m: \u001b[0m'ibm'\u001b[0m,\n",
      "                       \u001b[0m'trans1'\u001b[0m: \u001b[0m0\u001b[0m,\n",
      "                       \u001b[0m'trans2'\u001b[0m: \u001b[0m0\u001b[0m,\n",
      "                       \u001b[0m'type'\u001b[0m: \u001b[0m'trnet'\u001b[0m,\n",
      "                       \u001b[0m'vlan_id'\u001b[0m: \u001b[0m'1005'\u001b[0m}\u001b[0m,\n",
      "             \u001b[0m'20'\u001b[0m: \u001b[0m{\u001b[0m \u001b[0m'mtu'\u001b[0m: \u001b[0m1500\u001b[0m,\n",
      "                     \u001b[0m'name'\u001b[0m: \u001b[0m'VLAN0020'\u001b[0m,\n",
      "                     \u001b[0m'said'\u001b[0m: \u001b[0m100020\u001b[0m,\n",
      "                     \u001b[0m'shutdown'\u001b[0m: \u001b[0mFalse\u001b[0m,\n",
      "                     \u001b[0m'state'\u001b[0m: \u001b[0m'active'\u001b[0m,\n",
      "                     \u001b[0m'trans1'\u001b[0m: \u001b[0m0\u001b[0m,\n",
      "                     \u001b[0m'trans2'\u001b[0m: \u001b[0m0\u001b[0m,\n",
      "                     \u001b[0m'type'\u001b[0m: \u001b[0m'enet'\u001b[0m,\n",
      "                     \u001b[0m'vlan_id'\u001b[0m: \u001b[0m'20'\u001b[0m}\u001b[0m}\u001b[0m}\u001b[0m\n",
      "\u001b[0m\u001b[1m\u001b[32m^^^^ END Get Vlans ^^^^^^^^^^^^^^^^^^^^^^^^^^^^^^^^^^^^^^^^^^^^^^^^^^^^^^^^^^^^^\u001b[0m\n",
      "\u001b[0m"
     ]
    }
   ],
   "source": [
    "print_result(customVlanResult)"
   ]
  },
  {
   "cell_type": "markdown",
   "metadata": {},
   "source": [
    "## Creating a Graph with NetworkX"
   ]
  },
  {
   "cell_type": "markdown",
   "metadata": {},
   "source": [
    "### Importing Libraries"
   ]
  },
  {
   "cell_type": "code",
   "execution_count": 18,
   "metadata": {},
   "outputs": [],
   "source": [
    "import networkx as nx\n",
    "import matplotlib.pyplot as plt\n",
    "from networkx.drawing.nx_agraph import graphviz_layout"
   ]
  },
  {
   "cell_type": "markdown",
   "metadata": {},
   "source": [
    "### Creating Nodes"
   ]
  },
  {
   "cell_type": "code",
   "execution_count": 19,
   "metadata": {},
   "outputs": [
    {
     "data": {
      "text/plain": [
       "['SW1', 'SW2', 'SW3', 'SW4', 'SW5', 'SW6', 'SW7']"
      ]
     },
     "execution_count": 19,
     "metadata": {},
     "output_type": "execute_result"
    }
   ],
   "source": [
    "nodes = list(customCDPResult.keys())\n",
    "nodes"
   ]
  },
  {
   "cell_type": "code",
   "execution_count": 20,
   "metadata": {},
   "outputs": [],
   "source": [
    "G = nx.MultiGraph()\n",
    "G.add_nodes_from(nodes)"
   ]
  },
  {
   "cell_type": "code",
   "execution_count": 21,
   "metadata": {},
   "outputs": [
    {
     "data": {
      "text/plain": [
       "NodeView(('SW1', 'SW2', 'SW3', 'SW4', 'SW5', 'SW6', 'SW7'))"
      ]
     },
     "execution_count": 21,
     "metadata": {},
     "output_type": "execute_result"
    }
   ],
   "source": [
    "G.nodes"
   ]
  },
  {
   "cell_type": "markdown",
   "metadata": {},
   "source": [
    "## Accessing and adding data to nodes"
   ]
  },
  {
   "cell_type": "code",
   "execution_count": 22,
   "metadata": {},
   "outputs": [
    {
     "data": {
      "text/plain": [
       "{}"
      ]
     },
     "execution_count": 22,
     "metadata": {},
     "output_type": "execute_result"
    }
   ],
   "source": [
    "G.nodes['SW1']"
   ]
  },
  {
   "cell_type": "code",
   "execution_count": 23,
   "metadata": {},
   "outputs": [
    {
     "data": {
      "text/plain": [
       "{'Custom_Data': 'Some Data'}"
      ]
     },
     "execution_count": 23,
     "metadata": {},
     "output_type": "execute_result"
    }
   ],
   "source": [
    "G.nodes['SW1']['Custom_Data'] = \"Some Data\"\n",
    "G.nodes['SW1']"
   ]
  },
  {
   "cell_type": "code",
   "execution_count": 24,
   "metadata": {},
   "outputs": [
    {
     "data": {
      "text/plain": [
       "{}"
      ]
     },
     "execution_count": 24,
     "metadata": {},
     "output_type": "execute_result"
    }
   ],
   "source": [
    "del G.nodes['SW1']['Custom_Data']\n",
    "G.nodes['SW1']"
   ]
  },
  {
   "cell_type": "code",
   "execution_count": 25,
   "metadata": {},
   "outputs": [
    {
     "data": {
      "text/plain": [
       "{}"
      ]
     },
     "execution_count": 25,
     "metadata": {},
     "output_type": "execute_result"
    }
   ],
   "source": [
    "G.nodes['SW1']"
   ]
  },
  {
   "cell_type": "markdown",
   "metadata": {},
   "source": [
    "## Creating a Vlan Database on the Nodes"
   ]
  },
  {
   "cell_type": "code",
   "execution_count": 26,
   "metadata": {},
   "outputs": [
    {
     "data": {
      "text/plain": [
       "{'vlans': {'1': {'vlan_id': '1',\n",
       "   'name': 'default',\n",
       "   'shutdown': False,\n",
       "   'state': 'active',\n",
       "   'interfaces': ['GigabitEthernet0/1'],\n",
       "   'type': 'enet',\n",
       "   'said': 100001,\n",
       "   'mtu': 1500,\n",
       "   'trans1': 0,\n",
       "   'trans2': 0},\n",
       "  '10': {'vlan_id': '10',\n",
       "   'name': 'VLAN0010',\n",
       "   'shutdown': False,\n",
       "   'state': 'active',\n",
       "   'type': 'enet',\n",
       "   'said': 100010,\n",
       "   'mtu': 1500,\n",
       "   'trans1': 0,\n",
       "   'trans2': 0},\n",
       "  '1002': {'vlan_id': '1002',\n",
       "   'name': 'fddi-default',\n",
       "   'shutdown': False,\n",
       "   'state': 'unsupport',\n",
       "   'type': 'fddi',\n",
       "   'said': 101002,\n",
       "   'mtu': 1500,\n",
       "   'trans1': 0,\n",
       "   'trans2': 0},\n",
       "  '1003': {'vlan_id': '1003',\n",
       "   'name': 'token-ring-default',\n",
       "   'shutdown': False,\n",
       "   'state': 'unsupport',\n",
       "   'type': 'tr',\n",
       "   'said': 101003,\n",
       "   'mtu': 1500,\n",
       "   'trans1': 0,\n",
       "   'trans2': 0},\n",
       "  '1004': {'vlan_id': '1004',\n",
       "   'name': 'fddinet-default',\n",
       "   'shutdown': False,\n",
       "   'state': 'unsupport',\n",
       "   'type': 'fdnet',\n",
       "   'said': 101004,\n",
       "   'mtu': 1500,\n",
       "   'stp': 'ieee',\n",
       "   'trans1': 0,\n",
       "   'trans2': 0},\n",
       "  '1005': {'vlan_id': '1005',\n",
       "   'name': 'trnet-default',\n",
       "   'shutdown': False,\n",
       "   'state': 'unsupport',\n",
       "   'type': 'trnet',\n",
       "   'said': 101005,\n",
       "   'mtu': 1500,\n",
       "   'stp': 'ibm',\n",
       "   'trans1': 0,\n",
       "   'trans2': 0}}}"
      ]
     },
     "execution_count": 26,
     "metadata": {},
     "output_type": "execute_result"
    }
   ],
   "source": [
    "customVlanResult['SW6'].result"
   ]
  },
  {
   "cell_type": "code",
   "execution_count": 27,
   "metadata": {},
   "outputs": [],
   "source": [
    "for node in G.nodes:\n",
    "    node_vlanDB = []\n",
    "    for vlan in customVlanResult[node].result['vlans']:\n",
    "        vlan_data = customVlanResult[node].result['vlans'][vlan]\n",
    "        if(vlan_data['type'] == 'enet'):\n",
    "            node_vlanDB.append(vlan)\n",
    "    G.nodes[node]['vlans'] = node_vlanDB"
   ]
  },
  {
   "cell_type": "code",
   "execution_count": 28,
   "metadata": {},
   "outputs": [
    {
     "data": {
      "text/plain": [
       "NodeDataView({'SW1': {'vlans': ['1', '10']}, 'SW2': {'vlans': ['1', '10']}, 'SW3': {'vlans': ['1', '10']}, 'SW4': {'vlans': ['1']}, 'SW5': {'vlans': ['1', '10', '20']}, 'SW6': {'vlans': ['1', '10']}, 'SW7': {'vlans': ['1', '20']}})"
      ]
     },
     "execution_count": 28,
     "metadata": {},
     "output_type": "execute_result"
    }
   ],
   "source": [
    "G.nodes.data()"
   ]
  },
  {
   "cell_type": "markdown",
   "metadata": {},
   "source": [
    "## Connecting the Nodes"
   ]
  },
  {
   "cell_type": "markdown",
   "metadata": {},
   "source": [
    "### Creating edges"
   ]
  },
  {
   "cell_type": "code",
   "execution_count": 29,
   "metadata": {},
   "outputs": [
    {
     "data": {
      "text/plain": [
       "0"
      ]
     },
     "execution_count": 29,
     "metadata": {},
     "output_type": "execute_result"
    }
   ],
   "source": [
    "G.add_edge('SW1','SW2')"
   ]
  },
  {
   "cell_type": "code",
   "execution_count": 30,
   "metadata": {},
   "outputs": [
    {
     "data": {
      "text/plain": [
       "MultiEdgeView([('SW1', 'SW2', 0)])"
      ]
     },
     "execution_count": 30,
     "metadata": {},
     "output_type": "execute_result"
    }
   ],
   "source": [
    "G.edges"
   ]
  },
  {
   "cell_type": "code",
   "execution_count": 31,
   "metadata": {},
   "outputs": [
    {
     "data": {
      "text/plain": [
       "1"
      ]
     },
     "execution_count": 31,
     "metadata": {},
     "output_type": "execute_result"
    }
   ],
   "source": [
    "G.add_edge('SW1','SW2' , data=\"Some Data\")"
   ]
  },
  {
   "cell_type": "code",
   "execution_count": 32,
   "metadata": {},
   "outputs": [
    {
     "data": {
      "text/plain": [
       "MultiEdgeView([('SW1', 'SW2', 0), ('SW1', 'SW2', 1)])"
      ]
     },
     "execution_count": 32,
     "metadata": {},
     "output_type": "execute_result"
    }
   ],
   "source": [
    "G.edges"
   ]
  },
  {
   "cell_type": "code",
   "execution_count": 33,
   "metadata": {},
   "outputs": [
    {
     "data": {
      "text/plain": [
       "{}"
      ]
     },
     "execution_count": 33,
     "metadata": {},
     "output_type": "execute_result"
    }
   ],
   "source": [
    "G.edges[(('SW1', 'SW2', 0))]"
   ]
  },
  {
   "cell_type": "code",
   "execution_count": 34,
   "metadata": {},
   "outputs": [
    {
     "data": {
      "text/plain": [
       "{'data': 'Some Data'}"
      ]
     },
     "execution_count": 34,
     "metadata": {},
     "output_type": "execute_result"
    }
   ],
   "source": [
    "G.edges[(('SW1', 'SW2', 1))]"
   ]
  },
  {
   "cell_type": "code",
   "execution_count": 35,
   "metadata": {},
   "outputs": [
    {
     "data": {
      "text/plain": [
       "{'data': 'Some Data'}"
      ]
     },
     "execution_count": 35,
     "metadata": {},
     "output_type": "execute_result"
    }
   ],
   "source": [
    "G.edges[(('SW2', 'SW1', 1))]"
   ]
  },
  {
   "cell_type": "code",
   "execution_count": 36,
   "metadata": {},
   "outputs": [
    {
     "data": {
      "text/plain": [
       "{0: {}, 1: {'data': 'Some Data'}}"
      ]
     },
     "execution_count": 36,
     "metadata": {},
     "output_type": "execute_result"
    }
   ],
   "source": [
    "G.get_edge_data('SW1','SW2')"
   ]
  },
  {
   "cell_type": "code",
   "execution_count": 37,
   "metadata": {},
   "outputs": [],
   "source": [
    "G.clear_edges()"
   ]
  },
  {
   "cell_type": "code",
   "execution_count": 38,
   "metadata": {},
   "outputs": [
    {
     "data": {
      "text/plain": [
       "{'total_entries_displayed': 2,\n",
       " 'index': {1: {'device_id': 'SW5.local',\n",
       "   'duplex_mode': 'full',\n",
       "   'vtp_management_domain': ' ',\n",
       "   'native_vlan': '1',\n",
       "   'management_addresses': {'172.16.30.95': {}},\n",
       "   'entry_addresses': {'172.16.30.95': {}},\n",
       "   'capabilities': 'Router Switch IGMP',\n",
       "   'platform': 'Cisco ',\n",
       "   'port_id': 'GigabitEthernet0/1',\n",
       "   'local_interface': 'GigabitEthernet0/2',\n",
       "   'hold_time': 134,\n",
       "   'software_version': 'Cisco IOS Software, vios_l2 Software (vios_l2-ADVENTERPRISEK9-M), Version 15.2(CML_NIGHTLY_20180619)FLO_DSGS7, EARLY DEPLOYMENT DEVELOPMENT BUILD, synced to  V152_6_0_81_E\\nTechnical Support: http://www.cisco.com/techsupport\\nCopyright (c) 1986-2018 by Cisco Systems, Inc.\\nCompiled Tue 19-Jun-18 06:06 by mmen',\n",
       "   'advertisement_ver': 2},\n",
       "  2: {'device_id': 'SW3.local',\n",
       "   'duplex_mode': 'full',\n",
       "   'vtp_management_domain': ' ',\n",
       "   'native_vlan': '1',\n",
       "   'management_addresses': {'172.16.30.93': {}},\n",
       "   'entry_addresses': {'172.16.30.93': {}},\n",
       "   'capabilities': 'Router Switch IGMP',\n",
       "   'platform': 'Cisco ',\n",
       "   'port_id': 'GigabitEthernet0/3',\n",
       "   'local_interface': 'GigabitEthernet0/1',\n",
       "   'hold_time': 131,\n",
       "   'software_version': 'Cisco IOS Software, vios_l2 Software (vios_l2-ADVENTERPRISEK9-M), Version 15.2(CML_NIGHTLY_20180619)FLO_DSGS7, EARLY DEPLOYMENT DEVELOPMENT BUILD, synced to  V152_6_0_81_E\\nTechnical Support: http://www.cisco.com/techsupport\\nCopyright (c) 1986-2018 by Cisco Systems, Inc.\\nCompiled Tue 19-Jun-18 06:06 by mmen',\n",
       "   'advertisement_ver': 2}}}"
      ]
     },
     "execution_count": 38,
     "metadata": {},
     "output_type": "execute_result"
    }
   ],
   "source": [
    "customCDPResult['SW4'].result"
   ]
  },
  {
   "cell_type": "code",
   "execution_count": 39,
   "metadata": {},
   "outputs": [
    {
     "data": {
      "text/plain": [
       "{1: {'device_id': 'SW5.local',\n",
       "  'duplex_mode': 'full',\n",
       "  'vtp_management_domain': ' ',\n",
       "  'native_vlan': '1',\n",
       "  'management_addresses': {'172.16.30.95': {}},\n",
       "  'entry_addresses': {'172.16.30.95': {}},\n",
       "  'capabilities': 'Router Switch IGMP',\n",
       "  'platform': 'Cisco ',\n",
       "  'port_id': 'GigabitEthernet0/1',\n",
       "  'local_interface': 'GigabitEthernet0/2',\n",
       "  'hold_time': 134,\n",
       "  'software_version': 'Cisco IOS Software, vios_l2 Software (vios_l2-ADVENTERPRISEK9-M), Version 15.2(CML_NIGHTLY_20180619)FLO_DSGS7, EARLY DEPLOYMENT DEVELOPMENT BUILD, synced to  V152_6_0_81_E\\nTechnical Support: http://www.cisco.com/techsupport\\nCopyright (c) 1986-2018 by Cisco Systems, Inc.\\nCompiled Tue 19-Jun-18 06:06 by mmen',\n",
       "  'advertisement_ver': 2},\n",
       " 2: {'device_id': 'SW3.local',\n",
       "  'duplex_mode': 'full',\n",
       "  'vtp_management_domain': ' ',\n",
       "  'native_vlan': '1',\n",
       "  'management_addresses': {'172.16.30.93': {}},\n",
       "  'entry_addresses': {'172.16.30.93': {}},\n",
       "  'capabilities': 'Router Switch IGMP',\n",
       "  'platform': 'Cisco ',\n",
       "  'port_id': 'GigabitEthernet0/3',\n",
       "  'local_interface': 'GigabitEthernet0/1',\n",
       "  'hold_time': 131,\n",
       "  'software_version': 'Cisco IOS Software, vios_l2 Software (vios_l2-ADVENTERPRISEK9-M), Version 15.2(CML_NIGHTLY_20180619)FLO_DSGS7, EARLY DEPLOYMENT DEVELOPMENT BUILD, synced to  V152_6_0_81_E\\nTechnical Support: http://www.cisco.com/techsupport\\nCopyright (c) 1986-2018 by Cisco Systems, Inc.\\nCompiled Tue 19-Jun-18 06:06 by mmen',\n",
       "  'advertisement_ver': 2}}"
      ]
     },
     "execution_count": 39,
     "metadata": {},
     "output_type": "execute_result"
    }
   ],
   "source": [
    "customCDPResult['SW4'].result['index']"
   ]
  },
  {
   "cell_type": "code",
   "execution_count": 40,
   "metadata": {},
   "outputs": [
    {
     "data": {
      "text/plain": [
       "{'device_id': 'SW5.local',\n",
       " 'duplex_mode': 'full',\n",
       " 'vtp_management_domain': ' ',\n",
       " 'native_vlan': '1',\n",
       " 'management_addresses': {'172.16.30.95': {}},\n",
       " 'entry_addresses': {'172.16.30.95': {}},\n",
       " 'capabilities': 'Router Switch IGMP',\n",
       " 'platform': 'Cisco ',\n",
       " 'port_id': 'GigabitEthernet0/1',\n",
       " 'local_interface': 'GigabitEthernet0/2',\n",
       " 'hold_time': 134,\n",
       " 'software_version': 'Cisco IOS Software, vios_l2 Software (vios_l2-ADVENTERPRISEK9-M), Version 15.2(CML_NIGHTLY_20180619)FLO_DSGS7, EARLY DEPLOYMENT DEVELOPMENT BUILD, synced to  V152_6_0_81_E\\nTechnical Support: http://www.cisco.com/techsupport\\nCopyright (c) 1986-2018 by Cisco Systems, Inc.\\nCompiled Tue 19-Jun-18 06:06 by mmen',\n",
       " 'advertisement_ver': 2}"
      ]
     },
     "execution_count": 40,
     "metadata": {},
     "output_type": "execute_result"
    }
   ],
   "source": [
    "customCDPResult['SW4'].result['index'][1]"
   ]
  },
  {
   "cell_type": "code",
   "execution_count": 41,
   "metadata": {},
   "outputs": [
    {
     "data": {
      "text/plain": [
       "{'device_id': 'SW4.local',\n",
       " 'duplex_mode': 'full',\n",
       " 'vtp_management_domain': ' ',\n",
       " 'native_vlan': '1',\n",
       " 'management_addresses': {'172.16.30.94': {}},\n",
       " 'entry_addresses': {'172.16.30.94': {}},\n",
       " 'capabilities': 'Router Switch IGMP',\n",
       " 'platform': 'Cisco ',\n",
       " 'port_id': 'GigabitEthernet0/2',\n",
       " 'local_interface': 'GigabitEthernet0/1',\n",
       " 'hold_time': 130,\n",
       " 'software_version': 'Cisco IOS Software, vios_l2 Software (vios_l2-ADVENTERPRISEK9-M), Version 15.2(CML_NIGHTLY_20180619)FLO_DSGS7, EARLY DEPLOYMENT DEVELOPMENT BUILD, synced to  V152_6_0_81_E\\nTechnical Support: http://www.cisco.com/techsupport\\nCopyright (c) 1986-2018 by Cisco Systems, Inc.\\nCompiled Tue 19-Jun-18 06:06 by mmen',\n",
       " 'advertisement_ver': 2}"
      ]
     },
     "execution_count": 41,
     "metadata": {},
     "output_type": "execute_result"
    }
   ],
   "source": [
    "customCDPResult['SW5'].result['index'][3]"
   ]
  },
  {
   "cell_type": "code",
   "execution_count": 42,
   "metadata": {},
   "outputs": [],
   "source": [
    "for node in G.nodes:\n",
    "    neighbors = customCDPResult[node].result['index']\n",
    "    for nei_ix in neighbors:\n",
    "        neighbor = customCDPResult[node].result['index'][nei_ix]\n",
    "        data = {}\n",
    "        data[node] = {\n",
    "            'local_interface' : neighbor['local_interface'],\n",
    "            'remote_interface': neighbor['port_id'],\n",
    "            'remote_device' : neighbor['device_id'].split(\".\")[0],\n",
    "        }\n",
    "        data[neighbor['device_id'].split(\".\")[0]] = {\n",
    "            'local_interface' : neighbor['port_id'],\n",
    "            'remote_interface': neighbor['local_interface'],\n",
    "            'remote_device' : node,\n",
    "        }\n",
    "        if(G.has_edge(node , neighbor['device_id'].split(\".\")[0] )):\n",
    "            nodes_data = G.get_edge_data(node , neighbor['device_id'].split(\".\")[0])\n",
    "            mapped = False\n",
    "            for data in nodes_data:\n",
    "                edge_data = nodes_data[data]['data']\n",
    "                if(edge_data[node]['local_interface'] == neighbor['local_interface']):\n",
    "                    mapped = True\n",
    "            if(not mapped):\n",
    "                G.add_edge(node, neighbor['device_id'].split(\".\")[0] , data=data )\n",
    "        else:\n",
    "            G.add_edge(node, neighbor['device_id'].split(\".\")[0] , data=data )"
   ]
  },
  {
   "cell_type": "code",
   "execution_count": 43,
   "metadata": {},
   "outputs": [
    {
     "data": {
      "text/plain": [
       "MultiEdgeDataView([('SW1', 'SW3'), ('SW2', 'SW3'), ('SW3', 'SW4'), ('SW4', 'SW5'), ('SW5', 'SW7'), ('SW5', 'SW6')])"
      ]
     },
     "execution_count": 43,
     "metadata": {},
     "output_type": "execute_result"
    }
   ],
   "source": [
    "G.edges()"
   ]
  },
  {
   "cell_type": "code",
   "execution_count": 44,
   "metadata": {},
   "outputs": [
    {
     "data": {
      "text/plain": [
       "MultiEdgeDataView([('SW1', 'SW3', {'data': {'SW1': {'local_interface': 'GigabitEthernet0/1', 'remote_interface': 'GigabitEthernet0/2', 'remote_device': 'SW3'}, 'SW3': {'local_interface': 'GigabitEthernet0/2', 'remote_interface': 'GigabitEthernet0/1', 'remote_device': 'SW1'}}}), ('SW2', 'SW3', {'data': {'SW2': {'local_interface': 'GigabitEthernet0/1', 'remote_interface': 'GigabitEthernet0/1', 'remote_device': 'SW3'}, 'SW3': {'local_interface': 'GigabitEthernet0/1', 'remote_interface': 'GigabitEthernet0/1', 'remote_device': 'SW2'}}}), ('SW3', 'SW4', {'data': {'SW3': {'local_interface': 'GigabitEthernet0/3', 'remote_interface': 'GigabitEthernet0/1', 'remote_device': 'SW4'}, 'SW4': {'local_interface': 'GigabitEthernet0/1', 'remote_interface': 'GigabitEthernet0/3', 'remote_device': 'SW3'}}}), ('SW4', 'SW5', {'data': {'SW4': {'local_interface': 'GigabitEthernet0/2', 'remote_interface': 'GigabitEthernet0/1', 'remote_device': 'SW5'}, 'SW5': {'local_interface': 'GigabitEthernet0/1', 'remote_interface': 'GigabitEthernet0/2', 'remote_device': 'SW4'}}}), ('SW5', 'SW7', {'data': {'SW5': {'local_interface': 'GigabitEthernet0/3', 'remote_interface': 'GigabitEthernet0/1', 'remote_device': 'SW7'}, 'SW7': {'local_interface': 'GigabitEthernet0/1', 'remote_interface': 'GigabitEthernet0/3', 'remote_device': 'SW5'}}}), ('SW5', 'SW6', {'data': {'SW5': {'local_interface': 'GigabitEthernet0/2', 'remote_interface': 'GigabitEthernet0/1', 'remote_device': 'SW6'}, 'SW6': {'local_interface': 'GigabitEthernet0/1', 'remote_interface': 'GigabitEthernet0/2', 'remote_device': 'SW5'}}})])"
      ]
     },
     "execution_count": 44,
     "metadata": {},
     "output_type": "execute_result"
    }
   ],
   "source": [
    "G.edges.data()"
   ]
  },
  {
   "cell_type": "code",
   "execution_count": 45,
   "metadata": {},
   "outputs": [
    {
     "data": {
      "text/plain": [
       "{'local_interface': 'GigabitEthernet0/1',\n",
       " 'remote_interface': 'GigabitEthernet0/2',\n",
       " 'remote_device': 'SW3'}"
      ]
     },
     "execution_count": 45,
     "metadata": {},
     "output_type": "execute_result"
    }
   ],
   "source": [
    "G.edges[('SW1', 'SW3',0)]['data']['SW1']"
   ]
  },
  {
   "cell_type": "code",
   "execution_count": 46,
   "metadata": {},
   "outputs": [
    {
     "data": {
      "text/plain": [
       "{'local_interface': 'GigabitEthernet0/2',\n",
       " 'remote_interface': 'GigabitEthernet0/1',\n",
       " 'remote_device': 'SW1'}"
      ]
     },
     "execution_count": 46,
     "metadata": {},
     "output_type": "execute_result"
    }
   ],
   "source": [
    "G.edges[('SW1', 'SW3',0)]['data']['SW3']"
   ]
  },
  {
   "cell_type": "markdown",
   "metadata": {},
   "source": [
    "## Creating a subgraph"
   ]
  },
  {
   "cell_type": "code",
   "execution_count": 47,
   "metadata": {},
   "outputs": [],
   "source": [
    "vlan10Nodes = []\n",
    "for node in G.nodes:\n",
    "    if '10' in G.nodes[node]['vlans']:\n",
    "        vlan10Nodes.append(node)"
   ]
  },
  {
   "cell_type": "code",
   "execution_count": 48,
   "metadata": {},
   "outputs": [
    {
     "data": {
      "text/plain": [
       "['SW1', 'SW2', 'SW3', 'SW5', 'SW6']"
      ]
     },
     "execution_count": 48,
     "metadata": {},
     "output_type": "execute_result"
    }
   ],
   "source": [
    "vlan10Nodes"
   ]
  },
  {
   "cell_type": "code",
   "execution_count": 49,
   "metadata": {},
   "outputs": [],
   "source": [
    "vlan10Graph = nx.subgraph(G , vlan10Nodes)"
   ]
  },
  {
   "cell_type": "code",
   "execution_count": 50,
   "metadata": {},
   "outputs": [
    {
     "data": {
      "text/plain": [
       "NodeView(('SW1', 'SW2', 'SW3', 'SW5', 'SW6'))"
      ]
     },
     "execution_count": 50,
     "metadata": {},
     "output_type": "execute_result"
    }
   ],
   "source": [
    "vlan10Graph.nodes"
   ]
  },
  {
   "cell_type": "code",
   "execution_count": 51,
   "metadata": {},
   "outputs": [
    {
     "data": {
      "text/plain": [
       "MultiEdgeView([('SW1', 'SW3', 0), ('SW2', 'SW3', 0), ('SW5', 'SW6', 0)])"
      ]
     },
     "execution_count": 51,
     "metadata": {},
     "output_type": "execute_result"
    }
   ],
   "source": [
    "vlan10Graph.edges"
   ]
  },
  {
   "cell_type": "code",
   "execution_count": 52,
   "metadata": {},
   "outputs": [
    {
     "data": {
      "image/png": "[encoded data removed]",
      "text/plain": [
       "<Figure size 360x360 with 1 Axes>"
      ]
     },
     "metadata": {},
     "output_type": "display_data"
    }
   ],
   "source": [
    "plt.figure(figsize=(5, 5))\n",
    "nx.draw(G, with_labels=True)"
   ]
  },
  {
   "cell_type": "code",
   "execution_count": 53,
   "metadata": {},
   "outputs": [
    {
     "data": {
      "image/png": "[encoded data removed]",
      "text/plain": [
       "<Figure size 360x360 with 1 Axes>"
      ]
     },
     "metadata": {},
     "output_type": "display_data"
    }
   ],
   "source": [
    "plt.figure(figsize=(5, 5))\n",
    "nx.draw(vlan10Graph, with_labels=True)"
   ]
  },
  {
   "cell_type": "code",
   "execution_count": 54,
   "metadata": {},
   "outputs": [
    {
     "data": {
      "text/plain": [
       "[{'SW1', 'SW2', 'SW3'}, {'SW5', 'SW6'}]"
      ]
     },
     "execution_count": 54,
     "metadata": {},
     "output_type": "execute_result"
    }
   ],
   "source": [
    "list(nx.connected_components(vlan10Graph))"
   ]
  },
  {
   "cell_type": "code",
   "execution_count": 55,
   "metadata": {},
   "outputs": [
    {
     "data": {
      "text/plain": [
       "2"
      ]
     },
     "execution_count": 55,
     "metadata": {},
     "output_type": "execute_result"
    }
   ],
   "source": [
    "len(list(nx.connected_components(vlan10Graph)))"
   ]
  },
  {
   "cell_type": "code",
   "execution_count": 56,
   "metadata": {},
   "outputs": [
    {
     "data": {
      "text/plain": [
       "[['SW6', 'SW5', 'SW4', 'SW3', 'SW2']]"
      ]
     },
     "execution_count": 56,
     "metadata": {},
     "output_type": "execute_result"
    }
   ],
   "source": [
    "list(nx.all_simple_paths(G, source='SW6', target='SW2'))"
   ]
  },
  {
   "cell_type": "code",
   "execution_count": 57,
   "metadata": {},
   "outputs": [
    {
     "name": "stdout",
     "output_type": "stream",
     "text": [
      "Node SW4 without VLAN configuration\u001b[0m\n",
      "\u001b[0m"
     ]
    }
   ],
   "source": [
    "for path in nx.all_simple_paths(G, source='SW6', target='SW2'):\n",
    "    for node in path:\n",
    "        if( not vlan10Graph.has_node(node)):\n",
    "            print(f\"Node {node} without VLAN configuration\")"
   ]
  },
  {
   "cell_type": "markdown",
   "metadata": {},
   "source": [
    "## Pusshing data to NetBox"
   ]
  },
  {
   "cell_type": "markdown",
   "metadata": {},
   "source": [
    "### Creating device"
   ]
  },
  {
   "cell_type": "code",
   "execution_count": 58,
   "metadata": {},
   "outputs": [],
   "source": [
    "import warnings\n",
    "warnings.filterwarnings('ignore')\n",
    "import requests"
   ]
  },
  {
   "cell_type": "code",
   "execution_count": 59,
   "metadata": {},
   "outputs": [],
   "source": [
    "api_token = \"e0843675e1ff3f1d316a32edab1537e7a63364f4\"\n",
    "headers = {\n",
    "        'accept': 'application/json',\n",
    "        'Authorization': f\"Token {api_token}\",\n",
    "    }\n",
    "\n",
    "url = 'https://192.168.0.7/api'\n",
    "endpoint = '/dcim/platforms/'\n",
    "URI = f\"{url}{endpoint}\"\n",
    "platform_params = {\n",
    "        'name': 'ios',\n",
    "}\n",
    "r = requests.get(URI, headers=headers, params=platform_params, verify=False)\n",
    "platform_response = r.json()"
   ]
  },
  {
   "cell_type": "code",
   "execution_count": 60,
   "metadata": {},
   "outputs": [
    {
     "data": {
      "text/plain": [
       "{'count': 1,\n",
       " 'next': None,\n",
       " 'previous': None,\n",
       " 'results': [{'id': 2,\n",
       "   'url': 'https://192.168.0.7/api/dcim/platforms/2/',\n",
       "   'name': 'ios',\n",
       "   'slug': 'ios',\n",
       "   'manufacturer': {'id': 3,\n",
       "    'url': 'https://192.168.0.7/api/dcim/manufacturers/3/',\n",
       "    'name': 'Cisco',\n",
       "    'slug': 'cisco'},\n",
       "   'napalm_driver': '',\n",
       "   'napalm_args': None,\n",
       "   'description': '',\n",
       "   'device_count': None,\n",
       "   'virtualmachine_count': None}]}"
      ]
     },
     "execution_count": 60,
     "metadata": {},
     "output_type": "execute_result"
    }
   ],
   "source": [
    "platform_response"
   ]
  },
  {
   "cell_type": "code",
   "execution_count": 61,
   "metadata": {},
   "outputs": [],
   "source": [
    "def CreateDevice(device_name, device_type , device_role , platform , site ):\n",
    "    api_token = \"e0843675e1ff3f1d316a32edab1537e7a63364f4\"\n",
    "    headers = {\n",
    "        'accept': 'application/json',\n",
    "        'Authorization': f\"Token {api_token}\",\n",
    "    }\n",
    "    \n",
    "    url = 'https://192.168.0.7/api'\n",
    "    endpoint = '/dcim/platforms/'\n",
    "    URI = f\"{url}{endpoint}\"\n",
    "    platform_params = {\n",
    "        'name': platform,\n",
    "    }\n",
    "    r = requests.get(URI, headers=headers, params=platform_params, verify=False)\n",
    "    platform_response = r.json()\n",
    "    platform_id = platform_response['results'][0]['id']\n",
    "    \n",
    "    endpoint = '/dcim/sites/'\n",
    "    URI = f\"{url}{endpoint}\"\n",
    "    sites_params = {\n",
    "        'name': site,\n",
    "    }\n",
    "    r = requests.get(URI, headers=headers, params=sites_params, verify=False)\n",
    "    site_response = r.json()\n",
    "    site_id = site_response['results'][0]['id']\n",
    "    \n",
    "    endpoint = '/dcim/device-roles/'\n",
    "    URI = f\"{url}{endpoint}\"\n",
    "    role_params = {\n",
    "        'name': device_role,\n",
    "    }\n",
    "    r = requests.get(URI, headers=headers, params=role_params, verify=False)\n",
    "    role_response = r.json()\n",
    "    role_id = role_response['results'][0]['id']\n",
    "    \n",
    "    endpoint = '/dcim/device-types/'\n",
    "    URI = f\"{url}{endpoint}\"\n",
    "    type_params = {\n",
    "        'model': device_type,\n",
    "    }\n",
    "    r = requests.get(URI, headers=headers, params=type_params, verify=False)\n",
    "    type_response = r.json()\n",
    "    type_id = type_response['results'][0]['id']\n",
    "    \n",
    "    endpoint = '/dcim/devices/'\n",
    "    URI = f\"{url}{endpoint}\"\n",
    "    device_payload = {\n",
    "        \"name\": device_name,\n",
    "        \"device_type\": type_id,\n",
    "        \"device_role\": role_id,\n",
    "        \"platform\":  platform_id,\n",
    "        \"site\": site_id\n",
    "    }\n",
    "    r = requests.post(URI, headers=headers, json=device_payload, verify=False)\n",
    "    return r.status_code"
   ]
  },
  {
   "cell_type": "code",
   "execution_count": 62,
   "metadata": {},
   "outputs": [],
   "source": [
    "for node in G.nodes:\n",
    "    device_type = \"IOSv\"\n",
    "    device_role = \"DC\"\n",
    "    platform =  \"ios\"\n",
    "    site = 'DataCenter'\n",
    "    CreateDevice(node,  device_type , device_role , platform , site )"
   ]
  },
  {
   "cell_type": "markdown",
   "metadata": {},
   "source": [
    "## Creating connections"
   ]
  },
  {
   "cell_type": "code",
   "execution_count": 64,
   "metadata": {},
   "outputs": [],
   "source": [
    "def connectDevices(localDevice , localInterface , remoteDevice, remoteInterface):\n",
    "    api_token = \"e0843675e1ff3f1d316a32edab1537e7a63364f4\"\n",
    "    headers = {\n",
    "        'accept': 'application/json',\n",
    "        'Authorization': f\"Token {api_token}\",\n",
    "    }\n",
    "    termination_type = \"dcim.interface\"\n",
    "    url = 'https://192.168.0.7/api'\n",
    "    endpoint = '/dcim/interfaces/'\n",
    "    URI = f\"{url}{endpoint}\"\n",
    "    localData = {\n",
    "        'name': localInterface,\n",
    "        'device' : localDevice\n",
    "    }\n",
    "    r = requests.get(URI, headers=headers, params=localData, verify=False)\n",
    "    localResponse = r.json()\n",
    "    localId = localResponse['results'][0]['id']\n",
    "    remoteData = {\n",
    "        'name': remoteInterface,\n",
    "        'device' : remoteDevice\n",
    "    }\n",
    "    r = requests.get(URI, headers=headers, params=remoteData, verify=False)\n",
    "    remoteResponse = r.json()\n",
    "    remoteId = remoteResponse['results'][0]['id']\n",
    "    payload = {\n",
    "        \"termination_a_type\": termination_type,\n",
    "        \"termination_a_id\": localId,\n",
    "        \"termination_b_type\": termination_type,\n",
    "        \"termination_b_id\": remoteId,\n",
    "    }\n",
    "    endpoint = '/dcim/cables/'\n",
    "    URI = f\"{url}{endpoint}\"\n",
    "    r = requests.post(URI, headers=headers, json=payload, verify=False)\n",
    "    return r.status_code"
   ]
  },
  {
   "cell_type": "code",
   "execution_count": 65,
   "metadata": {},
   "outputs": [],
   "source": [
    "for edge in G.edges:\n",
    "    localDevice = edge[0]\n",
    "    localInterface = G.edges[edge]['data'][edge[0]]['local_interface']\n",
    "    remoteDevice = G.edges[edge]['data'][edge[0]]['remote_device']\n",
    "    remoteInterface = G.edges[edge]['data'][edge[0]]['remote_interface']\n",
    "    connectDevices(localDevice , localInterface , remoteDevice, remoteInterface)"
   ]
  },
  {
   "cell_type": "code",
   "execution_count": null,
   "metadata": {},
   "outputs": [],
   "source": []
  }
 ],
 "metadata": {
  "kernelspec": {
   "display_name": "Python 3",
   "language": "python",
   "name": "python3"
  },
  "language_info": {
   "codemirror_mode": {
    "name": "ipython",
    "version": 3
   },
   "file_extension": ".py",
   "mimetype": "text/x-python",
   "name": "python",
   "nbconvert_exporter": "python",
   "pygments_lexer": "ipython3",
   "version": "3.6.8"
  }
 },
 "nbformat": 4,
 "nbformat_minor": 4
}
